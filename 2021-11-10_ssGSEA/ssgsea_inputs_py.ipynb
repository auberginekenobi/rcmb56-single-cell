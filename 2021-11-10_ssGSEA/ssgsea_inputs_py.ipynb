{
 "cells": [
  {
   "cell_type": "markdown",
   "id": "f6996f29",
   "metadata": {},
   "source": [
    "# gmt"
   ]
  },
  {
   "cell_type": "code",
   "execution_count": 3,
   "id": "411922be",
   "metadata": {
    "ExecuteTime": {
     "end_time": "2021-11-15T17:11:40.308055Z",
     "start_time": "2021-11-15T17:11:40.295296Z"
    }
   },
   "outputs": [
    {
     "data": {
      "text/plain": [
       "'/mnt/c/Users/ochapman/Documents/Mesirov/scRNA+ATAC/2021-11-10_ssGSEA'"
      ]
     },
     "execution_count": 3,
     "metadata": {},
     "output_type": "execute_result"
    }
   ],
   "source": [
    "import os\n",
    "os.getcwd()"
   ]
  },
  {
   "cell_type": "code",
   "execution_count": 8,
   "id": "3d5ae97e",
   "metadata": {
    "ExecuteTime": {
     "end_time": "2021-11-15T17:19:51.964337Z",
     "start_time": "2021-11-15T17:19:51.942726Z"
    }
   },
   "outputs": [],
   "source": [
    "files = ['RCMB56_1.hg38.bed','RCMB56_2.hg38.bed']\n",
    "root='/mnt/c/Users/ochapman/Documents/Mesirov/medullo_ecDNA/amplified-intervals-bed/pdx-genes/'\n",
    "string = ''\n",
    "for i in range(len(files)):\n",
    "    file = files[i]\n",
    "    file = root+file\n",
    "    genes = []\n",
    "    with open(file,'r') as f:\n",
    "        for line in f:\n",
    "            genes.append(line.split()[3])\n",
    "    genes=['RCMB56_'+str(i+1),'']+genes\n",
    "    string += '\\t'.join(genes)+'\\n'\n",
    "\n",
    "outfile = \"ecDNA.gmt\"\n",
    "with open(outfile,'w') as g:\n",
    "    g.write(string)"
   ]
  },
  {
   "cell_type": "code",
   "execution_count": null,
   "id": "6f8561df",
   "metadata": {},
   "outputs": [],
   "source": []
  }
 ],
 "metadata": {
  "kernelspec": {
   "display_name": "Python 3 (ipykernel)",
   "language": "python",
   "name": "python3"
  },
  "language_info": {
   "codemirror_mode": {
    "name": "ipython",
    "version": 3
   },
   "file_extension": ".py",
   "mimetype": "text/x-python",
   "name": "python",
   "nbconvert_exporter": "python",
   "pygments_lexer": "ipython3",
   "version": "3.7.12"
  }
 },
 "nbformat": 4,
 "nbformat_minor": 5
}
