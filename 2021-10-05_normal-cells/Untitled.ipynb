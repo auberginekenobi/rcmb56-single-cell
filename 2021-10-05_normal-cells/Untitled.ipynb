{
 "cells": [
  {
   "cell_type": "code",
   "execution_count": 14,
   "id": "43e333ad",
   "metadata": {
    "ExecuteTime": {
     "end_time": "2021-10-05T19:53:43.475011Z",
     "start_time": "2021-10-05T19:53:43.447001Z"
    }
   },
   "outputs": [
    {
     "name": "stdout",
     "output_type": "stream",
     "text": [
      "Cells from known nontumor clusters 6,7,9,10: 231\n"
     ]
    }
   ],
   "source": [
    "# generate a set of high-confidence normal cells for Sunita to input to copyKAT\n",
    "import pandas as pd\n",
    "def get_normal_ht():\n",
    "    file = '../rcmb56-ht_master_table.tsv'\n",
    "    df = pd.read_csv(file,sep='\\t',index_col=0)\n",
    "    \n",
    "    # cells from clusters 6,7,9,10\n",
    "    df = df[(df.seurat_clusters==6)|(df.seurat_clusters==7)|(df.seurat_clusters==9)|(df.seurat_clusters==10)]\n",
    "    print(\"Cells from known nontumor clusters 6,7,9,10: {}\".format(len(df)))\n",
    "    \n",
    "    # negative ecDNA for all 3\n",
    "    #df = df[(~df.ecDNA1 )& (~df.ecDNA2) & (~df.ecDNA3)]\n",
    "    #print(\"Cells negative for ecDNA: {}\".format(len(df)))\n",
    "    return df\n",
    "df=get_normal_ht()"
   ]
  },
  {
   "cell_type": "code",
   "execution_count": 23,
   "id": "21e4c142",
   "metadata": {
    "ExecuteTime": {
     "end_time": "2021-10-05T19:59:44.730840Z",
     "start_time": "2021-10-05T19:59:44.715509Z"
    }
   },
   "outputs": [],
   "source": [
    "for i in range(6,11):\n",
    "    filepath=\"seurat_c\"+str(i)+\"_ids.txt\"\n",
    "    with open(filepath,'w') as g:\n",
    "        g.writelines(map(lambda x: x+'\\n',df[df.seurat_clusters == i].index))"
   ]
  },
  {
   "cell_type": "code",
   "execution_count": 28,
   "id": "c9c312bf",
   "metadata": {
    "ExecuteTime": {
     "end_time": "2021-10-05T23:30:47.657255Z",
     "start_time": "2021-10-05T23:30:47.652706Z"
    }
   },
   "outputs": [
    {
     "data": {
      "text/plain": [
       "qc_pass_seurat                   True\n",
       "nCount_RNA                        551\n",
       "nFeature_RNA                      455\n",
       "percent.mt                     3.0853\n",
       "nCount_ATAC                      1755\n",
       "nFeature_ATAC                     891\n",
       "seurat_clusters                     6\n",
       "ecDNA1                           True\n",
       "ecDNA2                          False\n",
       "ecDNA3                           True\n",
       "empirical p-val_ecDNA1     0.00799201\n",
       "z-score_ecDNA1                7.70862\n",
       "empirical p-val_ecDNA2              1\n",
       "z-score_ecDNA2              -0.601664\n",
       "empirical p-val_ecDNA3    0.000999001\n",
       "z-score_ecDNA3                25.9912\n",
       "metacell_id                        14\n",
       "Name: AGGGCTACAGCCAGAA-1, dtype: object"
      ]
     },
     "execution_count": 28,
     "metadata": {},
     "output_type": "execute_result"
    }
   ],
   "source": [
    "df.loc['AGGGCTACAGCCAGAA-1',:]"
   ]
  },
  {
   "cell_type": "code",
   "execution_count": 33,
   "id": "f063e2af",
   "metadata": {
    "ExecuteTime": {
     "end_time": "2021-10-05T23:33:08.876638Z",
     "start_time": "2021-10-05T23:33:08.820226Z"
    }
   },
   "outputs": [],
   "source": [
    "# add ecDNA annotations\n",
    "root=\"/mnt/c/Users/ochapman/Documents/Mesirov/scRNA+ATAC/\"\n",
    "ecDNA_file = root+\"2021-08-17_featurecounts-permutation-2/RCMB56-ht_cell-classifications.tsv\"\n",
    "ecDNA=pd.read_csv(ecDNA_file,sep='\\t',index_col=0)\n",
    "df=ecDNA\n",
    "for i in range(1,4):\n",
    "    ecDNA_file=root+\"2021-08-17_featurecounts-permutation-2/RCMB56-ht_ecDNA\"+str(i)+\"_poisson.tsv\"\n",
    "    ecDNA=pd.read_csv(ecDNA_file,sep='\\t',index_col=0)\n",
    "    #ecDNA=ecDNA[['empirical p-val','z-score']]\n",
    "    ecDNA.columns = map(lambda x: x+\"_ecDNA\"+str(i),ecDNA.columns)\n",
    "    df=df.join(ecDNA,how='left')\n",
    "df.loc['AGGGCTACAGCCAGAA-1',:]"
   ]
  },
  {
   "cell_type": "code",
   "execution_count": 34,
   "id": "bd4ff58c",
   "metadata": {
    "ExecuteTime": {
     "end_time": "2021-10-05T23:33:09.052057Z",
     "start_time": "2021-10-05T23:33:09.045001Z"
    }
   },
   "outputs": [
    {
     "data": {
      "text/plain": [
       "ecDNA1                           True\n",
       "ecDNA2                          False\n",
       "ecDNA3                           True\n",
       "Observed_ecDNA1                     5\n",
       "empirical p-val_ecDNA1     0.00799201\n",
       "mu_ecDNA1                       0.362\n",
       "poisson_pval_ecDNA1       3.83641e-05\n",
       "z-score_ecDNA1                7.70862\n",
       "Observed_ecDNA2                     0\n",
       "empirical p-val_ecDNA2              1\n",
       "mu_ecDNA2                       0.362\n",
       "poisson_pval_ecDNA2                 1\n",
       "z-score_ecDNA2              -0.601664\n",
       "Observed_ecDNA3                    16\n",
       "empirical p-val_ecDNA3    0.000999001\n",
       "mu_ecDNA3                       0.362\n",
       "poisson_pval_ecDNA3       2.95692e-21\n",
       "z-score_ecDNA3                25.9912\n",
       "Name: AGGGCTACAGCCAGAA-1, dtype: object"
      ]
     },
     "execution_count": 34,
     "metadata": {},
     "output_type": "execute_result"
    }
   ],
   "source": []
  },
  {
   "cell_type": "code",
   "execution_count": null,
   "id": "c94b0454",
   "metadata": {},
   "outputs": [],
   "source": []
  }
 ],
 "metadata": {
  "kernelspec": {
   "display_name": "Python [conda env:root] *",
   "language": "python",
   "name": "conda-root-py"
  },
  "language_info": {
   "codemirror_mode": {
    "name": "ipython",
    "version": 3
   },
   "file_extension": ".py",
   "mimetype": "text/x-python",
   "name": "python",
   "nbconvert_exporter": "python",
   "pygments_lexer": "ipython3",
   "version": "3.7.8"
  }
 },
 "nbformat": 4,
 "nbformat_minor": 5
}
