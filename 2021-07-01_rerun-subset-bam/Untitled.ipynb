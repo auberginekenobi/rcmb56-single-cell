{
 "cells": [
  {
   "cell_type": "code",
   "execution_count": null,
   "metadata": {},
   "outputs": [],
   "source": []
  },
  {
   "cell_type": "code",
   "execution_count": 16,
   "metadata": {
    "ExecuteTime": {
     "end_time": "2021-07-01T21:02:51.791932Z",
     "start_time": "2021-07-01T21:02:51.788038Z"
    }
   },
   "outputs": [],
   "source": [
    "def get_failed_runs(logfile='runtask2.log'):\n",
    "    with open(logfile, 'r') as f:\n",
    "        failed = []\n",
    "        f.readline() # Seq\tHost\tStarttime\tJobRuntime\tSend\tReceive\tExitval\tSignal\tCommand\n",
    "        for line in f:\n",
    "            line = line.strip().split('\\t')\n",
    "            if len(line) >= 9 and line[6] != '0': # if exitval != 0\n",
    "                command = line[8].split(' ')\n",
    "                barcode = command[-2]\n",
    "                failed.append(barcode)\n",
    "    return failed"
   ]
  },
  {
   "cell_type": "code",
   "execution_count": 21,
   "metadata": {
    "ExecuteTime": {
     "end_time": "2021-07-01T21:05:05.605607Z",
     "start_time": "2021-07-01T21:05:05.598360Z"
    }
   },
   "outputs": [],
   "source": [
    "with open('rerun.txt', 'w') as g:\n",
    "    lines = get_failed_runs()\n",
    "    for line in lines:\n",
    "        g.write(line+'\\n')"
   ]
  },
  {
   "cell_type": "code",
   "execution_count": 11,
   "metadata": {
    "ExecuteTime": {
     "end_time": "2021-07-01T21:01:25.572973Z",
     "start_time": "2021-07-01T21:01:25.570046Z"
    }
   },
   "outputs": [],
   "source": [
    "f=open('runtask2.log','r')"
   ]
  },
  {
   "cell_type": "code",
   "execution_count": 12,
   "metadata": {
    "ExecuteTime": {
     "end_time": "2021-07-01T21:01:27.462766Z",
     "start_time": "2021-07-01T21:01:27.459302Z"
    }
   },
   "outputs": [
    {
     "data": {
      "text/plain": [
       "<_io.TextIOWrapper name='runtask2.log' mode='r' encoding='UTF-8'>"
      ]
     },
     "execution_count": 12,
     "metadata": {},
     "output_type": "execute_result"
    }
   ],
   "source": [
    "with open('runtask2.log','r') as f:\n",
    "    for line in f.readlines()"
   ]
  },
  {
   "cell_type": "code",
   "execution_count": 13,
   "metadata": {
    "ExecuteTime": {
     "end_time": "2021-07-01T21:01:30.904725Z",
     "start_time": "2021-07-01T21:01:30.900348Z"
    }
   },
   "outputs": [
    {
     "data": {
      "text/plain": [
       "'Seq\\tHost\\tStarttime\\tJobRuntime\\tSend\\tReceive\\tExitval\\tSignal\\tCommand\\n'"
      ]
     },
     "execution_count": 13,
     "metadata": {},
     "output_type": "execute_result"
    }
   ],
   "source": [
    "f.readline()"
   ]
  },
  {
   "cell_type": "code",
   "execution_count": null,
   "metadata": {},
   "outputs": [],
   "source": []
  }
 ],
 "metadata": {
  "kernelspec": {
   "display_name": "Python 3",
   "language": "python",
   "name": "python3"
  },
  "language_info": {
   "codemirror_mode": {
    "name": "ipython",
    "version": 3
   },
   "file_extension": ".py",
   "mimetype": "text/x-python",
   "name": "python",
   "nbconvert_exporter": "python",
   "pygments_lexer": "ipython3",
   "version": "3.7.8"
  }
 },
 "nbformat": 4,
 "nbformat_minor": 4
}
