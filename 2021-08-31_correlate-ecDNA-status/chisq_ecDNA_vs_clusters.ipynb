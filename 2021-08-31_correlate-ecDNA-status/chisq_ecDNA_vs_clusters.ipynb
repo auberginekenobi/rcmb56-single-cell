{
 "cells": [
  {
   "cell_type": "code",
   "execution_count": null,
   "id": "a9780a18",
   "metadata": {},
   "outputs": [],
   "source": [
    "# Want to...\n",
    "# perform chi-sq test for association between ecDNA T/F and cluster assignment.\n",
    "# Association between two categorical random variables --> chi-sq"
   ]
  },
  {
   "cell_type": "code",
   "execution_count": 20,
   "id": "7d10ebf2",
   "metadata": {
    "ExecuteTime": {
     "end_time": "2021-09-02T23:27:17.116812Z",
     "start_time": "2021-09-02T23:27:16.327137Z"
    }
   },
   "outputs": [],
   "source": [
    "import scipy.stats\n",
    "import numpy as np\n",
    "import pandas as pd\n",
    "import os\n",
    "os.chdir('/mnt/c/Users/ochapman/Documents/Mesirov/scRNA+ATAC/2021-08-31_correlate-ecDNA-status')"
   ]
  },
  {
   "cell_type": "code",
   "execution_count": 46,
   "id": "c070bb53",
   "metadata": {
    "ExecuteTime": {
     "end_time": "2021-09-02T23:55:52.395279Z",
     "start_time": "2021-09-02T23:55:52.347058Z"
    }
   },
   "outputs": [
    {
     "data": {
      "text/plain": [
       "(122.70641161067402,\n",
       " 5.1707307869032215e-21,\n",
       " 11,\n",
       "                  size  observed (%)  expected (%)\n",
       " seurat_clusters                                  \n",
       " 0                 712     92.837079     91.894737\n",
       " 1                 668     84.730539     91.894737\n",
       " 2                 527     92.789374     91.894737\n",
       " 3                 491     91.649695     91.894737\n",
       " 4                 378     92.857143     91.894737\n",
       " 5                 344     98.546512     91.894737\n",
       " 6                 307     99.022801     91.894737\n",
       " 7                 102     79.411765     91.894737\n",
       " 8                  97     95.876289     91.894737\n",
       " 9                  63     85.714286     91.894737\n",
       " 10                 57    100.000000     91.894737\n",
       " 11                 54     87.037037     91.894737)"
      ]
     },
     "execution_count": 46,
     "metadata": {},
     "output_type": "execute_result"
    }
   ],
   "source": [
    "SAMPLE='RCMB56-ht'\n",
    "ecDNA_classifications_file=\"../2021-08-17_featurecounts-permutation-2/\"+SAMPLE+\"_cell-classifications.tsv\"\n",
    "seurat_metadata_file=\"../2021-08-29_seurat/\"+SAMPLE.lower()+\"_seurat_metadata.tsv\"\n",
    "ECDNA='ecDNA1'\n",
    "\n",
    "def read_ecDNA_status(tsv,ecDNA):\n",
    "    '''\n",
    "    tsv (string): path to a table barcodes x ecDNA (bool)\n",
    "    ecDNA (string): one of 'ecDNA1', 'ecDNA2', 'ecDNA3'\n",
    "    return (pd.Series of bool)\n",
    "    '''\n",
    "    df = pd.read_csv(tsv,sep='\\t',index_col=0)\n",
    "    return df[ecDNA]\n",
    "#read_ecDNA_status(ecDNA_classifications_file,'ecDNA1')\n",
    "\n",
    "def read_cluster_idents(tsv):\n",
    "    '''\n",
    "    tsv (string): path to a saved metadata file obtained by seurat_object[[]]\n",
    "    '''\n",
    "    df = pd.read_csv(tsv,sep='\\t',index_col=0)\n",
    "    return df[['seurat_clusters']]\n",
    "\n",
    "def run_chisq():\n",
    "    e = read_ecDNA_status(ecDNA_classifications_file,ECDNA)\n",
    "    c = read_cluster_idents(seurat_metadata_file)\n",
    "    df = pd.concat([e,c],axis=1,join='inner')\n",
    "    tbl = pd.crosstab(df[ECDNA],df['seurat_clusters'])\n",
    "    (chi2,pval,dof,expected) = scipy.stats.chi2_contingency(tbl)\n",
    "    df = pd.DataFrame(data=tbl.sum(axis=0),columns=['size'])\n",
    "    df['observed (%)'] = tbl.loc[True]/tbl.sum(axis=0)*100\n",
    "    df['expected (%)'] = expected[1]/np.sum(expected,axis=0)*100\n",
    "    return chi2,pval,dof,df\n",
    "run_chisq()"
   ]
  },
  {
   "cell_type": "code",
   "execution_count": 47,
   "id": "8a4c178d",
   "metadata": {
    "ExecuteTime": {
     "end_time": "2021-09-03T00:00:48.735015Z",
     "start_time": "2021-09-03T00:00:48.693934Z"
    }
   },
   "outputs": [
    {
     "data": {
      "text/plain": [
       "(54.32212918572303,\n",
       " 1.0309151327899141e-07,\n",
       " 11,\n",
       "                  size  observed (%)  expected (%)\n",
       " seurat_clusters                                  \n",
       " 0                 712     99.297753     98.894737\n",
       " 1                 668     96.556886     98.894737\n",
       " 2                 527     99.430740     98.894737\n",
       " 3                 491     99.185336     98.894737\n",
       " 4                 378     99.735450     98.894737\n",
       " 5                 344    100.000000     98.894737\n",
       " 6                 307     99.674267     98.894737\n",
       " 7                 102     96.078431     98.894737\n",
       " 8                  97    100.000000     98.894737\n",
       " 9                  63    100.000000     98.894737\n",
       " 10                 57    100.000000     98.894737\n",
       " 11                 54     98.148148     98.894737)"
      ]
     },
     "execution_count": 47,
     "metadata": {},
     "output_type": "execute_result"
    }
   ],
   "source": [
    "SAMPLE='RCMB56-ht'\n",
    "ecDNA_classifications_file=\"../2021-08-17_featurecounts-permutation-2/\"+SAMPLE+\"_cell-classifications.tsv\"\n",
    "seurat_metadata_file=\"../2021-08-29_seurat/\"+SAMPLE.lower()+\"_seurat_metadata.tsv\"\n",
    "ECDNA='ecDNA2'\n",
    "\n",
    "run_chisq()"
   ]
  },
  {
   "cell_type": "code",
   "execution_count": 48,
   "id": "7c0c5b9a",
   "metadata": {
    "ExecuteTime": {
     "end_time": "2021-09-03T00:02:39.066276Z",
     "start_time": "2021-09-03T00:02:38.989870Z"
    }
   },
   "outputs": [
    {
     "data": {
      "text/plain": [
       "(177.85115306787384,\n",
       " 7.734039612624224e-29,\n",
       " 17,\n",
       "                  size  observed (%)  expected (%)\n",
       " seurat_clusters                                  \n",
       " 0                1836     99.400871     98.477958\n",
       " 1                1436     97.701950     98.477958\n",
       " 2                 977     99.488229     98.477958\n",
       " 3                 974     99.075975     98.477958\n",
       " 4                 850     99.411765     98.477958\n",
       " 5                 762     99.737533     98.477958\n",
       " 6                 726     95.730028     98.477958\n",
       " 7                 469     96.588486     98.477958\n",
       " 8                 462     99.783550     98.477958\n",
       " 9                 454     99.559471     98.477958\n",
       " 10                393     98.982188     98.477958\n",
       " 11                378     93.386243     98.477958\n",
       " 12                316     98.101266     98.477958\n",
       " 13                208     96.634615     98.477958\n",
       " 14                186     99.462366     98.477958\n",
       " 15                141    100.000000     98.477958\n",
       " 16                136     95.588235     98.477958\n",
       " 17                 71    100.000000     98.477958)"
      ]
     },
     "execution_count": 48,
     "metadata": {},
     "output_type": "execute_result"
    }
   ],
   "source": [
    "SAMPLE='RCMB56-pdx'\n",
    "ecDNA_classifications_file=\"../2021-08-17_featurecounts-permutation-2/\"+SAMPLE+\"_cell-classifications.tsv\"\n",
    "seurat_metadata_file=\"../2021-08-29_seurat/\"+SAMPLE.lower()+\"_seurat_metadata.tsv\"\n",
    "ECDNA='ecDNA1'\n",
    "\n",
    "run_chisq()"
   ]
  },
  {
   "cell_type": "code",
   "execution_count": 49,
   "id": "7116604d",
   "metadata": {
    "ExecuteTime": {
     "end_time": "2021-09-03T00:02:49.003966Z",
     "start_time": "2021-09-03T00:02:48.934414Z"
    }
   },
   "outputs": [
    {
     "data": {
      "text/plain": [
       "(66.00676531429008,\n",
       " 1.038054696589301e-07,\n",
       " 17,\n",
       "                  size  observed (%)  expected (%)\n",
       " seurat_clusters                                  \n",
       " 0                1836     99.945534     99.610209\n",
       " 1                1436     99.860724     99.610209\n",
       " 2                 977     98.259980     99.610209\n",
       " 3                 974     99.691992     99.610209\n",
       " 4                 850     99.764706     99.610209\n",
       " 5                 762     99.606299     99.610209\n",
       " 6                 726     99.586777     99.610209\n",
       " 7                 469     99.786780     99.610209\n",
       " 8                 462     99.134199     99.610209\n",
       " 9                 454     99.779736     99.610209\n",
       " 10                393    100.000000     99.610209\n",
       " 11                378     99.735450     99.610209\n",
       " 12                316    100.000000     99.610209\n",
       " 13                208    100.000000     99.610209\n",
       " 14                186     99.462366     99.610209\n",
       " 15                141     98.581560     99.610209\n",
       " 16                136     99.264706     99.610209\n",
       " 17                 71    100.000000     99.610209)"
      ]
     },
     "execution_count": 49,
     "metadata": {},
     "output_type": "execute_result"
    }
   ],
   "source": [
    "SAMPLE='RCMB56-pdx'\n",
    "ecDNA_classifications_file=\"../2021-08-17_featurecounts-permutation-2/\"+SAMPLE+\"_cell-classifications.tsv\"\n",
    "seurat_metadata_file=\"../2021-08-29_seurat/\"+SAMPLE.lower()+\"_seurat_metadata.tsv\"\n",
    "ECDNA='ecDNA2'\n",
    "\n",
    "run_chisq()"
   ]
  },
  {
   "cell_type": "code",
   "execution_count": null,
   "id": "637e2512",
   "metadata": {},
   "outputs": [],
   "source": []
  }
 ],
 "metadata": {
  "kernelspec": {
   "display_name": "Python [conda env:root] *",
   "language": "python",
   "name": "conda-root-py"
  },
  "language_info": {
   "codemirror_mode": {
    "name": "ipython",
    "version": 3
   },
   "file_extension": ".py",
   "mimetype": "text/x-python",
   "name": "python",
   "nbconvert_exporter": "python",
   "pygments_lexer": "ipython3",
   "version": "3.7.8"
  }
 },
 "nbformat": 4,
 "nbformat_minor": 5
}
