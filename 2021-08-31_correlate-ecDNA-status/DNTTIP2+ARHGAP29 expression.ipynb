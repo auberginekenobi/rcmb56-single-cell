{
 "cells": [
  {
   "cell_type": "markdown",
   "id": "2a1a272e",
   "metadata": {},
   "source": [
    "9/8/2021\n",
    "\n",
    "Correlation with ARHGAP29\n",
    "\n",
    "BACKGROUND\n",
    "ARHGAP29 shows as much more highly \"expressed\" in metacell heatmaps. Is it a better candidate\n",
    "oncogene?\n",
    "\n",
    "METHODS\n",
    "Generated correlations with ARHGAP29 to ecDNA z-scores alongside DNTTIP2\n",
    "\n",
    "RESULTS\n",
    "Almost zero correlation between ARHGAP29 and ecDNA1 z-score.\n",
    "\n",
    "DISCUSSION\n",
    "What is going on with overall single cell expression distributions?\n",
    "Could be that the heatmaps are not sample- and gene-normalized.\n",
    "\n",
    "#################################################################################\n",
    "\n",
    "Plot histograms of ARHGAP29, DNTTIP2 expression from seurat, which we know is corrected."
   ]
  },
  {
   "cell_type": "code",
   "execution_count": 12,
   "id": "33dda1dd",
   "metadata": {
    "ExecuteTime": {
     "end_time": "2021-09-09T15:56:35.438372Z",
     "start_time": "2021-09-09T15:56:35.435159Z"
    }
   },
   "outputs": [],
   "source": [
    "import pandas as pd\n",
    "import seaborn as sns\n",
    "import scipy\n",
    "import numpy as np\n",
    "import os\n",
    "import matplotlib.pyplot as plt\n",
    "os.chdir('/mnt/c/Users/ochapman/Documents/Mesirov/scRNA+ATAC/2021-08-31_correlate-ecDNA-status')"
   ]
  },
  {
   "cell_type": "code",
   "execution_count": 21,
   "id": "5bdfebff",
   "metadata": {
    "ExecuteTime": {
     "end_time": "2021-09-09T16:22:22.798568Z",
     "start_time": "2021-09-09T16:22:22.794754Z"
    }
   },
   "outputs": [],
   "source": [
    "SAMPLE='rcmb56-pdx'"
   ]
  },
  {
   "cell_type": "code",
   "execution_count": 22,
   "id": "513c156c",
   "metadata": {
    "ExecuteTime": {
     "end_time": "2021-09-09T16:22:23.487205Z",
     "start_time": "2021-09-09T16:22:23.198789Z"
    }
   },
   "outputs": [
    {
     "data": {
      "image/png": "[encoded data removed]",
      "text/plain": [
       "<Figure size 720x432 with 1 Axes>"
      ]
     },
     "metadata": {
      "needs_background": "light"
     },
     "output_type": "display_data"
    }
   ],
   "source": [
    "def get_gene_expression():\n",
    "    gene_tbl=\"../2021-08-29_seurat/\"+SAMPLE+\"_arhgap29.sct.data.tsv\"\n",
    "    g = pd.read_csv(gene_tbl,sep='\\t',index_col=1)\n",
    "    g=g[\"ARHGAP29\"]\n",
    "    gene_tbl=\"../2021-08-29_seurat/\"+SAMPLE+\"_dnttip2.sct.data.tsv\"\n",
    "    h = pd.read_csv(gene_tbl,sep='\\t',index_col=1)\n",
    "    h=h[\"DNTTIP2\"]\n",
    "    df = pd.concat([g,h],axis=1,join='inner')\n",
    "    return df\n",
    "\n",
    "def plot_histogram_gene_expression():\n",
    "    plt.figure(figsize=(10,6))\n",
    "    df = get_gene_expression()\n",
    "    df = np.log(df+1)\n",
    "    sns.histplot(data=df)\n",
    "plot_histogram_gene_expression()"
   ]
  },
  {
   "cell_type": "code",
   "execution_count": 18,
   "id": "df3f538e",
   "metadata": {
    "ExecuteTime": {
     "end_time": "2021-09-09T16:01:12.019095Z",
     "start_time": "2021-09-09T16:01:11.990240Z"
    }
   },
   "outputs": [
    {
     "data": {
      "text/plain": [
       "ARHGAP29    0.010257\n",
       "DNTTIP2     0.894536\n",
       "dtype: float64"
      ]
     },
     "execution_count": 18,
     "metadata": {},
     "output_type": "execute_result"
    }
   ],
   "source": [
    "df = get_gene_expression()\n",
    "df.mean()"
   ]
  },
  {
   "cell_type": "code",
   "execution_count": null,
   "id": "46e7b0ea",
   "metadata": {},
   "outputs": [],
   "source": []
  }
 ],
 "metadata": {
  "kernelspec": {
   "display_name": "Python [conda env:root] *",
   "language": "python",
   "name": "conda-root-py"
  },
  "language_info": {
   "codemirror_mode": {
    "name": "ipython",
    "version": 3
   },
   "file_extension": ".py",
   "mimetype": "text/x-python",
   "name": "python",
   "nbconvert_exporter": "python",
   "pygments_lexer": "ipython3",
   "version": "3.7.8"
  }
 },
 "nbformat": 4,
 "nbformat_minor": 5
}
