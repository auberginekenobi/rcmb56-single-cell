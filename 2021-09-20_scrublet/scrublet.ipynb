{
 "cells": [
  {
   "cell_type": "code",
   "execution_count": 3,
   "id": "b7cb5dcf",
   "metadata": {
    "ExecuteTime": {
     "end_time": "2021-09-20T23:13:33.207069Z",
     "start_time": "2021-09-20T23:13:28.554036Z"
    }
   },
   "outputs": [],
   "source": [
    "%matplotlib inline\n",
    "import scrublet as scr\n",
    "import scipy.io\n",
    "import matplotlib.pyplot as plt\n",
    "import numpy as np\n",
    "import os\n",
    "\n",
    "plt.rcParams['font.family'] = 'sans-serif'\n",
    "plt.rcParams['font.sans-serif'] = 'Arial'\n",
    "plt.rc('font', size=14)\n",
    "plt.rcParams['pdf.fonttype'] = 42"
   ]
  },
  {
   "cell_type": "code",
   "execution_count": 22,
   "id": "46040a1e",
   "metadata": {
    "ExecuteTime": {
     "end_time": "2021-09-20T23:45:24.672307Z",
     "start_time": "2021-09-20T23:45:24.668992Z"
    }
   },
   "outputs": [],
   "source": [
    "SAMPLE='RCMB56-pdx'"
   ]
  },
  {
   "cell_type": "code",
   "execution_count": 23,
   "id": "5932a768",
   "metadata": {
    "ExecuteTime": {
     "end_time": "2021-09-20T23:47:29.753449Z",
     "start_time": "2021-09-20T23:45:25.060254Z"
    }
   },
   "outputs": [
    {
     "name": "stdout",
     "output_type": "stream",
     "text": [
      "Counts matrix shape: 12869 rows, 36601 columns\n",
      "Number of genes in gene list: 36601\n"
     ]
    }
   ],
   "source": [
    "# Get data\n",
    "if SAMPLE == 'RCMB56-ht':\n",
    "    input_dir = '../RCMB56-ht/cellranger-2.0.0/outs/filtered_feature_bc_matrix'\n",
    "elif SAMPLE == 'RCMB56-pdx':\n",
    "    input_dir = '../RCMB56-pdx/RCMB56-pdx/outs/filtered_feature_bc_matrix'\n",
    "counts_matrix = scipy.io.mmread(input_dir + '/matrix.mtx').T.tocsc()\n",
    "genes = np.array(scr.load_genes(input_dir + '/features.tsv', delimiter='\\t', column=1))\n",
    "\n",
    "# Remove ATAC features\n",
    "def find_genes(string):\n",
    "    if ':' in string:\n",
    "        return False\n",
    "    else:\n",
    "        return True\n",
    "v_find_genes = np.vectorize(find_genes)\n",
    "genes = genes[v_find_genes(genes)]\n",
    "counts_matrix = counts_matrix[:,v_find_genes(genes)]\n",
    "\n",
    "print('Counts matrix shape: {} rows, {} columns'.format(counts_matrix.shape[0], counts_matrix.shape[1]))\n",
    "print('Number of genes in gene list: {}'.format(len(genes)))"
   ]
  },
  {
   "cell_type": "code",
   "execution_count": null,
   "id": "ad9148aa",
   "metadata": {
    "ExecuteTime": {
     "end_time": "2021-09-20T23:36:30.036675Z",
     "start_time": "2021-09-20T23:36:29.902446Z"
    }
   },
   "outputs": [],
   "source": []
  },
  {
   "cell_type": "code",
   "execution_count": 24,
   "id": "c8ace4fa",
   "metadata": {
    "ExecuteTime": {
     "end_time": "2021-09-20T23:48:10.884257Z",
     "start_time": "2021-09-20T23:47:35.685055Z"
    }
   },
   "outputs": [
    {
     "name": "stdout",
     "output_type": "stream",
     "text": [
      "Preprocessing...\n",
      "Simulating doublets...\n",
      "Embedding transcriptomes using PCA...\n",
      "Calculating doublet scores...\n",
      "Automatically set threshold at doublet score = 0.56\n",
      "Detected doublet rate = 0.0%\n",
      "Estimated detectable doublet fraction = 0.0%\n",
      "Overall doublet rate:\n",
      "\tExpected   = 6.0%\n",
      "\tEstimated  = 25.0%\n",
      "Elapsed time: 35.1 seconds\n"
     ]
    }
   ],
   "source": [
    "scrub = scr.Scrublet(counts_matrix, expected_doublet_rate=0.06)\n",
    "doublet_scores, predicted_doublets = scrub.scrub_doublets(min_counts=2, \n",
    "                                                          min_cells=3, \n",
    "                                                          min_gene_variability_pctl=85, \n",
    "                                                          n_prin_comps=30)"
   ]
  },
  {
   "cell_type": "code",
   "execution_count": 25,
   "id": "902bf496",
   "metadata": {
    "ExecuteTime": {
     "end_time": "2021-09-20T23:48:11.354282Z",
     "start_time": "2021-09-20T23:48:10.885991Z"
    }
   },
   "outputs": [
    {
     "data": {
      "image/png": "[encoded data removed]",
      "text/plain": [
       "<Figure size 576x216 with 2 Axes>"
      ]
     },
     "metadata": {
      "needs_background": "light"
     },
     "output_type": "display_data"
    }
   ],
   "source": [
    "scrub.plot_histogram();\n",
    "\n"
   ]
  },
  {
   "cell_type": "code",
   "execution_count": null,
   "id": "5372fa9c",
   "metadata": {},
   "outputs": [],
   "source": []
  }
 ],
 "metadata": {
  "kernelspec": {
   "display_name": "Python [conda env:scrublet]",
   "language": "python",
   "name": "conda-env-scrublet-py"
  }
 },
 "nbformat": 4,
 "nbformat_minor": 5
}
