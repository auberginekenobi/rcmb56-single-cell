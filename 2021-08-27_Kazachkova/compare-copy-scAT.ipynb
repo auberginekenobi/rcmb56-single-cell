{
 "cells": [
  {
   "cell_type": "code",
   "execution_count": 1,
   "id": "4e27f709",
   "metadata": {
    "ExecuteTime": {
     "end_time": "2021-08-27T20:28:55.363779Z",
     "start_time": "2021-08-27T20:28:55.361400Z"
    }
   },
   "outputs": [],
   "source": [
    "# Compare Copy-scAT results to permutation test results"
   ]
  },
  {
   "cell_type": "code",
   "execution_count": 31,
   "id": "1d4b9540",
   "metadata": {
    "ExecuteTime": {
     "end_time": "2021-08-27T21:11:50.162371Z",
     "start_time": "2021-08-27T21:11:50.159814Z"
    }
   },
   "outputs": [],
   "source": [
    "import pandas as pd\n",
    "import os\n",
    "os.chdir('/mnt/c/Users/ochapman/Documents/Mesirov/scRNA+ATAC/2021-08-27_Kazachkova')\n",
    "import upsetplot\n",
    "import matplotlib.pyplot as plt"
   ]
  },
  {
   "cell_type": "code",
   "execution_count": 36,
   "id": "470e68eb",
   "metadata": {
    "ExecuteTime": {
     "end_time": "2021-08-27T21:16:19.849160Z",
     "start_time": "2021-08-27T21:16:19.576317Z"
    }
   },
   "outputs": [
    {
     "data": {
      "text/plain": [
       "copy-scAT  permutation test\n",
       "False      False                 54\n",
       "           True                4051\n",
       "True       False                  0\n",
       "           True                2049\n",
       "dtype: int64"
      ]
     },
     "execution_count": 36,
     "metadata": {},
     "output_type": "execute_result"
    },
    {
     "data": {
      "text/plain": [
       "<Figure size 432x288 with 0 Axes>"
      ]
     },
     "metadata": {},
     "output_type": "display_data"
    },
    {
     "data": {
      "image/png": "[encoded data removed]",
      "text/plain": [
       "<Figure size 320x256 with 4 Axes>"
      ]
     },
     "metadata": {
      "needs_background": "light"
     },
     "output_type": "display_data"
    }
   ],
   "source": [
    "def read_copy_scat_results(ecDNA=None):\n",
    "    path = 'Kazachkova_rotation_sp21/calls_5000_1e6.csv'\n",
    "    df = pd.read_csv(path,index_col=0)\n",
    "    if ecDNA is not None:\n",
    "        if ecDNA == 1:\n",
    "            df = df[['chr1_83000000.chr1_96000000']]\n",
    "        elif ecDNA == 2:\n",
    "            df = df[['chr7_0.chr7_8000000','chr7_86000000.chr7_96000000','chr7_98000000.chr7_107000000',\n",
    "                     'chr7_125000000.chr7_131000000','chr7_41000000.chr7_55000000','chr7_32000000.chr7_35000000']]\n",
    "        else:\n",
    "            raise ValueError(\"ecDNA must be 1 or 2.\")\n",
    "    return df\n",
    "\n",
    "def read_permutation_test_results(ecDNA=None):\n",
    "    path='../2021-08-17_featurecounts-permutation-2/RCMB56-pdx_cell-classifications.tsv'\n",
    "    df = pd.read_csv(path,sep='\\t',index_col=0)\n",
    "    if ecDNA is not None:\n",
    "        if ecDNA == 1:\n",
    "            df = df[['ecDNA1']]\n",
    "        elif ecDNA == 2:\n",
    "            df = df[['ecDNA2']]\n",
    "        elif ecDNA == 3:\n",
    "            df = df[['ecDNA3']]\n",
    "        else:\n",
    "            raise ValueError(\"ecDNA must be 1 2 or 3\")\n",
    "    return df\n",
    "\n",
    "def plot_upset(df):\n",
    "    _00 = df[~df['copy-scAT'] & ~df['permutation test']]\n",
    "    _01 = df[~df['copy-scAT'] & df['permutation test']]\n",
    "    _10 = df[df['copy-scAT'] & ~df['permutation test']]\n",
    "    _11 = df[df['copy-scAT'] & df['permutation test']]\n",
    "    data = upsetplot.from_memberships(\n",
    "    [[],\n",
    "     ['permutation test'],\n",
    "     ['copy-scAT'],\n",
    "     ['permutation test','copy-scAT']\n",
    "    ],\n",
    "        data=[len(_00),len(_01),len(_10),len(_11)]\n",
    "    )\n",
    "    plt.figure()\n",
    "    upsetplot.plot(data)\n",
    "    return data\n",
    "\n",
    "def plot_upset_ecDNA1():\n",
    "    df1 = read_copy_scat_results(1)\n",
    "    df2 = read_permutation_test_results(1)\n",
    "    df = df1.join(df2,how='inner')\n",
    "    df.columns = ['copy-scAT','permutation test']\n",
    "    data = plot_upset(df)\n",
    "    plt.savefig('upset_ecDNA1.png')\n",
    "    return data\n",
    "\n",
    "plot_upset_ecDNA1()"
   ]
  },
  {
   "cell_type": "code",
   "execution_count": 37,
   "id": "913ffba7",
   "metadata": {
    "ExecuteTime": {
     "end_time": "2021-08-27T21:16:21.720938Z",
     "start_time": "2021-08-27T21:16:20.925354Z"
    }
   },
   "outputs": [
    {
     "data": {
      "text/plain": [
       "copy-scAT  permutation test\n",
       "False      False                  0\n",
       "           True                3982\n",
       "True       False                  0\n",
       "           True                2172\n",
       "dtype: int64"
      ]
     },
     "execution_count": 37,
     "metadata": {},
     "output_type": "execute_result"
    },
    {
     "data": {
      "text/plain": [
       "<Figure size 432x288 with 0 Axes>"
      ]
     },
     "metadata": {},
     "output_type": "display_data"
    },
    {
     "data": {
      "image/png": "[encoded data removed]",
      "text/plain": [
       "<Figure size 320x256 with 4 Axes>"
      ]
     },
     "metadata": {
      "needs_background": "light"
     },
     "output_type": "display_data"
    }
   ],
   "source": [
    "def plot_upset_ecDNA23():\n",
    "    df = read_copy_scat_results(2)\n",
    "    df = df.apply(lambda x: x.any(),axis=1)\n",
    "    df2 = read_permutation_test_results(2).join(read_permutation_test_results(3))\n",
    "    df2 = df2.apply(lambda x: x.any(),axis=1)\n",
    "    df = pd.concat([df,df2],axis=1,join='inner')\n",
    "    df.columns = ['copy-scAT','permutation test']\n",
    "    data = plot_upset(df)\n",
    "    plt.savefig('upset_ecDNA23.png')\n",
    "    return data\n",
    "plot_upset_ecDNA23()"
   ]
  },
  {
   "cell_type": "code",
   "execution_count": null,
   "id": "0ce34037",
   "metadata": {},
   "outputs": [],
   "source": []
  }
 ],
 "metadata": {
  "kernelspec": {
   "display_name": "Python 3",
   "language": "python",
   "name": "python3"
  },
  "language_info": {
   "codemirror_mode": {
    "name": "ipython",
    "version": 3
   },
   "file_extension": ".py",
   "mimetype": "text/x-python",
   "name": "python",
   "nbconvert_exporter": "python",
   "pygments_lexer": "ipython3",
   "version": "3.7.8"
  }
 },
 "nbformat": 4,
 "nbformat_minor": 5
}
