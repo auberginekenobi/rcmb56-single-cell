{
 "cells": [
  {
   "cell_type": "code",
   "execution_count": 1,
   "id": "435f5b80",
   "metadata": {
    "ExecuteTime": {
     "end_time": "2022-03-04T21:25:50.582596Z",
     "start_time": "2022-03-04T21:25:50.472Z"
    }
   },
   "outputs": [],
   "source": [
    "# exploratory analysis with alleloscope"
   ]
  },
  {
   "cell_type": "code",
   "execution_count": 6,
   "id": "d7fa9b8c",
   "metadata": {
    "ExecuteTime": {
     "end_time": "2022-03-04T21:33:12.899116Z",
     "start_time": "2022-03-04T21:33:12.798Z"
    }
   },
   "outputs": [
    {
     "data": {
      "text/html": [
       "'/home/ochapman/miniconda3/envs/alleloscope/lib/R/library'"
      ],
      "text/latex": [
       "'/home/ochapman/miniconda3/envs/alleloscope/lib/R/library'"
      ],
      "text/markdown": [
       "'/home/ochapman/miniconda3/envs/alleloscope/lib/R/library'"
      ],
      "text/plain": [
       "[1] \"/home/ochapman/miniconda3/envs/alleloscope/lib/R/library\""
      ]
     },
     "metadata": {},
     "output_type": "display_data"
    }
   ],
   "source": [
    "library(Alleloscope)\n",
    ".libPaths()"
   ]
  },
  {
   "cell_type": "code",
   "execution_count": null,
   "id": "871d36f9",
   "metadata": {},
   "outputs": [],
   "source": [
    "# Generate CNV segmentation file\n",
    "## See https://github.com/seasoncloud/Alleloscope/blob/main/samples/SU008/scATAC/Gen_seg_table.md\n",
    "\n"
   ]
  },
  {
   "cell_type": "code",
   "execution_count": null,
   "id": "3c40c5d0",
   "metadata": {},
   "outputs": [],
   "source": [
    "# Set up file paths\n",
    "VCF<-'s2.mutect2.filtered.vcf'\n",
    "BARCODES<-\n",
    "MATRIX<-\n",
    "FRAGMENTS<-\n",
    "SEGMENTATION<-"
   ]
  }
 ],
 "metadata": {
  "kernelspec": {
   "display_name": "R [conda env:alleloscope]",
   "language": "R",
   "name": "conda-env-alleloscope-r"
  },
  "language_info": {
   "codemirror_mode": "r",
   "file_extension": ".r",
   "mimetype": "text/x-r-source",
   "name": "R",
   "pygments_lexer": "r",
   "version": "4.1.2"
  }
 },
 "nbformat": 4,
 "nbformat_minor": 5
}
