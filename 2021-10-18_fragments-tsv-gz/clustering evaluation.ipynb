{
 "cells": [
  {
   "cell_type": "code",
   "execution_count": 3,
   "id": "24155731",
   "metadata": {
    "ExecuteTime": {
     "end_time": "2021-11-08T20:06:37.690728Z",
     "start_time": "2021-11-08T20:06:37.676393Z"
    }
   },
   "outputs": [],
   "source": [
    "import pandas as pd\n",
    "import os\n",
    "import sys\n",
    "sys.path.append(\"/mnt/c/Users/ochapman/Documents/Mesirov/scRNA+ATAC/src\")\n",
    "from SingleCellExperiment import *\n",
    "\n",
    "import plotly.graph_objects as go\n",
    "import numpy as np\n",
    "import scipy.stats\n",
    "import math\n",
    "import matplotlib.pyplot as plt\n",
    "import seaborn as sns\n",
    "\n",
    "\n",
    "pd.set_option('display.max_columns', None)\n"
   ]
  },
  {
   "cell_type": "code",
   "execution_count": 14,
   "id": "da737698",
   "metadata": {
    "ExecuteTime": {
     "end_time": "2021-11-08T20:27:55.920613Z",
     "start_time": "2021-11-08T20:27:54.459216Z"
    },
    "code_folding": []
   },
   "outputs": [
    {
     "data": {
      "application/vnd.plotly.v1+json": {
       "config": {
        "plotlyServerURL": "https://plot.ly"
       },
       "data": [
        {
         "link": {
          "source": [
           0,
           0,
           0,
           0,
           1,
           1,
           1,
           1,
           2,
           2,
           2,
           2,
           3,
           3,
           3,
           3
          ],
          "target": [
           4,
           5,
           6,
           7,
           4,
           5,
           6,
           7,
           4,
           5,
           6,
           7,
           4,
           5,
           6,
           7
          ],
          "value": [
           36,
           1,
           0,
           1,
           3,
           665,
           0,
           32,
           0,
           0,
           454,
           22,
           3,
           121,
           35,
           9402
          ]
         },
         "node": {
          "label": [
           "neither",
           "ecDNA1",
           "ecDNA2",
           "both",
           "neither",
           "ecDNA1",
           "ecDNA2",
           "both"
          ],
          "line": {
           "color": "black",
           "width": 0.5
          },
          "pad": 15,
          "thickness": 20
         },
         "type": "sankey"
        }
       ],
       "layout": {
        "font": {
         "size": 10
        },
        "template": {
         "data": {
          "bar": [
           {
            "error_x": {
             "color": "#2a3f5f"
            },
            "error_y": {
             "color": "#2a3f5f"
            },
            "marker": {
             "line": {
              "color": "#E5ECF6",
              "width": 0.5
             }
            },
            "type": "bar"
           }
          ],
          "barpolar": [
           {
            "marker": {
             "line": {
              "color": "#E5ECF6",
              "width": 0.5
             }
            },
            "type": "barpolar"
           }
          ],
          "carpet": [
           {
            "aaxis": {
             "endlinecolor": "#2a3f5f",
             "gridcolor": "white",
             "linecolor": "white",
             "minorgridcolor": "white",
             "startlinecolor": "#2a3f5f"
            },
            "baxis": {
             "endlinecolor": "#2a3f5f",
             "gridcolor": "white",
             "linecolor": "white",
             "minorgridcolor": "white",
             "startlinecolor": "#2a3f5f"
            },
            "type": "carpet"
           }
          ],
          "choropleth": [
           {
            "colorbar": {
             "outlinewidth": 0,
             "ticks": ""
            },
            "type": "choropleth"
           }
          ],
          "contour": [
           {
            "colorbar": {
             "outlinewidth": 0,
             "ticks": ""
            },
            "colorscale": [
             [
              0,
              "#0d0887"
             ],
             [
              0.1111111111111111,
              "#46039f"
             ],
             [
              0.2222222222222222,
              "#7201a8"
             ],
             [
              0.3333333333333333,
              "#9c179e"
             ],
             [
              0.4444444444444444,
              "#bd3786"
             ],
             [
              0.5555555555555556,
              "#d8576b"
             ],
             [
              0.6666666666666666,
              "#ed7953"
             ],
             [
              0.7777777777777778,
              "#fb9f3a"
             ],
             [
              0.8888888888888888,
              "#fdca26"
             ],
             [
              1,
              "#f0f921"
             ]
            ],
            "type": "contour"
           }
          ],
          "contourcarpet": [
           {
            "colorbar": {
             "outlinewidth": 0,
             "ticks": ""
            },
            "type": "contourcarpet"
           }
          ],
          "heatmap": [
           {
            "colorbar": {
             "outlinewidth": 0,
             "ticks": ""
            },
            "colorscale": [
             [
              0,
              "#0d0887"
             ],
             [
              0.1111111111111111,
              "#46039f"
             ],
             [
              0.2222222222222222,
              "#7201a8"
             ],
             [
              0.3333333333333333,
              "#9c179e"
             ],
             [
              0.4444444444444444,
              "#bd3786"
             ],
             [
              0.5555555555555556,
              "#d8576b"
             ],
             [
              0.6666666666666666,
              "#ed7953"
             ],
             [
              0.7777777777777778,
              "#fb9f3a"
             ],
             [
              0.8888888888888888,
              "#fdca26"
             ],
             [
              1,
              "#f0f921"
             ]
            ],
            "type": "heatmap"
           }
          ],
          "heatmapgl": [
           {
            "colorbar": {
             "outlinewidth": 0,
             "ticks": ""
            },
            "colorscale": [
             [
              0,
              "#0d0887"
             ],
             [
              0.1111111111111111,
              "#46039f"
             ],
             [
              0.2222222222222222,
              "#7201a8"
             ],
             [
              0.3333333333333333,
              "#9c179e"
             ],
             [
              0.4444444444444444,
              "#bd3786"
             ],
             [
              0.5555555555555556,
              "#d8576b"
             ],
             [
              0.6666666666666666,
              "#ed7953"
             ],
             [
              0.7777777777777778,
              "#fb9f3a"
             ],
             [
              0.8888888888888888,
              "#fdca26"
             ],
             [
              1,
              "#f0f921"
             ]
            ],
            "type": "heatmapgl"
           }
          ],
          "histogram": [
           {
            "marker": {
             "colorbar": {
              "outlinewidth": 0,
              "ticks": ""
             }
            },
            "type": "histogram"
           }
          ],
          "histogram2d": [
           {
            "colorbar": {
             "outlinewidth": 0,
             "ticks": ""
            },
            "colorscale": [
             [
              0,
              "#0d0887"
             ],
             [
              0.1111111111111111,
              "#46039f"
             ],
             [
              0.2222222222222222,
              "#7201a8"
             ],
             [
              0.3333333333333333,
              "#9c179e"
             ],
             [
              0.4444444444444444,
              "#bd3786"
             ],
             [
              0.5555555555555556,
              "#d8576b"
             ],
             [
              0.6666666666666666,
              "#ed7953"
             ],
             [
              0.7777777777777778,
              "#fb9f3a"
             ],
             [
              0.8888888888888888,
              "#fdca26"
             ],
             [
              1,
              "#f0f921"
             ]
            ],
            "type": "histogram2d"
           }
          ],
          "histogram2dcontour": [
           {
            "colorbar": {
             "outlinewidth": 0,
             "ticks": ""
            },
            "colorscale": [
             [
              0,
              "#0d0887"
             ],
             [
              0.1111111111111111,
              "#46039f"
             ],
             [
              0.2222222222222222,
              "#7201a8"
             ],
             [
              0.3333333333333333,
              "#9c179e"
             ],
             [
              0.4444444444444444,
              "#bd3786"
             ],
             [
              0.5555555555555556,
              "#d8576b"
             ],
             [
              0.6666666666666666,
              "#ed7953"
             ],
             [
              0.7777777777777778,
              "#fb9f3a"
             ],
             [
              0.8888888888888888,
              "#fdca26"
             ],
             [
              1,
              "#f0f921"
             ]
            ],
            "type": "histogram2dcontour"
           }
          ],
          "mesh3d": [
           {
            "colorbar": {
             "outlinewidth": 0,
             "ticks": ""
            },
            "type": "mesh3d"
           }
          ],
          "parcoords": [
           {
            "line": {
             "colorbar": {
              "outlinewidth": 0,
              "ticks": ""
             }
            },
            "type": "parcoords"
           }
          ],
          "pie": [
           {
            "automargin": true,
            "type": "pie"
           }
          ],
          "scatter": [
           {
            "marker": {
             "colorbar": {
              "outlinewidth": 0,
              "ticks": ""
             }
            },
            "type": "scatter"
           }
          ],
          "scatter3d": [
           {
            "line": {
             "colorbar": {
              "outlinewidth": 0,
              "ticks": ""
             }
            },
            "marker": {
             "colorbar": {
              "outlinewidth": 0,
              "ticks": ""
             }
            },
            "type": "scatter3d"
           }
          ],
          "scattercarpet": [
           {
            "marker": {
             "colorbar": {
              "outlinewidth": 0,
              "ticks": ""
             }
            },
            "type": "scattercarpet"
           }
          ],
          "scattergeo": [
           {
            "marker": {
             "colorbar": {
              "outlinewidth": 0,
              "ticks": ""
             }
            },
            "type": "scattergeo"
           }
          ],
          "scattergl": [
           {
            "marker": {
             "colorbar": {
              "outlinewidth": 0,
              "ticks": ""
             }
            },
            "type": "scattergl"
           }
          ],
          "scattermapbox": [
           {
            "marker": {
             "colorbar": {
              "outlinewidth": 0,
              "ticks": ""
             }
            },
            "type": "scattermapbox"
           }
          ],
          "scatterpolar": [
           {
            "marker": {
             "colorbar": {
              "outlinewidth": 0,
              "ticks": ""
             }
            },
            "type": "scatterpolar"
           }
          ],
          "scatterpolargl": [
           {
            "marker": {
             "colorbar": {
              "outlinewidth": 0,
              "ticks": ""
             }
            },
            "type": "scatterpolargl"
           }
          ],
          "scatterternary": [
           {
            "marker": {
             "colorbar": {
              "outlinewidth": 0,
              "ticks": ""
             }
            },
            "type": "scatterternary"
           }
          ],
          "surface": [
           {
            "colorbar": {
             "outlinewidth": 0,
             "ticks": ""
            },
            "colorscale": [
             [
              0,
              "#0d0887"
             ],
             [
              0.1111111111111111,
              "#46039f"
             ],
             [
              0.2222222222222222,
              "#7201a8"
             ],
             [
              0.3333333333333333,
              "#9c179e"
             ],
             [
              0.4444444444444444,
              "#bd3786"
             ],
             [
              0.5555555555555556,
              "#d8576b"
             ],
             [
              0.6666666666666666,
              "#ed7953"
             ],
             [
              0.7777777777777778,
              "#fb9f3a"
             ],
             [
              0.8888888888888888,
              "#fdca26"
             ],
             [
              1,
              "#f0f921"
             ]
            ],
            "type": "surface"
           }
          ],
          "table": [
           {
            "cells": {
             "fill": {
              "color": "#EBF0F8"
             },
             "line": {
              "color": "white"
             }
            },
            "header": {
             "fill": {
              "color": "#C8D4E3"
             },
             "line": {
              "color": "white"
             }
            },
            "type": "table"
           }
          ]
         },
         "layout": {
          "annotationdefaults": {
           "arrowcolor": "#2a3f5f",
           "arrowhead": 0,
           "arrowwidth": 1
          },
          "coloraxis": {
           "colorbar": {
            "outlinewidth": 0,
            "ticks": ""
           }
          },
          "colorscale": {
           "diverging": [
            [
             0,
             "#8e0152"
            ],
            [
             0.1,
             "#c51b7d"
            ],
            [
             0.2,
             "#de77ae"
            ],
            [
             0.3,
             "#f1b6da"
            ],
            [
             0.4,
             "#fde0ef"
            ],
            [
             0.5,
             "#f7f7f7"
            ],
            [
             0.6,
             "#e6f5d0"
            ],
            [
             0.7,
             "#b8e186"
            ],
            [
             0.8,
             "#7fbc41"
            ],
            [
             0.9,
             "#4d9221"
            ],
            [
             1,
             "#276419"
            ]
           ],
           "sequential": [
            [
             0,
             "#0d0887"
            ],
            [
             0.1111111111111111,
             "#46039f"
            ],
            [
             0.2222222222222222,
             "#7201a8"
            ],
            [
             0.3333333333333333,
             "#9c179e"
            ],
            [
             0.4444444444444444,
             "#bd3786"
            ],
            [
             0.5555555555555556,
             "#d8576b"
            ],
            [
             0.6666666666666666,
             "#ed7953"
            ],
            [
             0.7777777777777778,
             "#fb9f3a"
            ],
            [
             0.8888888888888888,
             "#fdca26"
            ],
            [
             1,
             "#f0f921"
            ]
           ],
           "sequentialminus": [
            [
             0,
             "#0d0887"
            ],
            [
             0.1111111111111111,
             "#46039f"
            ],
            [
             0.2222222222222222,
             "#7201a8"
            ],
            [
             0.3333333333333333,
             "#9c179e"
            ],
            [
             0.4444444444444444,
             "#bd3786"
            ],
            [
             0.5555555555555556,
             "#d8576b"
            ],
            [
             0.6666666666666666,
             "#ed7953"
            ],
            [
             0.7777777777777778,
             "#fb9f3a"
            ],
            [
             0.8888888888888888,
             "#fdca26"
            ],
            [
             1,
             "#f0f921"
            ]
           ]
          },
          "colorway": [
           "#636efa",
           "#EF553B",
           "#00cc96",
           "#ab63fa",
           "#FFA15A",
           "#19d3f3",
           "#FF6692",
           "#B6E880",
           "#FF97FF",
           "#FECB52"
          ],
          "font": {
           "color": "#2a3f5f"
          },
          "geo": {
           "bgcolor": "white",
           "lakecolor": "white",
           "landcolor": "#E5ECF6",
           "showlakes": true,
           "showland": true,
           "subunitcolor": "white"
          },
          "hoverlabel": {
           "align": "left"
          },
          "hovermode": "closest",
          "mapbox": {
           "style": "light"
          },
          "paper_bgcolor": "white",
          "plot_bgcolor": "#E5ECF6",
          "polar": {
           "angularaxis": {
            "gridcolor": "white",
            "linecolor": "white",
            "ticks": ""
           },
           "bgcolor": "#E5ECF6",
           "radialaxis": {
            "gridcolor": "white",
            "linecolor": "white",
            "ticks": ""
           }
          },
          "scene": {
           "xaxis": {
            "backgroundcolor": "#E5ECF6",
            "gridcolor": "white",
            "gridwidth": 2,
            "linecolor": "white",
            "showbackground": true,
            "ticks": "",
            "zerolinecolor": "white"
           },
           "yaxis": {
            "backgroundcolor": "#E5ECF6",
            "gridcolor": "white",
            "gridwidth": 2,
            "linecolor": "white",
            "showbackground": true,
            "ticks": "",
            "zerolinecolor": "white"
           },
           "zaxis": {
            "backgroundcolor": "#E5ECF6",
            "gridcolor": "white",
            "gridwidth": 2,
            "linecolor": "white",
            "showbackground": true,
            "ticks": "",
            "zerolinecolor": "white"
           }
          },
          "shapedefaults": {
           "line": {
            "color": "#2a3f5f"
           }
          },
          "ternary": {
           "aaxis": {
            "gridcolor": "white",
            "linecolor": "white",
            "ticks": ""
           },
           "baxis": {
            "gridcolor": "white",
            "linecolor": "white",
            "ticks": ""
           },
           "bgcolor": "#E5ECF6",
           "caxis": {
            "gridcolor": "white",
            "linecolor": "white",
            "ticks": ""
           }
          },
          "title": {
           "x": 0.05
          },
          "xaxis": {
           "automargin": true,
           "gridcolor": "white",
           "linecolor": "white",
           "ticks": "",
           "title": {
            "standoff": 15
           },
           "zerolinecolor": "white",
           "zerolinewidth": 2
          },
          "yaxis": {
           "automargin": true,
           "gridcolor": "white",
           "linecolor": "white",
           "ticks": "",
           "title": {
            "standoff": 15
           },
           "zerolinecolor": "white",
           "zerolinewidth": 2
          }
         }
        },
        "title": {
         "text": ""
        }
       }
      },
      "text/html": [
       "<div>\n",
       "        \n",
       "        \n",
       "            <div id=\"120fc346-561f-4b48-99ff-9ef7f25b391f\" class=\"plotly-graph-div\" style=\"height:525px; width:100%;\"></div>\n",
       "            <script type=\"text/javascript\">\n",
       "                require([\"plotly\"], function(Plotly) {\n",
       "                    window.PLOTLYENV=window.PLOTLYENV || {};\n",
       "                    \n",
       "                if (document.getElementById(\"120fc346-561f-4b48-99ff-9ef7f25b391f\")) {\n",
       "                    Plotly.newPlot(\n",
       "                        '120fc346-561f-4b48-99ff-9ef7f25b391f',\n",
       "                        [{\"link\": {\"source\": [0, 0, 0, 0, 1, 1, 1, 1, 2, 2, 2, 2, 3, 3, 3, 3], \"target\": [4, 5, 6, 7, 4, 5, 6, 7, 4, 5, 6, 7, 4, 5, 6, 7], \"value\": [36.0, 1.0, 0.0, 1.0, 3.0, 665.0, 0.0, 32.0, 0.0, 0.0, 454.0, 22.0, 3.0, 121.0, 35.0, 9402.0]}, \"node\": {\"label\": [\"neither\", \"ecDNA1\", \"ecDNA2\", \"both\", \"neither\", \"ecDNA1\", \"ecDNA2\", \"both\"], \"line\": {\"color\": \"black\", \"width\": 0.5}, \"pad\": 15, \"thickness\": 20}, \"type\": \"sankey\"}],\n",
       "                        {\"font\": {\"size\": 10}, \"template\": {\"data\": {\"bar\": [{\"error_x\": {\"color\": \"#2a3f5f\"}, \"error_y\": {\"color\": \"#2a3f5f\"}, \"marker\": {\"line\": {\"color\": \"#E5ECF6\", \"width\": 0.5}}, \"type\": \"bar\"}], \"barpolar\": [{\"marker\": {\"line\": {\"color\": \"#E5ECF6\", \"width\": 0.5}}, \"type\": \"barpolar\"}], \"carpet\": [{\"aaxis\": {\"endlinecolor\": \"#2a3f5f\", \"gridcolor\": \"white\", \"linecolor\": \"white\", \"minorgridcolor\": \"white\", \"startlinecolor\": \"#2a3f5f\"}, \"baxis\": {\"endlinecolor\": \"#2a3f5f\", \"gridcolor\": \"white\", \"linecolor\": \"white\", \"minorgridcolor\": \"white\", \"startlinecolor\": \"#2a3f5f\"}, \"type\": \"carpet\"}], \"choropleth\": [{\"colorbar\": {\"outlinewidth\": 0, \"ticks\": \"\"}, \"type\": \"choropleth\"}], \"contour\": [{\"colorbar\": {\"outlinewidth\": 0, \"ticks\": \"\"}, \"colorscale\": [[0.0, \"#0d0887\"], [0.1111111111111111, \"#46039f\"], [0.2222222222222222, \"#7201a8\"], [0.3333333333333333, \"#9c179e\"], [0.4444444444444444, \"#bd3786\"], [0.5555555555555556, \"#d8576b\"], [0.6666666666666666, \"#ed7953\"], [0.7777777777777778, \"#fb9f3a\"], [0.8888888888888888, \"#fdca26\"], [1.0, \"#f0f921\"]], \"type\": \"contour\"}], \"contourcarpet\": [{\"colorbar\": {\"outlinewidth\": 0, \"ticks\": \"\"}, \"type\": \"contourcarpet\"}], \"heatmap\": [{\"colorbar\": {\"outlinewidth\": 0, \"ticks\": \"\"}, \"colorscale\": [[0.0, \"#0d0887\"], [0.1111111111111111, \"#46039f\"], [0.2222222222222222, \"#7201a8\"], [0.3333333333333333, \"#9c179e\"], [0.4444444444444444, \"#bd3786\"], [0.5555555555555556, \"#d8576b\"], [0.6666666666666666, \"#ed7953\"], [0.7777777777777778, \"#fb9f3a\"], [0.8888888888888888, \"#fdca26\"], [1.0, \"#f0f921\"]], \"type\": \"heatmap\"}], \"heatmapgl\": [{\"colorbar\": {\"outlinewidth\": 0, \"ticks\": \"\"}, \"colorscale\": [[0.0, \"#0d0887\"], [0.1111111111111111, \"#46039f\"], [0.2222222222222222, \"#7201a8\"], [0.3333333333333333, \"#9c179e\"], [0.4444444444444444, \"#bd3786\"], [0.5555555555555556, \"#d8576b\"], [0.6666666666666666, \"#ed7953\"], [0.7777777777777778, \"#fb9f3a\"], [0.8888888888888888, \"#fdca26\"], [1.0, \"#f0f921\"]], \"type\": \"heatmapgl\"}], \"histogram\": [{\"marker\": {\"colorbar\": {\"outlinewidth\": 0, \"ticks\": \"\"}}, \"type\": \"histogram\"}], \"histogram2d\": [{\"colorbar\": {\"outlinewidth\": 0, \"ticks\": \"\"}, \"colorscale\": [[0.0, \"#0d0887\"], [0.1111111111111111, \"#46039f\"], [0.2222222222222222, \"#7201a8\"], [0.3333333333333333, \"#9c179e\"], [0.4444444444444444, \"#bd3786\"], [0.5555555555555556, \"#d8576b\"], [0.6666666666666666, \"#ed7953\"], [0.7777777777777778, \"#fb9f3a\"], [0.8888888888888888, \"#fdca26\"], [1.0, \"#f0f921\"]], \"type\": \"histogram2d\"}], \"histogram2dcontour\": [{\"colorbar\": {\"outlinewidth\": 0, \"ticks\": \"\"}, \"colorscale\": [[0.0, \"#0d0887\"], [0.1111111111111111, \"#46039f\"], [0.2222222222222222, \"#7201a8\"], [0.3333333333333333, \"#9c179e\"], [0.4444444444444444, \"#bd3786\"], [0.5555555555555556, \"#d8576b\"], [0.6666666666666666, \"#ed7953\"], [0.7777777777777778, \"#fb9f3a\"], [0.8888888888888888, \"#fdca26\"], [1.0, \"#f0f921\"]], \"type\": \"histogram2dcontour\"}], \"mesh3d\": [{\"colorbar\": {\"outlinewidth\": 0, \"ticks\": \"\"}, \"type\": \"mesh3d\"}], \"parcoords\": [{\"line\": {\"colorbar\": {\"outlinewidth\": 0, \"ticks\": \"\"}}, \"type\": \"parcoords\"}], \"pie\": [{\"automargin\": true, \"type\": \"pie\"}], \"scatter\": [{\"marker\": {\"colorbar\": {\"outlinewidth\": 0, \"ticks\": \"\"}}, \"type\": \"scatter\"}], \"scatter3d\": [{\"line\": {\"colorbar\": {\"outlinewidth\": 0, \"ticks\": \"\"}}, \"marker\": {\"colorbar\": {\"outlinewidth\": 0, \"ticks\": \"\"}}, \"type\": \"scatter3d\"}], \"scattercarpet\": [{\"marker\": {\"colorbar\": {\"outlinewidth\": 0, \"ticks\": \"\"}}, \"type\": \"scattercarpet\"}], \"scattergeo\": [{\"marker\": {\"colorbar\": {\"outlinewidth\": 0, \"ticks\": \"\"}}, \"type\": \"scattergeo\"}], \"scattergl\": [{\"marker\": {\"colorbar\": {\"outlinewidth\": 0, \"ticks\": \"\"}}, \"type\": \"scattergl\"}], \"scattermapbox\": [{\"marker\": {\"colorbar\": {\"outlinewidth\": 0, \"ticks\": \"\"}}, \"type\": \"scattermapbox\"}], \"scatterpolar\": [{\"marker\": {\"colorbar\": {\"outlinewidth\": 0, \"ticks\": \"\"}}, \"type\": \"scatterpolar\"}], \"scatterpolargl\": [{\"marker\": {\"colorbar\": {\"outlinewidth\": 0, \"ticks\": \"\"}}, \"type\": \"scatterpolargl\"}], \"scatterternary\": [{\"marker\": {\"colorbar\": {\"outlinewidth\": 0, \"ticks\": \"\"}}, \"type\": \"scatterternary\"}], \"surface\": [{\"colorbar\": {\"outlinewidth\": 0, \"ticks\": \"\"}, \"colorscale\": [[0.0, \"#0d0887\"], [0.1111111111111111, \"#46039f\"], [0.2222222222222222, \"#7201a8\"], [0.3333333333333333, \"#9c179e\"], [0.4444444444444444, \"#bd3786\"], [0.5555555555555556, \"#d8576b\"], [0.6666666666666666, \"#ed7953\"], [0.7777777777777778, \"#fb9f3a\"], [0.8888888888888888, \"#fdca26\"], [1.0, \"#f0f921\"]], \"type\": \"surface\"}], \"table\": [{\"cells\": {\"fill\": {\"color\": \"#EBF0F8\"}, \"line\": {\"color\": \"white\"}}, \"header\": {\"fill\": {\"color\": \"#C8D4E3\"}, \"line\": {\"color\": \"white\"}}, \"type\": \"table\"}]}, \"layout\": {\"annotationdefaults\": {\"arrowcolor\": \"#2a3f5f\", \"arrowhead\": 0, \"arrowwidth\": 1}, \"coloraxis\": {\"colorbar\": {\"outlinewidth\": 0, \"ticks\": \"\"}}, \"colorscale\": {\"diverging\": [[0, \"#8e0152\"], [0.1, \"#c51b7d\"], [0.2, \"#de77ae\"], [0.3, \"#f1b6da\"], [0.4, \"#fde0ef\"], [0.5, \"#f7f7f7\"], [0.6, \"#e6f5d0\"], [0.7, \"#b8e186\"], [0.8, \"#7fbc41\"], [0.9, \"#4d9221\"], [1, \"#276419\"]], \"sequential\": [[0.0, \"#0d0887\"], [0.1111111111111111, \"#46039f\"], [0.2222222222222222, \"#7201a8\"], [0.3333333333333333, \"#9c179e\"], [0.4444444444444444, \"#bd3786\"], [0.5555555555555556, \"#d8576b\"], [0.6666666666666666, \"#ed7953\"], [0.7777777777777778, \"#fb9f3a\"], [0.8888888888888888, \"#fdca26\"], [1.0, \"#f0f921\"]], \"sequentialminus\": [[0.0, \"#0d0887\"], [0.1111111111111111, \"#46039f\"], [0.2222222222222222, \"#7201a8\"], [0.3333333333333333, \"#9c179e\"], [0.4444444444444444, \"#bd3786\"], [0.5555555555555556, \"#d8576b\"], [0.6666666666666666, \"#ed7953\"], [0.7777777777777778, \"#fb9f3a\"], [0.8888888888888888, \"#fdca26\"], [1.0, \"#f0f921\"]]}, \"colorway\": [\"#636efa\", \"#EF553B\", \"#00cc96\", \"#ab63fa\", \"#FFA15A\", \"#19d3f3\", \"#FF6692\", \"#B6E880\", \"#FF97FF\", \"#FECB52\"], \"font\": {\"color\": \"#2a3f5f\"}, \"geo\": {\"bgcolor\": \"white\", \"lakecolor\": \"white\", \"landcolor\": \"#E5ECF6\", \"showlakes\": true, \"showland\": true, \"subunitcolor\": \"white\"}, \"hoverlabel\": {\"align\": \"left\"}, \"hovermode\": \"closest\", \"mapbox\": {\"style\": \"light\"}, \"paper_bgcolor\": \"white\", \"plot_bgcolor\": \"#E5ECF6\", \"polar\": {\"angularaxis\": {\"gridcolor\": \"white\", \"linecolor\": \"white\", \"ticks\": \"\"}, \"bgcolor\": \"#E5ECF6\", \"radialaxis\": {\"gridcolor\": \"white\", \"linecolor\": \"white\", \"ticks\": \"\"}}, \"scene\": {\"xaxis\": {\"backgroundcolor\": \"#E5ECF6\", \"gridcolor\": \"white\", \"gridwidth\": 2, \"linecolor\": \"white\", \"showbackground\": true, \"ticks\": \"\", \"zerolinecolor\": \"white\"}, \"yaxis\": {\"backgroundcolor\": \"#E5ECF6\", \"gridcolor\": \"white\", \"gridwidth\": 2, \"linecolor\": \"white\", \"showbackground\": true, \"ticks\": \"\", \"zerolinecolor\": \"white\"}, \"zaxis\": {\"backgroundcolor\": \"#E5ECF6\", \"gridcolor\": \"white\", \"gridwidth\": 2, \"linecolor\": \"white\", \"showbackground\": true, \"ticks\": \"\", \"zerolinecolor\": \"white\"}}, \"shapedefaults\": {\"line\": {\"color\": \"#2a3f5f\"}}, \"ternary\": {\"aaxis\": {\"gridcolor\": \"white\", \"linecolor\": \"white\", \"ticks\": \"\"}, \"baxis\": {\"gridcolor\": \"white\", \"linecolor\": \"white\", \"ticks\": \"\"}, \"bgcolor\": \"#E5ECF6\", \"caxis\": {\"gridcolor\": \"white\", \"linecolor\": \"white\", \"ticks\": \"\"}}, \"title\": {\"x\": 0.05}, \"xaxis\": {\"automargin\": true, \"gridcolor\": \"white\", \"linecolor\": \"white\", \"ticks\": \"\", \"title\": {\"standoff\": 15}, \"zerolinecolor\": \"white\", \"zerolinewidth\": 2}, \"yaxis\": {\"automargin\": true, \"gridcolor\": \"white\", \"linecolor\": \"white\", \"ticks\": \"\", \"title\": {\"standoff\": 15}, \"zerolinecolor\": \"white\", \"zerolinewidth\": 2}}}, \"title\": {\"text\": \"\"}},\n",
       "                        {\"responsive\": true}\n",
       "                    ).then(function(){\n",
       "                            \n",
       "var gd = document.getElementById('120fc346-561f-4b48-99ff-9ef7f25b391f');\n",
       "var x = new MutationObserver(function (mutations, observer) {{\n",
       "        var display = window.getComputedStyle(gd).display;\n",
       "        if (!display || display === 'none') {{\n",
       "            console.log([gd, 'removed!']);\n",
       "            Plotly.purge(gd);\n",
       "            observer.disconnect();\n",
       "        }}\n",
       "}});\n",
       "\n",
       "// Listen for the removal of the full notebook cells\n",
       "var notebookContainer = gd.closest('#notebook-container');\n",
       "if (notebookContainer) {{\n",
       "    x.observe(notebookContainer, {childList: true});\n",
       "}}\n",
       "\n",
       "// Listen for the clearing of the current output cell\n",
       "var outputEl = gd.closest('.output');\n",
       "if (outputEl) {{\n",
       "    x.observe(outputEl, {childList: true});\n",
       "}}\n",
       "\n",
       "                        })\n",
       "                };\n",
       "                });\n",
       "            </script>\n",
       "        </div>"
      ]
     },
     "metadata": {},
     "output_type": "display_data"
    },
    {
     "name": "stdout",
     "output_type": "stream",
     "text": [
      "10775.0\n"
     ]
    }
   ],
   "source": [
    "# how different are the genome and ecDNA backgrounds?\n",
    "# Not very different\n",
    "def gbg_vs_ebg(sample):\n",
    "    if sample.lower() == 'rcmb56-ht':\n",
    "        gbg=rcmb56ht()\n",
    "        ebg=rcmb56ht_alt_bg()\n",
    "    elif sample.lower() == 'rcmb56-pdx':\n",
    "        gbg=rcmb56pdx()\n",
    "        ebg=rcmb56pdx_alt_bg()\n",
    "    else:\n",
    "        raise ValueError(\"must be 'rcmb56-ht' or 'rcmb56-pdx'\")\n",
    "    \n",
    "    labels = ['neither','ecDNA1','ecDNA2','both']\n",
    "    ge_mat = np.zeros([len(labels),len(labels)])\n",
    "    for i in gbg.df.index:\n",
    "        if np.isnan(gbg.df.loc[i,'ecDNA1_status']):\n",
    "            continue\n",
    "        g_bits = 0\n",
    "        if gbg.df.loc[i,'ecDNA1_status']:\n",
    "            g_bits+=1\n",
    "        if gbg.df.loc[i,'ecDNA2_status']:\n",
    "            g_bits+=2\n",
    "        e_bits = 0\n",
    "        if ebg.df.loc[i,'ecDNA1_status']:\n",
    "            e_bits+=1\n",
    "        if ebg.df.loc[i,'ecDNA2_status']:\n",
    "            e_bits+=2\n",
    "        ge_mat[g_bits,e_bits]+=1\n",
    "    # convert to sankey input\n",
    "    s = []\n",
    "    t = []\n",
    "    v = []\n",
    "    for i in range(len(labels)):\n",
    "        for j in range(len(labels)):\n",
    "            s.append(i)\n",
    "            t.append(j+len(labels))\n",
    "            v.append(ge_mat[i,j])\n",
    "    # plot\n",
    "    fig = go.Figure(data=[go.Sankey(\n",
    "        node = dict(\n",
    "          pad = 15,\n",
    "          thickness = 20,\n",
    "          line = dict(color = \"black\", width = 0.5),\n",
    "          label = labels+labels\n",
    "        ),\n",
    "        link = dict(\n",
    "          source = s, # indices correspond to labels, eg A1, A2, A1, B1, ...\n",
    "          target = t,\n",
    "          value = v\n",
    "      ))])\n",
    "\n",
    "    fig.update_layout(title_text=\"\", font_size=10)\n",
    "    fig.show()\n",
    "    return ge_mat\n",
    "arr = gbg_vs_ebg('rcmb56-pdx')\n",
    "print(np.sum(arr))"
   ]
  },
  {
   "cell_type": "code",
   "execution_count": null,
   "id": "3b30dbb9",
   "metadata": {
    "ExecuteTime": {
     "end_time": "2021-11-08T20:26:54.338761Z",
     "start_time": "2021-11-08T20:26:53.787578Z"
    }
   },
   "outputs": [],
   "source": []
  },
  {
   "cell_type": "code",
   "execution_count": 16,
   "id": "3d2db5e3",
   "metadata": {
    "ExecuteTime": {
     "end_time": "2021-11-08T20:31:13.996777Z",
     "start_time": "2021-11-08T20:31:12.978993Z"
    },
    "code_folding": []
   },
   "outputs": [
    {
     "data": {
      "application/vnd.plotly.v1+json": {
       "config": {
        "plotlyServerURL": "https://plot.ly"
       },
       "data": [
        {
         "link": {
          "source": [
           0,
           0,
           0,
           0,
           0,
           1,
           1,
           1,
           1,
           1,
           2,
           2,
           2,
           2,
           2,
           3,
           3,
           3,
           3,
           3,
           4,
           4,
           4,
           4,
           4
          ],
          "target": [
           5,
           6,
           7,
           8,
           9,
           5,
           6,
           7,
           8,
           9,
           5,
           6,
           7,
           8,
           9,
           5,
           6,
           7,
           8,
           9,
           5,
           6,
           7,
           8,
           9
          ],
          "value": [
           20,
           0,
           0,
           0,
           18,
           267,
           130,
           6,
           6,
           291,
           91,
           0,
           113,
           0,
           272,
           2173,
           1240,
           1383,
           637,
           4128,
           35,
           26,
           17,
           10,
           2006
          ]
         },
         "node": {
          "label": [
           "neither",
           "ecDNA1",
           "ecDNA2",
           "both",
           "low-quality",
           "neither",
           "ecDNA1",
           "ecDNA2",
           "both",
           "low-quality"
          ],
          "line": {
           "color": "black",
           "width": 0.5
          },
          "pad": 15,
          "thickness": 20
         },
         "type": "sankey"
        }
       ],
       "layout": {
        "font": {
         "size": 10
        },
        "template": {
         "data": {
          "bar": [
           {
            "error_x": {
             "color": "#2a3f5f"
            },
            "error_y": {
             "color": "#2a3f5f"
            },
            "marker": {
             "line": {
              "color": "#E5ECF6",
              "width": 0.5
             }
            },
            "type": "bar"
           }
          ],
          "barpolar": [
           {
            "marker": {
             "line": {
              "color": "#E5ECF6",
              "width": 0.5
             }
            },
            "type": "barpolar"
           }
          ],
          "carpet": [
           {
            "aaxis": {
             "endlinecolor": "#2a3f5f",
             "gridcolor": "white",
             "linecolor": "white",
             "minorgridcolor": "white",
             "startlinecolor": "#2a3f5f"
            },
            "baxis": {
             "endlinecolor": "#2a3f5f",
             "gridcolor": "white",
             "linecolor": "white",
             "minorgridcolor": "white",
             "startlinecolor": "#2a3f5f"
            },
            "type": "carpet"
           }
          ],
          "choropleth": [
           {
            "colorbar": {
             "outlinewidth": 0,
             "ticks": ""
            },
            "type": "choropleth"
           }
          ],
          "contour": [
           {
            "colorbar": {
             "outlinewidth": 0,
             "ticks": ""
            },
            "colorscale": [
             [
              0,
              "#0d0887"
             ],
             [
              0.1111111111111111,
              "#46039f"
             ],
             [
              0.2222222222222222,
              "#7201a8"
             ],
             [
              0.3333333333333333,
              "#9c179e"
             ],
             [
              0.4444444444444444,
              "#bd3786"
             ],
             [
              0.5555555555555556,
              "#d8576b"
             ],
             [
              0.6666666666666666,
              "#ed7953"
             ],
             [
              0.7777777777777778,
              "#fb9f3a"
             ],
             [
              0.8888888888888888,
              "#fdca26"
             ],
             [
              1,
              "#f0f921"
             ]
            ],
            "type": "contour"
           }
          ],
          "contourcarpet": [
           {
            "colorbar": {
             "outlinewidth": 0,
             "ticks": ""
            },
            "type": "contourcarpet"
           }
          ],
          "heatmap": [
           {
            "colorbar": {
             "outlinewidth": 0,
             "ticks": ""
            },
            "colorscale": [
             [
              0,
              "#0d0887"
             ],
             [
              0.1111111111111111,
              "#46039f"
             ],
             [
              0.2222222222222222,
              "#7201a8"
             ],
             [
              0.3333333333333333,
              "#9c179e"
             ],
             [
              0.4444444444444444,
              "#bd3786"
             ],
             [
              0.5555555555555556,
              "#d8576b"
             ],
             [
              0.6666666666666666,
              "#ed7953"
             ],
             [
              0.7777777777777778,
              "#fb9f3a"
             ],
             [
              0.8888888888888888,
              "#fdca26"
             ],
             [
              1,
              "#f0f921"
             ]
            ],
            "type": "heatmap"
           }
          ],
          "heatmapgl": [
           {
            "colorbar": {
             "outlinewidth": 0,
             "ticks": ""
            },
            "colorscale": [
             [
              0,
              "#0d0887"
             ],
             [
              0.1111111111111111,
              "#46039f"
             ],
             [
              0.2222222222222222,
              "#7201a8"
             ],
             [
              0.3333333333333333,
              "#9c179e"
             ],
             [
              0.4444444444444444,
              "#bd3786"
             ],
             [
              0.5555555555555556,
              "#d8576b"
             ],
             [
              0.6666666666666666,
              "#ed7953"
             ],
             [
              0.7777777777777778,
              "#fb9f3a"
             ],
             [
              0.8888888888888888,
              "#fdca26"
             ],
             [
              1,
              "#f0f921"
             ]
            ],
            "type": "heatmapgl"
           }
          ],
          "histogram": [
           {
            "marker": {
             "colorbar": {
              "outlinewidth": 0,
              "ticks": ""
             }
            },
            "type": "histogram"
           }
          ],
          "histogram2d": [
           {
            "colorbar": {
             "outlinewidth": 0,
             "ticks": ""
            },
            "colorscale": [
             [
              0,
              "#0d0887"
             ],
             [
              0.1111111111111111,
              "#46039f"
             ],
             [
              0.2222222222222222,
              "#7201a8"
             ],
             [
              0.3333333333333333,
              "#9c179e"
             ],
             [
              0.4444444444444444,
              "#bd3786"
             ],
             [
              0.5555555555555556,
              "#d8576b"
             ],
             [
              0.6666666666666666,
              "#ed7953"
             ],
             [
              0.7777777777777778,
              "#fb9f3a"
             ],
             [
              0.8888888888888888,
              "#fdca26"
             ],
             [
              1,
              "#f0f921"
             ]
            ],
            "type": "histogram2d"
           }
          ],
          "histogram2dcontour": [
           {
            "colorbar": {
             "outlinewidth": 0,
             "ticks": ""
            },
            "colorscale": [
             [
              0,
              "#0d0887"
             ],
             [
              0.1111111111111111,
              "#46039f"
             ],
             [
              0.2222222222222222,
              "#7201a8"
             ],
             [
              0.3333333333333333,
              "#9c179e"
             ],
             [
              0.4444444444444444,
              "#bd3786"
             ],
             [
              0.5555555555555556,
              "#d8576b"
             ],
             [
              0.6666666666666666,
              "#ed7953"
             ],
             [
              0.7777777777777778,
              "#fb9f3a"
             ],
             [
              0.8888888888888888,
              "#fdca26"
             ],
             [
              1,
              "#f0f921"
             ]
            ],
            "type": "histogram2dcontour"
           }
          ],
          "mesh3d": [
           {
            "colorbar": {
             "outlinewidth": 0,
             "ticks": ""
            },
            "type": "mesh3d"
           }
          ],
          "parcoords": [
           {
            "line": {
             "colorbar": {
              "outlinewidth": 0,
              "ticks": ""
             }
            },
            "type": "parcoords"
           }
          ],
          "pie": [
           {
            "automargin": true,
            "type": "pie"
           }
          ],
          "scatter": [
           {
            "marker": {
             "colorbar": {
              "outlinewidth": 0,
              "ticks": ""
             }
            },
            "type": "scatter"
           }
          ],
          "scatter3d": [
           {
            "line": {
             "colorbar": {
              "outlinewidth": 0,
              "ticks": ""
             }
            },
            "marker": {
             "colorbar": {
              "outlinewidth": 0,
              "ticks": ""
             }
            },
            "type": "scatter3d"
           }
          ],
          "scattercarpet": [
           {
            "marker": {
             "colorbar": {
              "outlinewidth": 0,
              "ticks": ""
             }
            },
            "type": "scattercarpet"
           }
          ],
          "scattergeo": [
           {
            "marker": {
             "colorbar": {
              "outlinewidth": 0,
              "ticks": ""
             }
            },
            "type": "scattergeo"
           }
          ],
          "scattergl": [
           {
            "marker": {
             "colorbar": {
              "outlinewidth": 0,
              "ticks": ""
             }
            },
            "type": "scattergl"
           }
          ],
          "scattermapbox": [
           {
            "marker": {
             "colorbar": {
              "outlinewidth": 0,
              "ticks": ""
             }
            },
            "type": "scattermapbox"
           }
          ],
          "scatterpolar": [
           {
            "marker": {
             "colorbar": {
              "outlinewidth": 0,
              "ticks": ""
             }
            },
            "type": "scatterpolar"
           }
          ],
          "scatterpolargl": [
           {
            "marker": {
             "colorbar": {
              "outlinewidth": 0,
              "ticks": ""
             }
            },
            "type": "scatterpolargl"
           }
          ],
          "scatterternary": [
           {
            "marker": {
             "colorbar": {
              "outlinewidth": 0,
              "ticks": ""
             }
            },
            "type": "scatterternary"
           }
          ],
          "surface": [
           {
            "colorbar": {
             "outlinewidth": 0,
             "ticks": ""
            },
            "colorscale": [
             [
              0,
              "#0d0887"
             ],
             [
              0.1111111111111111,
              "#46039f"
             ],
             [
              0.2222222222222222,
              "#7201a8"
             ],
             [
              0.3333333333333333,
              "#9c179e"
             ],
             [
              0.4444444444444444,
              "#bd3786"
             ],
             [
              0.5555555555555556,
              "#d8576b"
             ],
             [
              0.6666666666666666,
              "#ed7953"
             ],
             [
              0.7777777777777778,
              "#fb9f3a"
             ],
             [
              0.8888888888888888,
              "#fdca26"
             ],
             [
              1,
              "#f0f921"
             ]
            ],
            "type": "surface"
           }
          ],
          "table": [
           {
            "cells": {
             "fill": {
              "color": "#EBF0F8"
             },
             "line": {
              "color": "white"
             }
            },
            "header": {
             "fill": {
              "color": "#C8D4E3"
             },
             "line": {
              "color": "white"
             }
            },
            "type": "table"
           }
          ]
         },
         "layout": {
          "annotationdefaults": {
           "arrowcolor": "#2a3f5f",
           "arrowhead": 0,
           "arrowwidth": 1
          },
          "coloraxis": {
           "colorbar": {
            "outlinewidth": 0,
            "ticks": ""
           }
          },
          "colorscale": {
           "diverging": [
            [
             0,
             "#8e0152"
            ],
            [
             0.1,
             "#c51b7d"
            ],
            [
             0.2,
             "#de77ae"
            ],
            [
             0.3,
             "#f1b6da"
            ],
            [
             0.4,
             "#fde0ef"
            ],
            [
             0.5,
             "#f7f7f7"
            ],
            [
             0.6,
             "#e6f5d0"
            ],
            [
             0.7,
             "#b8e186"
            ],
            [
             0.8,
             "#7fbc41"
            ],
            [
             0.9,
             "#4d9221"
            ],
            [
             1,
             "#276419"
            ]
           ],
           "sequential": [
            [
             0,
             "#0d0887"
            ],
            [
             0.1111111111111111,
             "#46039f"
            ],
            [
             0.2222222222222222,
             "#7201a8"
            ],
            [
             0.3333333333333333,
             "#9c179e"
            ],
            [
             0.4444444444444444,
             "#bd3786"
            ],
            [
             0.5555555555555556,
             "#d8576b"
            ],
            [
             0.6666666666666666,
             "#ed7953"
            ],
            [
             0.7777777777777778,
             "#fb9f3a"
            ],
            [
             0.8888888888888888,
             "#fdca26"
            ],
            [
             1,
             "#f0f921"
            ]
           ],
           "sequentialminus": [
            [
             0,
             "#0d0887"
            ],
            [
             0.1111111111111111,
             "#46039f"
            ],
            [
             0.2222222222222222,
             "#7201a8"
            ],
            [
             0.3333333333333333,
             "#9c179e"
            ],
            [
             0.4444444444444444,
             "#bd3786"
            ],
            [
             0.5555555555555556,
             "#d8576b"
            ],
            [
             0.6666666666666666,
             "#ed7953"
            ],
            [
             0.7777777777777778,
             "#fb9f3a"
            ],
            [
             0.8888888888888888,
             "#fdca26"
            ],
            [
             1,
             "#f0f921"
            ]
           ]
          },
          "colorway": [
           "#636efa",
           "#EF553B",
           "#00cc96",
           "#ab63fa",
           "#FFA15A",
           "#19d3f3",
           "#FF6692",
           "#B6E880",
           "#FF97FF",
           "#FECB52"
          ],
          "font": {
           "color": "#2a3f5f"
          },
          "geo": {
           "bgcolor": "white",
           "lakecolor": "white",
           "landcolor": "#E5ECF6",
           "showlakes": true,
           "showland": true,
           "subunitcolor": "white"
          },
          "hoverlabel": {
           "align": "left"
          },
          "hovermode": "closest",
          "mapbox": {
           "style": "light"
          },
          "paper_bgcolor": "white",
          "plot_bgcolor": "#E5ECF6",
          "polar": {
           "angularaxis": {
            "gridcolor": "white",
            "linecolor": "white",
            "ticks": ""
           },
           "bgcolor": "#E5ECF6",
           "radialaxis": {
            "gridcolor": "white",
            "linecolor": "white",
            "ticks": ""
           }
          },
          "scene": {
           "xaxis": {
            "backgroundcolor": "#E5ECF6",
            "gridcolor": "white",
            "gridwidth": 2,
            "linecolor": "white",
            "showbackground": true,
            "ticks": "",
            "zerolinecolor": "white"
           },
           "yaxis": {
            "backgroundcolor": "#E5ECF6",
            "gridcolor": "white",
            "gridwidth": 2,
            "linecolor": "white",
            "showbackground": true,
            "ticks": "",
            "zerolinecolor": "white"
           },
           "zaxis": {
            "backgroundcolor": "#E5ECF6",
            "gridcolor": "white",
            "gridwidth": 2,
            "linecolor": "white",
            "showbackground": true,
            "ticks": "",
            "zerolinecolor": "white"
           }
          },
          "shapedefaults": {
           "line": {
            "color": "#2a3f5f"
           }
          },
          "ternary": {
           "aaxis": {
            "gridcolor": "white",
            "linecolor": "white",
            "ticks": ""
           },
           "baxis": {
            "gridcolor": "white",
            "linecolor": "white",
            "ticks": ""
           },
           "bgcolor": "#E5ECF6",
           "caxis": {
            "gridcolor": "white",
            "linecolor": "white",
            "ticks": ""
           }
          },
          "title": {
           "x": 0.05
          },
          "xaxis": {
           "automargin": true,
           "gridcolor": "white",
           "linecolor": "white",
           "ticks": "",
           "title": {
            "standoff": 15
           },
           "zerolinecolor": "white",
           "zerolinewidth": 2
          },
          "yaxis": {
           "automargin": true,
           "gridcolor": "white",
           "linecolor": "white",
           "ticks": "",
           "title": {
            "standoff": 15
           },
           "zerolinecolor": "white",
           "zerolinewidth": 2
          }
         }
        },
        "title": {
         "text": ""
        }
       }
      },
      "text/html": [
       "<div>\n",
       "        \n",
       "        \n",
       "            <div id=\"b3c12928-fda5-4215-92a2-c73c78ac1023\" class=\"plotly-graph-div\" style=\"height:525px; width:100%;\"></div>\n",
       "            <script type=\"text/javascript\">\n",
       "                require([\"plotly\"], function(Plotly) {\n",
       "                    window.PLOTLYENV=window.PLOTLYENV || {};\n",
       "                    \n",
       "                if (document.getElementById(\"b3c12928-fda5-4215-92a2-c73c78ac1023\")) {\n",
       "                    Plotly.newPlot(\n",
       "                        'b3c12928-fda5-4215-92a2-c73c78ac1023',\n",
       "                        [{\"link\": {\"source\": [0, 0, 0, 0, 0, 1, 1, 1, 1, 1, 2, 2, 2, 2, 2, 3, 3, 3, 3, 3, 4, 4, 4, 4, 4], \"target\": [5, 6, 7, 8, 9, 5, 6, 7, 8, 9, 5, 6, 7, 8, 9, 5, 6, 7, 8, 9, 5, 6, 7, 8, 9], \"value\": [20.0, 0.0, 0.0, 0.0, 18.0, 267.0, 130.0, 6.0, 6.0, 291.0, 91.0, 0.0, 113.0, 0.0, 272.0, 2173.0, 1240.0, 1383.0, 637.0, 4128.0, 35.0, 26.0, 17.0, 10.0, 2006.0]}, \"node\": {\"label\": [\"neither\", \"ecDNA1\", \"ecDNA2\", \"both\", \"low-quality\", \"neither\", \"ecDNA1\", \"ecDNA2\", \"both\", \"low-quality\"], \"line\": {\"color\": \"black\", \"width\": 0.5}, \"pad\": 15, \"thickness\": 20}, \"type\": \"sankey\"}],\n",
       "                        {\"font\": {\"size\": 10}, \"template\": {\"data\": {\"bar\": [{\"error_x\": {\"color\": \"#2a3f5f\"}, \"error_y\": {\"color\": \"#2a3f5f\"}, \"marker\": {\"line\": {\"color\": \"#E5ECF6\", \"width\": 0.5}}, \"type\": \"bar\"}], \"barpolar\": [{\"marker\": {\"line\": {\"color\": \"#E5ECF6\", \"width\": 0.5}}, \"type\": \"barpolar\"}], \"carpet\": [{\"aaxis\": {\"endlinecolor\": \"#2a3f5f\", \"gridcolor\": \"white\", \"linecolor\": \"white\", \"minorgridcolor\": \"white\", \"startlinecolor\": \"#2a3f5f\"}, \"baxis\": {\"endlinecolor\": \"#2a3f5f\", \"gridcolor\": \"white\", \"linecolor\": \"white\", \"minorgridcolor\": \"white\", \"startlinecolor\": \"#2a3f5f\"}, \"type\": \"carpet\"}], \"choropleth\": [{\"colorbar\": {\"outlinewidth\": 0, \"ticks\": \"\"}, \"type\": \"choropleth\"}], \"contour\": [{\"colorbar\": {\"outlinewidth\": 0, \"ticks\": \"\"}, \"colorscale\": [[0.0, \"#0d0887\"], [0.1111111111111111, \"#46039f\"], [0.2222222222222222, \"#7201a8\"], [0.3333333333333333, \"#9c179e\"], [0.4444444444444444, \"#bd3786\"], [0.5555555555555556, \"#d8576b\"], [0.6666666666666666, \"#ed7953\"], [0.7777777777777778, \"#fb9f3a\"], [0.8888888888888888, \"#fdca26\"], [1.0, \"#f0f921\"]], \"type\": \"contour\"}], \"contourcarpet\": [{\"colorbar\": {\"outlinewidth\": 0, \"ticks\": \"\"}, \"type\": \"contourcarpet\"}], \"heatmap\": [{\"colorbar\": {\"outlinewidth\": 0, \"ticks\": \"\"}, \"colorscale\": [[0.0, \"#0d0887\"], [0.1111111111111111, \"#46039f\"], [0.2222222222222222, \"#7201a8\"], [0.3333333333333333, \"#9c179e\"], [0.4444444444444444, \"#bd3786\"], [0.5555555555555556, \"#d8576b\"], [0.6666666666666666, \"#ed7953\"], [0.7777777777777778, \"#fb9f3a\"], [0.8888888888888888, \"#fdca26\"], [1.0, \"#f0f921\"]], \"type\": \"heatmap\"}], \"heatmapgl\": [{\"colorbar\": {\"outlinewidth\": 0, \"ticks\": \"\"}, \"colorscale\": [[0.0, \"#0d0887\"], [0.1111111111111111, \"#46039f\"], [0.2222222222222222, \"#7201a8\"], [0.3333333333333333, \"#9c179e\"], [0.4444444444444444, \"#bd3786\"], [0.5555555555555556, \"#d8576b\"], [0.6666666666666666, \"#ed7953\"], [0.7777777777777778, \"#fb9f3a\"], [0.8888888888888888, \"#fdca26\"], [1.0, \"#f0f921\"]], \"type\": \"heatmapgl\"}], \"histogram\": [{\"marker\": {\"colorbar\": {\"outlinewidth\": 0, \"ticks\": \"\"}}, \"type\": \"histogram\"}], \"histogram2d\": [{\"colorbar\": {\"outlinewidth\": 0, \"ticks\": \"\"}, \"colorscale\": [[0.0, \"#0d0887\"], [0.1111111111111111, \"#46039f\"], [0.2222222222222222, \"#7201a8\"], [0.3333333333333333, \"#9c179e\"], [0.4444444444444444, \"#bd3786\"], [0.5555555555555556, \"#d8576b\"], [0.6666666666666666, \"#ed7953\"], [0.7777777777777778, \"#fb9f3a\"], [0.8888888888888888, \"#fdca26\"], [1.0, \"#f0f921\"]], \"type\": \"histogram2d\"}], \"histogram2dcontour\": [{\"colorbar\": {\"outlinewidth\": 0, \"ticks\": \"\"}, \"colorscale\": [[0.0, \"#0d0887\"], [0.1111111111111111, \"#46039f\"], [0.2222222222222222, \"#7201a8\"], [0.3333333333333333, \"#9c179e\"], [0.4444444444444444, \"#bd3786\"], [0.5555555555555556, \"#d8576b\"], [0.6666666666666666, \"#ed7953\"], [0.7777777777777778, \"#fb9f3a\"], [0.8888888888888888, \"#fdca26\"], [1.0, \"#f0f921\"]], \"type\": \"histogram2dcontour\"}], \"mesh3d\": [{\"colorbar\": {\"outlinewidth\": 0, \"ticks\": \"\"}, \"type\": \"mesh3d\"}], \"parcoords\": [{\"line\": {\"colorbar\": {\"outlinewidth\": 0, \"ticks\": \"\"}}, \"type\": \"parcoords\"}], \"pie\": [{\"automargin\": true, \"type\": \"pie\"}], \"scatter\": [{\"marker\": {\"colorbar\": {\"outlinewidth\": 0, \"ticks\": \"\"}}, \"type\": \"scatter\"}], \"scatter3d\": [{\"line\": {\"colorbar\": {\"outlinewidth\": 0, \"ticks\": \"\"}}, \"marker\": {\"colorbar\": {\"outlinewidth\": 0, \"ticks\": \"\"}}, \"type\": \"scatter3d\"}], \"scattercarpet\": [{\"marker\": {\"colorbar\": {\"outlinewidth\": 0, \"ticks\": \"\"}}, \"type\": \"scattercarpet\"}], \"scattergeo\": [{\"marker\": {\"colorbar\": {\"outlinewidth\": 0, \"ticks\": \"\"}}, \"type\": \"scattergeo\"}], \"scattergl\": [{\"marker\": {\"colorbar\": {\"outlinewidth\": 0, \"ticks\": \"\"}}, \"type\": \"scattergl\"}], \"scattermapbox\": [{\"marker\": {\"colorbar\": {\"outlinewidth\": 0, \"ticks\": \"\"}}, \"type\": \"scattermapbox\"}], \"scatterpolar\": [{\"marker\": {\"colorbar\": {\"outlinewidth\": 0, \"ticks\": \"\"}}, \"type\": \"scatterpolar\"}], \"scatterpolargl\": [{\"marker\": {\"colorbar\": {\"outlinewidth\": 0, \"ticks\": \"\"}}, \"type\": \"scatterpolargl\"}], \"scatterternary\": [{\"marker\": {\"colorbar\": {\"outlinewidth\": 0, \"ticks\": \"\"}}, \"type\": \"scatterternary\"}], \"surface\": [{\"colorbar\": {\"outlinewidth\": 0, \"ticks\": \"\"}, \"colorscale\": [[0.0, \"#0d0887\"], [0.1111111111111111, \"#46039f\"], [0.2222222222222222, \"#7201a8\"], [0.3333333333333333, \"#9c179e\"], [0.4444444444444444, \"#bd3786\"], [0.5555555555555556, \"#d8576b\"], [0.6666666666666666, \"#ed7953\"], [0.7777777777777778, \"#fb9f3a\"], [0.8888888888888888, \"#fdca26\"], [1.0, \"#f0f921\"]], \"type\": \"surface\"}], \"table\": [{\"cells\": {\"fill\": {\"color\": \"#EBF0F8\"}, \"line\": {\"color\": \"white\"}}, \"header\": {\"fill\": {\"color\": \"#C8D4E3\"}, \"line\": {\"color\": \"white\"}}, \"type\": \"table\"}]}, \"layout\": {\"annotationdefaults\": {\"arrowcolor\": \"#2a3f5f\", \"arrowhead\": 0, \"arrowwidth\": 1}, \"coloraxis\": {\"colorbar\": {\"outlinewidth\": 0, \"ticks\": \"\"}}, \"colorscale\": {\"diverging\": [[0, \"#8e0152\"], [0.1, \"#c51b7d\"], [0.2, \"#de77ae\"], [0.3, \"#f1b6da\"], [0.4, \"#fde0ef\"], [0.5, \"#f7f7f7\"], [0.6, \"#e6f5d0\"], [0.7, \"#b8e186\"], [0.8, \"#7fbc41\"], [0.9, \"#4d9221\"], [1, \"#276419\"]], \"sequential\": [[0.0, \"#0d0887\"], [0.1111111111111111, \"#46039f\"], [0.2222222222222222, \"#7201a8\"], [0.3333333333333333, \"#9c179e\"], [0.4444444444444444, \"#bd3786\"], [0.5555555555555556, \"#d8576b\"], [0.6666666666666666, \"#ed7953\"], [0.7777777777777778, \"#fb9f3a\"], [0.8888888888888888, \"#fdca26\"], [1.0, \"#f0f921\"]], \"sequentialminus\": [[0.0, \"#0d0887\"], [0.1111111111111111, \"#46039f\"], [0.2222222222222222, \"#7201a8\"], [0.3333333333333333, \"#9c179e\"], [0.4444444444444444, \"#bd3786\"], [0.5555555555555556, \"#d8576b\"], [0.6666666666666666, \"#ed7953\"], [0.7777777777777778, \"#fb9f3a\"], [0.8888888888888888, \"#fdca26\"], [1.0, \"#f0f921\"]]}, \"colorway\": [\"#636efa\", \"#EF553B\", \"#00cc96\", \"#ab63fa\", \"#FFA15A\", \"#19d3f3\", \"#FF6692\", \"#B6E880\", \"#FF97FF\", \"#FECB52\"], \"font\": {\"color\": \"#2a3f5f\"}, \"geo\": {\"bgcolor\": \"white\", \"lakecolor\": \"white\", \"landcolor\": \"#E5ECF6\", \"showlakes\": true, \"showland\": true, \"subunitcolor\": \"white\"}, \"hoverlabel\": {\"align\": \"left\"}, \"hovermode\": \"closest\", \"mapbox\": {\"style\": \"light\"}, \"paper_bgcolor\": \"white\", \"plot_bgcolor\": \"#E5ECF6\", \"polar\": {\"angularaxis\": {\"gridcolor\": \"white\", \"linecolor\": \"white\", \"ticks\": \"\"}, \"bgcolor\": \"#E5ECF6\", \"radialaxis\": {\"gridcolor\": \"white\", \"linecolor\": \"white\", \"ticks\": \"\"}}, \"scene\": {\"xaxis\": {\"backgroundcolor\": \"#E5ECF6\", \"gridcolor\": \"white\", \"gridwidth\": 2, \"linecolor\": \"white\", \"showbackground\": true, \"ticks\": \"\", \"zerolinecolor\": \"white\"}, \"yaxis\": {\"backgroundcolor\": \"#E5ECF6\", \"gridcolor\": \"white\", \"gridwidth\": 2, \"linecolor\": \"white\", \"showbackground\": true, \"ticks\": \"\", \"zerolinecolor\": \"white\"}, \"zaxis\": {\"backgroundcolor\": \"#E5ECF6\", \"gridcolor\": \"white\", \"gridwidth\": 2, \"linecolor\": \"white\", \"showbackground\": true, \"ticks\": \"\", \"zerolinecolor\": \"white\"}}, \"shapedefaults\": {\"line\": {\"color\": \"#2a3f5f\"}}, \"ternary\": {\"aaxis\": {\"gridcolor\": \"white\", \"linecolor\": \"white\", \"ticks\": \"\"}, \"baxis\": {\"gridcolor\": \"white\", \"linecolor\": \"white\", \"ticks\": \"\"}, \"bgcolor\": \"#E5ECF6\", \"caxis\": {\"gridcolor\": \"white\", \"linecolor\": \"white\", \"ticks\": \"\"}}, \"title\": {\"x\": 0.05}, \"xaxis\": {\"automargin\": true, \"gridcolor\": \"white\", \"linecolor\": \"white\", \"ticks\": \"\", \"title\": {\"standoff\": 15}, \"zerolinecolor\": \"white\", \"zerolinewidth\": 2}, \"yaxis\": {\"automargin\": true, \"gridcolor\": \"white\", \"linecolor\": \"white\", \"ticks\": \"\", \"title\": {\"standoff\": 15}, \"zerolinecolor\": \"white\", \"zerolinewidth\": 2}}}, \"title\": {\"text\": \"\"}},\n",
       "                        {\"responsive\": true}\n",
       "                    ).then(function(){\n",
       "                            \n",
       "var gd = document.getElementById('b3c12928-fda5-4215-92a2-c73c78ac1023');\n",
       "var x = new MutationObserver(function (mutations, observer) {{\n",
       "        var display = window.getComputedStyle(gd).display;\n",
       "        if (!display || display === 'none') {{\n",
       "            console.log([gd, 'removed!']);\n",
       "            Plotly.purge(gd);\n",
       "            observer.disconnect();\n",
       "        }}\n",
       "}});\n",
       "\n",
       "// Listen for the removal of the full notebook cells\n",
       "var notebookContainer = gd.closest('#notebook-container');\n",
       "if (notebookContainer) {{\n",
       "    x.observe(notebookContainer, {childList: true});\n",
       "}}\n",
       "\n",
       "// Listen for the clearing of the current output cell\n",
       "var outputEl = gd.closest('.output');\n",
       "if (outputEl) {{\n",
       "    x.observe(outputEl, {childList: true});\n",
       "}}\n",
       "\n",
       "                        })\n",
       "                };\n",
       "                });\n",
       "            </script>\n",
       "        </div>"
      ]
     },
     "metadata": {},
     "output_type": "display_data"
    },
    {
     "name": "stdout",
     "output_type": "stream",
     "text": [
      "12869.0\n"
     ]
    }
   ],
   "source": [
    "# how concordant are my classifications with copy-scAT?\n",
    "# Low concordance.\n",
    "def permutations_vs_copyscat(sample):\n",
    "    if sample.lower() == 'rcmb56-ht':\n",
    "        df=rcmb56ht().df\n",
    "    elif sample.lower() == 'rcmb56-pdx':\n",
    "        df=rcmb56pdx().df\n",
    "    else:\n",
    "        raise ValueError(\"must be 'rcmb56-ht' or 'rcmb56-pdx'\")\n",
    "    \n",
    "    labels = ['neither','ecDNA1','ecDNA2','both','low-quality']\n",
    "    mat = np.zeros([len(labels),len(labels)])\n",
    "    for i in df.index:\n",
    "        g_bits = 0\n",
    "        if np.isnan(df.loc[i,'ecDNA1_status']):\n",
    "            g_bits = 4\n",
    "        else:\n",
    "            if df.loc[i,'ecDNA1_status']:\n",
    "                g_bits+=1\n",
    "            if df.loc[i,'ecDNA2_status']:\n",
    "                g_bits+=2\n",
    "        e_bits = 0\n",
    "        if np.isnan(df.loc[i,'cs_ecDNA1']):\n",
    "            e_bits=4\n",
    "        else:\n",
    "            if df.loc[i,'cs_ecDNA1']:\n",
    "                e_bits+=1\n",
    "            if df.loc[i,'cs_ecDNA2&3']:\n",
    "                e_bits+=2\n",
    "        mat[g_bits,e_bits]+=1\n",
    "    # convert to sankey input\n",
    "    s = []\n",
    "    t = []\n",
    "    v = []\n",
    "    for i in range(len(labels)):\n",
    "        for j in range(len(labels)):\n",
    "            s.append(i)\n",
    "            t.append(j+len(labels))\n",
    "            v.append(mat[i,j])\n",
    "    # plot\n",
    "    fig = go.Figure(data=[go.Sankey(\n",
    "        node = dict(\n",
    "          pad = 15,\n",
    "          thickness = 20,\n",
    "          line = dict(color = \"black\", width = 0.5),\n",
    "          label = labels+labels\n",
    "        ),\n",
    "        link = dict(\n",
    "          source = s, # indices correspond to labels, eg A1, A2, A1, B1, ...\n",
    "          target = t,\n",
    "          value = v\n",
    "        ),\n",
    "        #arrangement = 'fixed'\n",
    "    )])\n",
    "\n",
    "    fig.update_layout(title_text=\"\", font_size=10)\n",
    "    fig.show()\n",
    "    return mat\n",
    "arr = permutations_vs_copyscat('rcmb56-pdx')\n",
    "print(np.sum(arr))"
   ]
  },
  {
   "cell_type": "code",
   "execution_count": null,
   "id": "cfe60355",
   "metadata": {
    "ExecuteTime": {
     "end_time": "2021-11-03T18:06:30.597407Z",
     "start_time": "2021-11-03T18:06:29.456778Z"
    },
    "code_folding": []
   },
   "outputs": [],
   "source": [
    "# How do the classifications distribute by seurat cluster?\n",
    "# ht: cluster 5 enriched for both ecDNAs.\n",
    "# pdx: cluster 16 enriched for neither.\n",
    "def permutations_vs_seurat(sample):\n",
    "    if sample.lower() == 'rcmb56-ht':\n",
    "        df=rcmb56ht().df\n",
    "    elif sample.lower() == 'rcmb56-pdx':\n",
    "        df=rcmb56pdx().df\n",
    "    else:\n",
    "        raise ValueError(\"must be 'rcmb56-ht' or 'rcmb56-pdx'\")\n",
    "    \n",
    "    labels = ['neither','ecDNA1','ecDNA2','both']\n",
    "    clusters = list(range(len(df.seurat_cluster.dropna().unique())))\n",
    "    mat = np.zeros([len(labels),len(clusters)])\n",
    "    for i in df.index:\n",
    "        g_bits = 0\n",
    "        if np.isnan(df.loc[i,'ecDNA1_status']):\n",
    "            continue\n",
    "        else:\n",
    "            if df.loc[i,'ecDNA1_status']:\n",
    "                g_bits+=1\n",
    "            if df.loc[i,'ecDNA2_status']:\n",
    "                g_bits+=2\n",
    "        if np.isnan(df.loc[i,'seurat_cluster']):\n",
    "            continue\n",
    "        else:\n",
    "            e_bits = int(df.loc[i,'seurat_cluster'])\n",
    "        mat[g_bits,e_bits]+=1\n",
    "    # convert to sankey input\n",
    "    s = []\n",
    "    t = []\n",
    "    v = []\n",
    "    for i in range(len(labels)):\n",
    "        for j in range(len(clusters)):\n",
    "            s.append(i)\n",
    "            t.append(j+len(labels))\n",
    "            v.append(mat[i,j])\n",
    "    # plot\n",
    "    fig = go.Figure(data=[go.Sankey(\n",
    "        node = dict(\n",
    "          pad = 15,\n",
    "          thickness = 20,\n",
    "          line = dict(color = \"black\", width = 0.5),\n",
    "          label = labels+clusters\n",
    "        ),\n",
    "        link = dict(\n",
    "          source = s, # indices correspond to labels, eg A1, A2, A1, B1, ...\n",
    "          target = t,\n",
    "          value = v\n",
    "        ),\n",
    "        #arrangement = 'fixed'\n",
    "    )])\n",
    "\n",
    "    fig.update_layout(title_text=\"\", font_size=10)\n",
    "    fig.show()\n",
    "    return pd.DataFrame(data=mat,index=labels,columns=clusters)\n",
    "permutations_vs_seurat('rcmb56-pdx')"
   ]
  },
  {
   "cell_type": "code",
   "execution_count": null,
   "id": "27670b8e",
   "metadata": {
    "ExecuteTime": {
     "end_time": "2021-11-05T17:37:35.689776Z",
     "start_time": "2021-11-05T17:37:35.436009Z"
    },
    "code_folding": [
     1,
     14,
     27
    ]
   },
   "outputs": [],
   "source": [
    "# Samples positive in both\n",
    "# ht: 84 cells. These look like ecDNA.\n",
    "def tt(sample):\n",
    "    if sample.lower() == 'rcmb56-ht':\n",
    "        df=rcmb56ht().df\n",
    "    elif sample.lower() == 'rcmb56-pdx':\n",
    "        df=rcmb56pdx().df\n",
    "    else:\n",
    "        raise ValueError(\"must be 'rcmb56-ht' or 'rcmb56-pdx'\")\n",
    "    df=df.dropna(subset=['ecDNA1_status','cs_ecDNA1'])\n",
    "    df = df[df['ecDNA1_status'] & df['cs_ecDNA1']]\n",
    "    with open('tt.txt','w') as g:\n",
    "        string = '\\n'.join(df.index)+'\\n'\n",
    "        g.write(string)\n",
    "    return string\n",
    "# Samples positive by permutation test, but not by copyscat\n",
    "# ht: 116 cells. With few exceptions, these also look ecDNA+.\n",
    "def tf(sample):\n",
    "    if sample.lower() == 'rcmb56-ht':\n",
    "        df=rcmb56ht().df\n",
    "    elif sample.lower() == 'rcmb56-pdx':\n",
    "        df=rcmb56pdx().df\n",
    "    else:\n",
    "        raise ValueError(\"must be 'rcmb56-ht' or 'rcmb56-pdx'\")\n",
    "    df=df.dropna(subset=['ecDNA1_status','cs_ecDNA1'])\n",
    "    df = df[df['ecDNA1_status'] & ~df['cs_ecDNA1']]\n",
    "    with open('tf.txt','w') as g:\n",
    "        string = '\\n'.join(df.index)+'\\n'\n",
    "        g.write(string)\n",
    "    return string\n",
    "# Samples negative by permutation test, but positive by copyscat\n",
    "# 11 cells. 2 with obvious ecDNA, ATTGCGCCATTGTGGC-1.bw and TGTTCCTCACCTCACC-1.bw\n",
    "def ft(sample):\n",
    "    if sample.lower() == 'rcmb56-ht':\n",
    "        df=rcmb56ht().df\n",
    "    elif sample.lower() == 'rcmb56-pdx':\n",
    "        df=rcmb56pdx().df\n",
    "    else:\n",
    "        raise ValueError(\"must be 'rcmb56-ht' or 'rcmb56-pdx'\")\n",
    "    df=df.dropna(subset=['ecDNA1_status','cs_ecDNA1'])\n",
    "    df = df[~df['ecDNA1_status'] & df['cs_ecDNA1']]\n",
    "    with open('ft.txt','w') as g:\n",
    "        string = '\\n'.join(df.index)+'\\n'\n",
    "        g.write(string)\n",
    "    return string\n",
    "ft('rcmb56-ht')"
   ]
  },
  {
   "cell_type": "code",
   "execution_count": null,
   "id": "09473310",
   "metadata": {
    "ExecuteTime": {
     "end_time": "2021-11-05T18:26:26.554289Z",
     "start_time": "2021-11-05T18:26:26.467998Z"
    }
   },
   "outputs": [],
   "source": [
    "# Misclassified entries\n",
    "df = rcmb56ht().df\n",
    "misclassified = ['ATTGCGCCATTGTGGC-1','TGTTCCTCACCTCACC-1']\n",
    "df=df.loc[misclassified]\n",
    "df"
   ]
  },
  {
   "cell_type": "code",
   "execution_count": null,
   "id": "33578e1d",
   "metadata": {
    "ExecuteTime": {
     "end_time": "2021-11-06T00:16:03.481440Z",
     "start_time": "2021-11-06T00:16:03.296492Z"
    },
    "code_folding": [
     14
    ]
   },
   "outputs": [],
   "source": [
    "# Correlation with gene expression\n",
    "\n",
    "# function to calculate Cohen's d for independent samples\n",
    "def cohend(d1, d2):\n",
    "    # calculate the size of samples\n",
    "    n1, n2 = len(d1), len(d2)\n",
    "    # calculate the variance of the samples\n",
    "    s1, s2 = np.var(d1, ddof=1), np.var(d2, ddof=1)\n",
    "    # calculate the pooled standard deviation\n",
    "    s = math.sqrt(((n1 - 1) * s1 + (n2 - 1) * s2) / (n1 + n2 - 2))\n",
    "    # calculate the means of the samples\n",
    "    u1, u2 = np.mean(d1), np.mean(d2)\n",
    "    # calculate the effect size\n",
    "    return (u1 - u2) / s\n",
    "def mannwhitneyu_permutation_gene_expression(sample,gene):\n",
    "    if sample.lower() == 'rcmb56-ht':\n",
    "        df=rcmb56ht().df\n",
    "    elif sample.lower() == 'rcmb56-pdx':\n",
    "        df=rcmb56pdx().df\n",
    "    else:\n",
    "        raise ValueError(\"must be 'rcmb56-ht' or 'rcmb56-pdx'\")\n",
    "    if gene == 'DNTTIP2':\n",
    "        ecDNA = 'ecDNA1'\n",
    "    elif gene == 'KMT2E':\n",
    "        ecDNA = 'ecDNA2'\n",
    "    else:\n",
    "        raise ValueError(\"must be 'DNTTIP2' or 'KMT2E'\")\n",
    "    df = df[df.qc_pass_seurat]\n",
    "    p = df[ecDNA+'_status']\n",
    "    gene_tbl=\"../2021-08-29_seurat/\"+sample.lower()+\"_\"+gene.lower()+\".sct.tsv\"\n",
    "    g = pd.read_csv(gene_tbl,sep='\\t',index_col=1)\n",
    "    g=g[gene]\n",
    "    df = pd.concat([p,g],axis=1,join='inner')\n",
    "    #plot = sns.displot(data=df,x=ecDNA+'_status',y=gene)\n",
    "    ax = sns.boxplot(data=df,x=ecDNA+'_status',y=gene)\n",
    "    #plot = sns.swarmplot(data=df,x=ecDNA+'_status',y=gene)\n",
    "    #plt.set_axis_labels(\"log z-score \"+ecDNA, \"log \"+gene+\" expression\")\n",
    "    ax.set(xlabel=ecDNA+' status', ylabel= \"scaled \"+gene+\" expression\")\n",
    "    #return df\n",
    "    g1 = df[df[ecDNA+'_status']][gene].values\n",
    "    g2 = df[df[ecDNA+'_status']==False][gene].values\n",
    "    print(\"Cohen's d:\",cohend(g1,g2))\n",
    "    return scipy.stats.mannwhitneyu(g1,g2)\n",
    "mannwhitneyu_permutation_gene_expression('rcmb56-ht','DNTTIP2')"
   ]
  },
  {
   "cell_type": "code",
   "execution_count": null,
   "id": "e43ac8fa",
   "metadata": {
    "ExecuteTime": {
     "end_time": "2021-11-06T00:16:09.699522Z",
     "start_time": "2021-11-06T00:16:09.523384Z"
    }
   },
   "outputs": [],
   "source": [
    "mannwhitneyu_permutation_gene_expression('rcmb56-ht','KMT2E')"
   ]
  },
  {
   "cell_type": "code",
   "execution_count": null,
   "id": "6c3ab21b",
   "metadata": {
    "ExecuteTime": {
     "end_time": "2021-11-06T00:16:29.175837Z",
     "start_time": "2021-11-06T00:16:28.982295Z"
    },
    "code_folding": [
     0
    ]
   },
   "outputs": [],
   "source": [
    "def mannwhitneyu_copyscat_gene_expression(sample,gene):\n",
    "    if sample.lower() == 'rcmb56-ht':\n",
    "        df=rcmb56ht().df\n",
    "    elif sample.lower() == 'rcmb56-pdx':\n",
    "        df=rcmb56pdx().df\n",
    "    else:\n",
    "        raise ValueError(\"must be 'rcmb56-ht' or 'rcmb56-pdx'\")\n",
    "    if gene == 'DNTTIP2':\n",
    "        ecDNA = 'ecDNA1'\n",
    "    elif gene == 'KMT2E':\n",
    "        ecDNA = 'ecDNA2&3'\n",
    "    else:\n",
    "        raise ValueError(\"must be 'DNTTIP2' or 'KMT2E'\")\n",
    "    var='cs_'+ecDNA\n",
    "    p = df[var].fillna(False)\n",
    "    gene_tbl=\"../2021-08-29_seurat/\"+sample.lower()+\"_\"+gene.lower()+\".sct.tsv\"\n",
    "    g = pd.read_csv(gene_tbl,sep='\\t',index_col=1)\n",
    "    g=g[gene]\n",
    "    df = pd.concat([p,g],axis=1,join='inner')\n",
    "    #plot = sns.displot(data=df,x=ecDNA+'_status',y=gene)\n",
    "    ax = sns.boxplot(data=df,x=var,y=gene)\n",
    "    #plot = sns.swarmplot(data=df,x=ecDNA+'_status',y=gene)\n",
    "    #plt.set_axis_labels(\"log z-score \"+ecDNA, \"log \"+gene+\" expression\")\n",
    "    ax.set(xlabel=ecDNA+' status', ylabel= \"scaled \"+gene+\" expression\")\n",
    "    g1 = df[df[var]][gene].values\n",
    "    g2 = df[df[var]==False][gene].values\n",
    "    print(\"Cohen's d:\",cohend(g1,g2))\n",
    "    return scipy.stats.mannwhitneyu(g1,g2)\n",
    "mannwhitneyu_copyscat_gene_expression('rcmb56-ht','DNTTIP2')"
   ]
  },
  {
   "cell_type": "code",
   "execution_count": null,
   "id": "282fcb02",
   "metadata": {
    "ExecuteTime": {
     "end_time": "2021-11-06T00:16:30.113697Z",
     "start_time": "2021-11-06T00:16:29.936191Z"
    }
   },
   "outputs": [],
   "source": [
    "mannwhitneyu_copyscat_gene_expression('rcmb56-ht','KMT2E')"
   ]
  },
  {
   "cell_type": "code",
   "execution_count": null,
   "id": "ba5e2495",
   "metadata": {
    "ExecuteTime": {
     "end_time": "2021-11-06T00:40:19.817155Z",
     "start_time": "2021-11-06T00:40:19.559040Z"
    }
   },
   "outputs": [],
   "source": [
    "mannwhitneyu_permutation_gene_expression('rcmb56-pdx','DNTTIP2')"
   ]
  },
  {
   "cell_type": "code",
   "execution_count": null,
   "id": "3220f1f9",
   "metadata": {
    "ExecuteTime": {
     "end_time": "2021-11-06T00:40:11.283522Z",
     "start_time": "2021-11-06T00:40:11.008480Z"
    }
   },
   "outputs": [],
   "source": [
    "mannwhitneyu_permutation_gene_expression('rcmb56-pdx','KMT2E')"
   ]
  },
  {
   "cell_type": "code",
   "execution_count": null,
   "id": "dd910952",
   "metadata": {
    "ExecuteTime": {
     "end_time": "2021-11-06T00:42:35.842957Z",
     "start_time": "2021-11-06T00:42:35.523973Z"
    }
   },
   "outputs": [],
   "source": [
    "mannwhitneyu_copyscat_gene_expression('rcmb56-pdx','DNTTIP2')"
   ]
  },
  {
   "cell_type": "code",
   "execution_count": null,
   "id": "086e7780",
   "metadata": {
    "ExecuteTime": {
     "end_time": "2021-11-06T00:43:11.939863Z",
     "start_time": "2021-11-06T00:43:11.690500Z"
    }
   },
   "outputs": [],
   "source": [
    "mannwhitneyu_copyscat_gene_expression('rcmb56-pdx','KMT2E')"
   ]
  },
  {
   "cell_type": "code",
   "execution_count": 34,
   "id": "1e2a6139",
   "metadata": {
    "ExecuteTime": {
     "end_time": "2021-11-08T21:55:21.522794Z",
     "start_time": "2021-11-08T21:55:20.883884Z"
    }
   },
   "outputs": [
    {
     "data": {
      "text/plain": [
       "(0.40179815915042905, 2.960220079984901e-116)"
      ]
     },
     "execution_count": 34,
     "metadata": {},
     "output_type": "execute_result"
    },
    {
     "data": {
      "image/png": "[encoded data removed]",
      "text/plain": [
       "<Figure size 360x360 with 1 Axes>"
      ]
     },
     "metadata": {
      "needs_background": "light"
     },
     "output_type": "display_data"
    }
   ],
   "source": [
    "def pearsonr_permutation_gene_expression(sample,gene):\n",
    "    if sample.lower() == 'rcmb56-ht':\n",
    "        df=rcmb56ht().df\n",
    "    elif sample.lower() == 'rcmb56-pdx':\n",
    "        df=rcmb56pdx().df\n",
    "    else:\n",
    "        raise ValueError(\"must be 'rcmb56-ht' or 'rcmb56-pdx'\")\n",
    "    if gene == 'DNTTIP2':\n",
    "        ecDNA = 'ecDNA1'\n",
    "    elif gene == 'KMT2E':\n",
    "        ecDNA = 'ecDNA2'\n",
    "    else:\n",
    "        raise ValueError(\"must be 'DNTTIP2' or 'KMT2E'\")\n",
    "    df = df[df.qc_pass_seurat]\n",
    "    var=ecDNA+'_z-score'\n",
    "    #p = np.log1p(df[var])\n",
    "    p = df[var]\n",
    "    q = df[ecDNA+'_status']\n",
    "    gene_tbl=\"../2021-08-29_seurat/\"+sample.lower()+\"_\"+gene.lower()+\".sct.tsv\"\n",
    "    g = pd.read_csv(gene_tbl,sep='\\t',index_col=1)\n",
    "    g=g[gene]\n",
    "    df = pd.concat([p,g,q],axis=1,join='inner')\n",
    "    #df = np.log1p(df)\n",
    "    plot = sns.displot(data=df,x=var,y=gene)#,hue=ecDNA+'_status')\n",
    "    plot.set(xlabel=\"log z-score \"+ecDNA, ylabel= \"scaled \"+gene+\" expression\")\n",
    "    #plot.set_axis_labels(\"z-score \"+ecDNA, \"log \"+gene+\" expression\")\n",
    "    #return df\n",
    "    return scipy.stats.pearsonr(df[var],df[gene])\n",
    "pearsonr_permutation_gene_expression('rcmb56-ht','DNTTIP2')"
   ]
  },
  {
   "cell_type": "code",
   "execution_count": 35,
   "id": "2be75f3d",
   "metadata": {
    "ExecuteTime": {
     "end_time": "2021-11-08T21:55:33.562497Z",
     "start_time": "2021-11-08T21:55:33.258498Z"
    }
   },
   "outputs": [
    {
     "data": {
      "text/plain": [
       "(0.5377483498970776, 1.84106103529719e-223)"
      ]
     },
     "execution_count": 35,
     "metadata": {},
     "output_type": "execute_result"
    },
    {
     "data": {
      "image/png": "[encoded data removed]",
      "text/plain": [
       "<Figure size 360x360 with 1 Axes>"
      ]
     },
     "metadata": {
      "needs_background": "light"
     },
     "output_type": "display_data"
    }
   ],
   "source": [
    "pearsonr_permutation_gene_expression('rcmb56-ht','KMT2E')"
   ]
  },
  {
   "cell_type": "code",
   "execution_count": 36,
   "id": "ec929422",
   "metadata": {
    "ExecuteTime": {
     "end_time": "2021-11-08T21:55:35.557234Z",
     "start_time": "2021-11-08T21:55:34.218074Z"
    }
   },
   "outputs": [
    {
     "data": {
      "text/plain": [
       "(0.5547124466873512, 0.0)"
      ]
     },
     "execution_count": 36,
     "metadata": {},
     "output_type": "execute_result"
    },
    {
     "data": {
      "image/png": "[encoded data removed]",
      "text/plain": [
       "<Figure size 360x360 with 1 Axes>"
      ]
     },
     "metadata": {
      "needs_background": "light"
     },
     "output_type": "display_data"
    }
   ],
   "source": [
    "pearsonr_permutation_gene_expression('rcmb56-pdx','DNTTIP2')"
   ]
  },
  {
   "cell_type": "code",
   "execution_count": 37,
   "id": "23db8168",
   "metadata": {
    "ExecuteTime": {
     "end_time": "2021-11-08T21:55:36.006652Z",
     "start_time": "2021-11-08T21:55:35.560059Z"
    }
   },
   "outputs": [
    {
     "data": {
      "text/plain": [
       "(0.6848995874970196, 0.0)"
      ]
     },
     "execution_count": 37,
     "metadata": {},
     "output_type": "execute_result"
    },
    {
     "data": {
      "image/png": "[encoded data removed]",
      "text/plain": [
       "<Figure size 360x360 with 1 Axes>"
      ]
     },
     "metadata": {
      "needs_background": "light"
     },
     "output_type": "display_data"
    }
   ],
   "source": [
    "pearsonr_permutation_gene_expression('rcmb56-pdx','KMT2E')"
   ]
  },
  {
   "cell_type": "markdown",
   "id": "67ff6404",
   "metadata": {},
   "source": [
    "# Scratch"
   ]
  },
  {
   "cell_type": "code",
   "execution_count": null,
   "id": "ab9b6b77",
   "metadata": {
    "ExecuteTime": {
     "end_time": "2021-11-06T00:45:25.752243Z",
     "start_time": "2021-11-06T00:45:25.585016Z"
    }
   },
   "outputs": [],
   "source": [
    "df = rcmb56pdx().df\n",
    "df.sort_values('ecDNA2_z-score')"
   ]
  },
  {
   "cell_type": "code",
   "execution_count": null,
   "id": "08adf874",
   "metadata": {
    "ExecuteTime": {
     "end_time": "2021-11-04T21:16:51.611296Z",
     "start_time": "2021-11-04T21:16:51.249690Z"
    }
   },
   "outputs": [],
   "source": [
    "rcmb56ht().df.loc['AAACATGCAGCTAACC-1','seurat_cluster']\n",
    "df = rcmb56ht().df\n",
    "df=df.dropna(subset=['ecDNA1_status','cs_ecDNA1'])\n",
    "df[df['ecDNA1_status'] & df['cs_ecDNA1']]\n",
    "with"
   ]
  },
  {
   "cell_type": "code",
   "execution_count": null,
   "id": "3e449ace",
   "metadata": {
    "ExecuteTime": {
     "end_time": "2021-10-25T17:45:36.374257Z",
     "start_time": "2021-10-25T17:45:35.924828Z"
    }
   },
   "outputs": [],
   "source": [
    "import argparse\n",
    "import os\n",
    "import sys\n",
    "import pandas as pd\n",
    "import pyranges as pr"
   ]
  },
  {
   "cell_type": "code",
   "execution_count": null,
   "id": "b477e26e",
   "metadata": {
    "ExecuteTime": {
     "end_time": "2021-10-25T17:47:33.044146Z",
     "start_time": "2021-10-25T17:47:33.038226Z"
    }
   },
   "outputs": [],
   "source": [
    "DATA_ROOT=\"/home/ochapman/expanse/projects/scRNA+ATAC\"\n",
    "\n",
    "TARGET_FILE=os.path.join(DATA_ROOT,'intervals','case11_ecDNA_2.hg38.bed')\n",
    "FRAGMENTS_DIR=os.path.join(DATA_ROOT,'2021-10-18_fragments-tsv-gz','test')"
   ]
  },
  {
   "cell_type": "code",
   "execution_count": null,
   "id": "46d42865",
   "metadata": {
    "ExecuteTime": {
     "end_time": "2021-10-25T18:18:17.218604Z",
     "start_time": "2021-10-25T18:18:04.077081Z"
    }
   },
   "outputs": [],
   "source": [
    "def sum_coverage(target_file,fragments_dir):\n",
    "    d = {}\n",
    "    target = pr.read_bed(target_file)\n",
    "    for entry in os.scandir(fragments_dir):\n",
    "        barcode = os.path.split(entry.path)[1]\n",
    "        fragments_file = os.path.join(entry.path,barcode+'.bed')\n",
    "        fragments = pr.read_bed(fragments_file)\n",
    "        r=target.coverage(fragments)\n",
    "        \n",
    "        d[barcode]=sum(r.NumberOverlaps)\n",
    "    barcodes,counts = zip(*d.items())\n",
    "    return pd.DataFrame(counts,barcodes)\n",
    "\n",
    "def coverage(target_file,fragments_dir):\n",
    "    d = {}\n",
    "    target = pr.read_bed(target_file)\n",
    "    for entry in os.scandir(fragments_dir):\n",
    "        barcode = os.path.split(entry.path)[1]\n",
    "        #print(barcode)\n",
    "        fragments_file = os.path.join(entry.path,barcode+'.bed')\n",
    "        fragments = pr.read_bed(fragments_file)\n",
    "        r=target.coverage(fragments)    \n",
    "        i = (r.Chromosome.astype(str) + ':' + r.Start.astype(str) + '-' + r.End.astype(str)).values\n",
    "        d[barcode]=pd.Series(r.NumberOverlaps.values,i)\n",
    "    #print('convert to dataframe')\n",
    "    barcodes,counts = zip(*d.items())\n",
    "    return pd.DataFrame(counts,barcodes)\n",
    "\n",
    "def count_overlaps(target_file,fragments_dir):\n",
    "    grs = {}\n",
    "    target = pr.read_bed(target_file)\n",
    "    for entry in os.scandir(fragments_dir):\n",
    "        barcode = os.path.split(entry.path)[1]\n",
    "        fragments_file = os.path.join(entry.path, barcode+'.bed')\n",
    "        grs[barcode] = pr.read_bed(fragments_file)\n",
    "    r = pr.count_overlaps(grs,target)\n",
    "    i = (r.Chromosome.astype(str) + ':' + r.Start.astype(str) + '-' + r.End.astype(str)).values\n",
    "    return r.df.set_index(i).iloc[:,3:].transpose()\n",
    "\n",
    "#r = coverage(TARGET_FILE,FRAGMENTS_DIR)\n",
    "#r\n",
    "\n",
    "r = count_overlaps(TARGET_FILE,FRAGMENTS_DIR)\n",
    "r"
   ]
  },
  {
   "cell_type": "code",
   "execution_count": null,
   "id": "2b541e56",
   "metadata": {
    "ExecuteTime": {
     "end_time": "2021-10-25T18:25:23.470418Z",
     "start_time": "2021-10-25T18:25:23.456520Z"
    }
   },
   "outputs": [],
   "source": [
    "r.sum(axis=1)"
   ]
  },
  {
   "cell_type": "code",
   "execution_count": null,
   "id": "8c1d916d",
   "metadata": {
    "ExecuteTime": {
     "end_time": "2021-10-22T21:00:18.359906Z",
     "start_time": "2021-10-22T21:00:07.660797Z"
    }
   },
   "outputs": [],
   "source": [
    "sum_coverage(TARGET_FILE,FRAGMENTS_DIR)"
   ]
  },
  {
   "cell_type": "code",
   "execution_count": null,
   "id": "0fab0aaf",
   "metadata": {
    "ExecuteTime": {
     "end_time": "2021-10-22T21:03:54.818398Z",
     "start_time": "2021-10-22T21:03:54.797849Z"
    }
   },
   "outputs": [],
   "source": [
    "r.set_index(r.Chromosome.astype(str) + ':' + r.Start.astype(str) + '-' + r.End.astype(str))"
   ]
  },
  {
   "cell_type": "code",
   "execution_count": null,
   "id": "542383f3",
   "metadata": {
    "ExecuteTime": {
     "end_time": "2021-10-25T18:35:20.438753Z",
     "start_time": "2021-10-25T18:35:20.411637Z"
    }
   },
   "outputs": [],
   "source": [
    "r.to_csv\n"
   ]
  },
  {
   "cell_type": "code",
   "execution_count": null,
   "id": "0669b9d9",
   "metadata": {
    "ExecuteTime": {
     "end_time": "2021-10-22T21:07:40.840803Z",
     "start_time": "2021-10-22T21:07:40.832676Z"
    }
   },
   "outputs": [],
   "source": [
    "r.NumberOverlaps.values"
   ]
  },
  {
   "cell_type": "code",
   "execution_count": null,
   "id": "f7d22858",
   "metadata": {},
   "outputs": [],
   "source": []
  }
 ],
 "metadata": {
  "kernelspec": {
   "display_name": "Python [conda env:root] *",
   "language": "python",
   "name": "conda-root-py"
  },
  "language_info": {
   "codemirror_mode": {
    "name": "ipython",
    "version": 3
   },
   "file_extension": ".py",
   "mimetype": "text/x-python",
   "name": "python",
   "nbconvert_exporter": "python",
   "pygments_lexer": "ipython3",
   "version": "3.7.8"
  }
 },
 "nbformat": 4,
 "nbformat_minor": 5
}
