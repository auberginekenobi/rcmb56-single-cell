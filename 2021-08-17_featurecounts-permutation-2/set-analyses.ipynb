{
 "cells": [
  {
   "cell_type": "code",
   "execution_count": null,
   "id": "ccbc7ac9",
   "metadata": {},
   "outputs": [],
   "source": [
    "# 3 September 2021\n",
    "# Set analyses between different ecDNA classifications"
   ]
  },
  {
   "cell_type": "code",
   "execution_count": 1,
   "id": "fa969f6e",
   "metadata": {
    "ExecuteTime": {
     "end_time": "2021-09-04T00:37:39.542807Z",
     "start_time": "2021-09-04T00:37:29.986527Z"
    }
   },
   "outputs": [],
   "source": [
    "import pandas as pd\n",
    "import os\n",
    "os.chdir('/mnt/c/Users/ochapman/Documents/Mesirov/scRNA+ATAC/2021-08-17_featurecounts-permutation-2')\n",
    "import seaborn as sns\n",
    "import matplotlib.pyplot as plt\n",
    "import scipy\n",
    "import math\n",
    "from statsmodels.stats.multitest import multipletests \n",
    "from matplotlib_venn import *\n",
    "\n",
    "import upsetplot\n",
    "\n",
    "%matplotlib inline\n",
    "pd.set_option('display.max_rows', 30)"
   ]
  },
  {
   "cell_type": "code",
   "execution_count": null,
   "id": "d431d882",
   "metadata": {},
   "outputs": [],
   "source": [
    "# file locations\n",
    "RCMB56-ht_cell-classifications.tsv"
   ]
  },
  {
   "cell_type": "code",
   "execution_count": 22,
   "id": "77062194",
   "metadata": {
    "ExecuteTime": {
     "end_time": "2021-09-04T01:08:09.260029Z",
     "start_time": "2021-09-04T01:08:09.211969Z"
    }
   },
   "outputs": [],
   "source": [
    "# functions\n",
    "def load_ecDNA_classes(sample):\n",
    "    file = sample+\"_cell-classifications.tsv\"\n",
    "    return pd.read_csv(file,sep='\\t',index_col=0)\n",
    "\n",
    "def load_seurat_metadata(sample):\n",
    "    file = \"../2021-08-29_seurat/\"+sample.lower()+\"_seurat_metadata.tsv\"\n",
    "    return pd.read_csv(file,sep='\\t',index_col=0)\n",
    "\n",
    "def summary_venn3(df,out_prefix=None):\n",
    "    _000 = df[~df.ecDNA1 & ~df.ecDNA2 & ~df.ecDNA3]\n",
    "    _001 = df[~df.ecDNA1 & ~df.ecDNA2 & df.ecDNA3]\n",
    "    _010 = df[~df.ecDNA1 & df.ecDNA2 & ~df.ecDNA3]\n",
    "    _100 = df[df.ecDNA1 & ~df.ecDNA2 & ~df.ecDNA3]\n",
    "    _101 = df[df.ecDNA1 & ~df.ecDNA2 & df.ecDNA3]\n",
    "    _110 = df[df.ecDNA1 & df.ecDNA2 & ~df.ecDNA3]\n",
    "    _011 = df[~df.ecDNA1 & df.ecDNA2 & df.ecDNA3]\n",
    "    _111 = df[df.ecDNA1 & df.ecDNA2 & df.ecDNA3]\n",
    "\n",
    "    subsets = (len(_100),len(_010),len(_110),len(_001),len(_101),len(_011),len(_111),len(_000))\n",
    "    plt.figure()\n",
    "    venn3_unweighted(subsets[:-1],set_labels=['ecDNA1','ecDNA2','ecDNA3'],alpha=0.5)\n",
    "    if out_prefix != None:\n",
    "        plt.savefig(out_prefix+' venn.svg')\n",
    "        plt.savefig(out_prefix+' venn.png')\n",
    "    return subsets\n",
    "    \n",
    "def plot_upset(df,out_prefix=None):\n",
    "    # data = upsetplot.from_indicators(df) # from_indicators is bugged, hardcode for now.\n",
    "    _000 = df[~df.ecDNA1 & ~df.ecDNA2 & ~df.ecDNA3]\n",
    "    _001 = df[~df.ecDNA1 & ~df.ecDNA2 & df.ecDNA3]\n",
    "    _010 = df[~df.ecDNA1 & df.ecDNA2 & ~df.ecDNA3]\n",
    "    _100 = df[df.ecDNA1 & ~df.ecDNA2 & ~df.ecDNA3]\n",
    "    _101 = df[df.ecDNA1 & ~df.ecDNA2 & df.ecDNA3]\n",
    "    _110 = df[df.ecDNA1 & df.ecDNA2 & ~df.ecDNA3]\n",
    "    _011 = df[~df.ecDNA1 & df.ecDNA2 & df.ecDNA3]\n",
    "    _111 = df[df.ecDNA1 & df.ecDNA2 & df.ecDNA3]\n",
    "    data = upsetplot.from_memberships(\n",
    "        [[],\n",
    "         ['ecDNA1'],\n",
    "         ['ecDNA2'],\n",
    "         ['ecDNA3'],\n",
    "         ['ecDNA1','ecDNA2'],\n",
    "         ['ecDNA1','ecDNA3'],\n",
    "         ['ecDNA2','ecDNA3'],\n",
    "         ['ecDNA1','ecDNA2','ecDNA3']\n",
    "        ],\n",
    "        data=[len(_000),len(_100),len(_010),len(_001),len(_110),len(_101),len(_011),len(_111)]\n",
    "    )\n",
    "    plt.figure()\n",
    "    upsetplot.plot(data)\n",
    "    if out_prefix != None:\n",
    "        plt.savefig(out_prefix+' upset.svg')\n",
    "        plt.savefig(out_prefix+' upset.png')\n",
    "    return data"
   ]
  },
  {
   "cell_type": "code",
   "execution_count": 26,
   "id": "3bc51e04",
   "metadata": {
    "ExecuteTime": {
     "end_time": "2021-09-04T01:10:01.747187Z",
     "start_time": "2021-09-04T01:10:01.649218Z"
    }
   },
   "outputs": [
    {
     "data": {
      "text/plain": [
       "(21, 24, 36, 57, 220, 382, 12111, 18)"
      ]
     },
     "execution_count": 26,
     "metadata": {},
     "output_type": "execute_result"
    },
    {
     "data": {
      "image/png": "[encoded data removed]",
      "text/plain": [
       "<Figure size 432x288 with 1 Axes>"
      ]
     },
     "metadata": {},
     "output_type": "display_data"
    }
   ],
   "source": [
    "# rmcb56-ht, seurat cells\n",
    "sample='RCMB56-pdx'\n",
    "df = load_ecDNA_classes(sample)\n",
    "#df = df.loc[load_seurat_metadata(sample).index.tolist(),:]\n",
    "summary_venn3(df)"
   ]
  },
  {
   "cell_type": "code",
   "execution_count": null,
   "id": "331a7422",
   "metadata": {},
   "outputs": [],
   "source": []
  }
 ],
 "metadata": {
  "kernelspec": {
   "display_name": "Python [conda env:root] *",
   "language": "python",
   "name": "conda-root-py"
  },
  "language_info": {
   "codemirror_mode": {
    "name": "ipython",
    "version": 3
   },
   "file_extension": ".py",
   "mimetype": "text/x-python",
   "name": "python",
   "nbconvert_exporter": "python",
   "pygments_lexer": "ipython3",
   "version": "3.7.8"
  }
 },
 "nbformat": 4,
 "nbformat_minor": 5
}
