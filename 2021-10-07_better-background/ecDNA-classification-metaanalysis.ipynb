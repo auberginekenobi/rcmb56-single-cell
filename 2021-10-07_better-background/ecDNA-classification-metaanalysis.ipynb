{
 "cells": [
  {
   "cell_type": "code",
   "execution_count": 72,
   "id": "79c0a0f6",
   "metadata": {
    "ExecuteTime": {
     "end_time": "2021-10-18T19:21:45.820748Z",
     "start_time": "2021-10-18T19:21:45.807968Z"
    }
   },
   "outputs": [],
   "source": [
    "## Stats on my (correct) ecDNA classifications with global background.\n",
    "import pandas as pd\n",
    "import sys\n",
    "sys.path.append(\"/mnt/c/Users/ochapman/Documents/Mesirov/scRNA+ATAC/src\")\n",
    "from SingleCellExperiment import *"
   ]
  },
  {
   "cell_type": "code",
   "execution_count": 73,
   "id": "212f6567",
   "metadata": {
    "ExecuteTime": {
     "end_time": "2021-10-18T19:21:46.501307Z",
     "start_time": "2021-10-18T19:21:46.242997Z"
    }
   },
   "outputs": [],
   "source": [
    "genome_bg = rcmb56ht()\n",
    "ecdna_bg = rcmb56ht_alt_bg()"
   ]
  },
  {
   "cell_type": "code",
   "execution_count": 74,
   "id": "3fa1dc44",
   "metadata": {
    "ExecuteTime": {
     "end_time": "2021-10-18T19:21:46.758959Z",
     "start_time": "2021-10-18T19:21:46.732562Z"
    }
   },
   "outputs": [
    {
     "name": "stdout",
     "output_type": "stream",
     "text": [
      "321 / 2986 ecDNA1+\n",
      "2693 / 2986 ecDNA2+\n",
      "0 / 2986 ecDNA3+\n",
      "263 / 2986 ecDNA1+\n",
      "126 / 2986 ecDNA2+\n",
      "0 / 2986 ecDNA3+\n"
     ]
    }
   ],
   "source": [
    "def print_ecDNA_classifications_by_ecDNA(self,n=3):\n",
    "    df=self.df.copy()\n",
    "    df = df[df['qc_pass_seurat'] == True]\n",
    "    for i in range(n):\n",
    "        ec=\"ecDNA\"+str(i+1)\n",
    "        num=len(df[df[ec+\"_status\"]]==True)\n",
    "        denom=len(df)\n",
    "        print(\"{} / {} {}+\".format(num,denom,ec))\n",
    "\n",
    "def get_ecDNA_classifications_by_subgroup(self):\n",
    "    df=self.df.copy()\n",
    "    df = df[df['qc_pass_seurat'] == True]\n",
    "    df = df.groupby(['ecDNA1_status','seurat_clusters']).count()['qc_pass_seurat']\n",
    "    for i in df.index.get_level_values(1).unique():\n",
    "        num=df[True][i]\n",
    "        denom=df[True][i]+df[False][i]\n",
    "        pct = round(float(num)/denom*100)\n",
    "        print(\"cluster {} ecDNA+: {} / {} ({}%)\".format(i,num,denom,pct))\n",
    "\n",
    "print_ecDNA_classifications_by_ecDNA(genome_bg)\n",
    "print_ecDNA_classifications_by_ecDNA(ecdna_bg)"
   ]
  },
  {
   "cell_type": "code",
   "execution_count": 77,
   "id": "e2be45e7",
   "metadata": {
    "ExecuteTime": {
     "end_time": "2021-10-18T19:22:23.678935Z",
     "start_time": "2021-10-18T19:22:23.652849Z"
    }
   },
   "outputs": [
    {
     "name": "stdout",
     "output_type": "stream",
     "text": [
      "Cluster 0.0: 42 discordant classifications of 771\n",
      "Cluster 1.0: 27 discordant classifications of 523\n",
      "Cluster 2.0: 17 discordant classifications of 464\n",
      "Cluster 3.0: 14 discordant classifications of 422\n",
      "Cluster 4.0: 13 discordant classifications of 350\n",
      "Cluster 5.0: 98 discordant classifications of 172\n",
      "Cluster 6.0: 1 discordant classifications of 79\n",
      "Cluster 7.0: 3 discordant classifications of 72\n",
      "Cluster 8.0: 1 discordant classifications of 53\n",
      "Cluster 9.0: 7 discordant classifications of 44\n",
      "Cluster 10.0: 2 discordant classifications of 36\n"
     ]
    }
   ],
   "source": [
    "def print_discordant_by_cluster():\n",
    "    df = genome_bg.df.join(ecdna_bg.df,lsuffix='_g',rsuffix='_e')\n",
    "    df=df[df['qc_pass_seurat_g']].sort_values('seurat_clusters_g')\n",
    "    for c in df['seurat_clusters_g'].unique():\n",
    "        sub = df[df['seurat_clusters_g']==c]\n",
    "        num = len(sub[sub['ecDNA1_status_g'] != sub['ecDNA2_status_e']])\n",
    "        denom = len(sub)\n",
    "        print(\"Cluster {}: {} discordant classifications of {}\".format(c,num,denom))\n",
    "print_discordant_by_cluster()"
   ]
  },
  {
   "cell_type": "code",
   "execution_count": 59,
   "id": "f625cc85",
   "metadata": {
    "ExecuteTime": {
     "end_time": "2021-10-15T22:09:12.806259Z",
     "start_time": "2021-10-15T22:09:12.788395Z"
    }
   },
   "outputs": [
    {
     "data": {
      "text/html": [
       "<div>\n",
       "<style scoped>\n",
       "    .dataframe tbody tr th:only-of-type {\n",
       "        vertical-align: middle;\n",
       "    }\n",
       "\n",
       "    .dataframe tbody tr th {\n",
       "        vertical-align: top;\n",
       "    }\n",
       "\n",
       "    .dataframe thead th {\n",
       "        text-align: right;\n",
       "    }\n",
       "</style>\n",
       "<table border=\"1\" class=\"dataframe\">\n",
       "  <thead>\n",
       "    <tr style=\"text-align: right;\">\n",
       "      <th></th>\n",
       "      <th>qc_pass_seurat</th>\n",
       "      <th>nCount_RNA</th>\n",
       "      <th>nFeature_RNA</th>\n",
       "      <th>percent.mt</th>\n",
       "      <th>nCount_ATAC</th>\n",
       "      <th>nFeature_ATAC</th>\n",
       "      <th>seurat_clusters</th>\n",
       "      <th>ecDNA1_z-score</th>\n",
       "      <th>ecDNA1_p-val</th>\n",
       "      <th>ecDNA1_q-val</th>\n",
       "      <th>ecDNA1_status</th>\n",
       "      <th>ecDNA2_z-score</th>\n",
       "      <th>ecDNA2_p-val</th>\n",
       "      <th>ecDNA2_q-val</th>\n",
       "      <th>ecDNA2_status</th>\n",
       "      <th>ecDNA3_z-score</th>\n",
       "      <th>ecDNA3_p-val</th>\n",
       "      <th>ecDNA3_q-val</th>\n",
       "      <th>ecDNA3_status</th>\n",
       "    </tr>\n",
       "  </thead>\n",
       "  <tbody>\n",
       "    <tr>\n",
       "      <th>CCAACCCGTTTGGGCG-1</th>\n",
       "      <td>True</td>\n",
       "      <td>2553.0</td>\n",
       "      <td>1572.0</td>\n",
       "      <td>0.039170</td>\n",
       "      <td>14612.0</td>\n",
       "      <td>6166.0</td>\n",
       "      <td>6.0</td>\n",
       "      <td>8.793417</td>\n",
       "      <td>0.000999</td>\n",
       "      <td>0.016481</td>\n",
       "      <td>True</td>\n",
       "      <td>4.539500</td>\n",
       "      <td>0.009990</td>\n",
       "      <td>0.170053</td>\n",
       "      <td>True</td>\n",
       "      <td>0.097980</td>\n",
       "      <td>0.324675</td>\n",
       "      <td>0.349362</td>\n",
       "      <td>False</td>\n",
       "    </tr>\n",
       "    <tr>\n",
       "      <th>CTTGAATCACAAGCCT-1</th>\n",
       "      <td>True</td>\n",
       "      <td>10421.0</td>\n",
       "      <td>3572.0</td>\n",
       "      <td>0.211112</td>\n",
       "      <td>23645.0</td>\n",
       "      <td>9604.0</td>\n",
       "      <td>6.0</td>\n",
       "      <td>11.041797</td>\n",
       "      <td>0.000999</td>\n",
       "      <td>0.016481</td>\n",
       "      <td>True</td>\n",
       "      <td>14.641309</td>\n",
       "      <td>0.000999</td>\n",
       "      <td>0.032075</td>\n",
       "      <td>True</td>\n",
       "      <td>0.239438</td>\n",
       "      <td>0.216783</td>\n",
       "      <td>0.346501</td>\n",
       "      <td>False</td>\n",
       "    </tr>\n",
       "    <tr>\n",
       "      <th>GCCTCAAAGGAATAAC-1</th>\n",
       "      <td>True</td>\n",
       "      <td>2893.0</td>\n",
       "      <td>1603.0</td>\n",
       "      <td>0.172831</td>\n",
       "      <td>7787.0</td>\n",
       "      <td>3441.0</td>\n",
       "      <td>6.0</td>\n",
       "      <td>10.648084</td>\n",
       "      <td>0.000999</td>\n",
       "      <td>0.016481</td>\n",
       "      <td>True</td>\n",
       "      <td>4.508006</td>\n",
       "      <td>0.006993</td>\n",
       "      <td>0.150224</td>\n",
       "      <td>True</td>\n",
       "      <td>0.258005</td>\n",
       "      <td>0.221778</td>\n",
       "      <td>0.346501</td>\n",
       "      <td>False</td>\n",
       "    </tr>\n",
       "    <tr>\n",
       "      <th>TCTAACCGTGTTGCAA-1</th>\n",
       "      <td>True</td>\n",
       "      <td>1278.0</td>\n",
       "      <td>1016.0</td>\n",
       "      <td>0.860720</td>\n",
       "      <td>13352.0</td>\n",
       "      <td>5945.0</td>\n",
       "      <td>6.0</td>\n",
       "      <td>3.429541</td>\n",
       "      <td>0.010989</td>\n",
       "      <td>0.118888</td>\n",
       "      <td>True</td>\n",
       "      <td>1.613402</td>\n",
       "      <td>0.062937</td>\n",
       "      <td>0.170053</td>\n",
       "      <td>True</td>\n",
       "      <td>0.163511</td>\n",
       "      <td>0.408591</td>\n",
       "      <td>0.412180</td>\n",
       "      <td>False</td>\n",
       "    </tr>\n",
       "  </tbody>\n",
       "</table>\n",
       "</div>"
      ],
      "text/plain": [
       "                    qc_pass_seurat  nCount_RNA  nFeature_RNA  percent.mt  \\\n",
       "CCAACCCGTTTGGGCG-1            True      2553.0        1572.0    0.039170   \n",
       "CTTGAATCACAAGCCT-1            True     10421.0        3572.0    0.211112   \n",
       "GCCTCAAAGGAATAAC-1            True      2893.0        1603.0    0.172831   \n",
       "TCTAACCGTGTTGCAA-1            True      1278.0        1016.0    0.860720   \n",
       "\n",
       "                    nCount_ATAC  nFeature_ATAC  seurat_clusters  \\\n",
       "CCAACCCGTTTGGGCG-1      14612.0         6166.0              6.0   \n",
       "CTTGAATCACAAGCCT-1      23645.0         9604.0              6.0   \n",
       "GCCTCAAAGGAATAAC-1       7787.0         3441.0              6.0   \n",
       "TCTAACCGTGTTGCAA-1      13352.0         5945.0              6.0   \n",
       "\n",
       "                    ecDNA1_z-score  ecDNA1_p-val  ecDNA1_q-val ecDNA1_status  \\\n",
       "CCAACCCGTTTGGGCG-1        8.793417      0.000999      0.016481          True   \n",
       "CTTGAATCACAAGCCT-1       11.041797      0.000999      0.016481          True   \n",
       "GCCTCAAAGGAATAAC-1       10.648084      0.000999      0.016481          True   \n",
       "TCTAACCGTGTTGCAA-1        3.429541      0.010989      0.118888          True   \n",
       "\n",
       "                    ecDNA2_z-score  ecDNA2_p-val  ecDNA2_q-val ecDNA2_status  \\\n",
       "CCAACCCGTTTGGGCG-1        4.539500      0.009990      0.170053          True   \n",
       "CTTGAATCACAAGCCT-1       14.641309      0.000999      0.032075          True   \n",
       "GCCTCAAAGGAATAAC-1        4.508006      0.006993      0.150224          True   \n",
       "TCTAACCGTGTTGCAA-1        1.613402      0.062937      0.170053          True   \n",
       "\n",
       "                    ecDNA3_z-score  ecDNA3_p-val  ecDNA3_q-val ecDNA3_status  \n",
       "CCAACCCGTTTGGGCG-1        0.097980      0.324675      0.349362         False  \n",
       "CTTGAATCACAAGCCT-1        0.239438      0.216783      0.346501         False  \n",
       "GCCTCAAAGGAATAAC-1        0.258005      0.221778      0.346501         False  \n",
       "TCTAACCGTGTTGCAA-1        0.163511      0.408591      0.412180         False  "
      ]
     },
     "execution_count": 59,
     "metadata": {},
     "output_type": "execute_result"
    }
   ],
   "source": [
    "# ecDNA1+ in cluster 6\n",
    "df = genome_bg.df.copy()\n",
    "df = df[df['qc_pass_seurat'] == True]\n",
    "df[(df[\"ecDNA1_status\"]==True) & (df[\"seurat_clusters\"]==6)]"
   ]
  },
  {
   "cell_type": "code",
   "execution_count": 50,
   "id": "84f46aa9",
   "metadata": {
    "ExecuteTime": {
     "end_time": "2021-10-15T22:04:09.032340Z",
     "start_time": "2021-10-15T22:04:09.017210Z"
    },
    "collapsed": true
   },
   "outputs": [
    {
     "data": {
      "text/plain": [
       "                    qc_pass_seurat  nCount_RNA  nFeature_RNA  percent.mt  \\\n",
       "AAACATGCAAATGCCC-1            True     10461.0        3261.0    0.325017   \n",
       "AAACATGCACAACAAA-1            True      1244.0         942.0    0.000000   \n",
       "AAACATGCAGCTAACC-1           False         NaN           NaN         NaN   \n",
       "AAACATGCAGTTTCTC-1           False         NaN           NaN         NaN   \n",
       "AAACCAACACTAAGAA-1           False         NaN           NaN         NaN   \n",
       "...                            ...         ...           ...         ...   \n",
       "TTTGTGTTCGACCTGA-1            True      2225.0        1443.0    0.134831   \n",
       "TTTGTTGGTGAGAAAC-1           False         NaN           NaN         NaN   \n",
       "TTTGTTGGTGATCAGC-1            True      3708.0        1830.0    1.618123   \n",
       "TTTGTTGGTTAATGCG-1           False         NaN           NaN         NaN   \n",
       "TTTGTTGGTTCCTGTG-1            True      1016.0         790.0    3.543307   \n",
       "\n",
       "                    nCount_ATAC  nFeature_ATAC  seurat_clusters  \\\n",
       "AAACATGCAAATGCCC-1      12657.0         5758.0              1.0   \n",
       "AAACATGCACAACAAA-1       5262.0         2438.0              6.0   \n",
       "AAACATGCAGCTAACC-1          NaN            NaN              NaN   \n",
       "AAACATGCAGTTTCTC-1          NaN            NaN              NaN   \n",
       "AAACCAACACTAAGAA-1          NaN            NaN              NaN   \n",
       "...                         ...            ...              ...   \n",
       "TTTGTGTTCGACCTGA-1       4017.0         2007.0              0.0   \n",
       "TTTGTTGGTGAGAAAC-1          NaN            NaN              NaN   \n",
       "TTTGTTGGTGATCAGC-1       4202.0         2159.0              1.0   \n",
       "TTTGTTGGTTAATGCG-1          NaN            NaN              NaN   \n",
       "TTTGTTGGTTCCTGTG-1      20299.0         9073.0              1.0   \n",
       "\n",
       "                    ecDNA1_z-score  ecDNA1_p-val  ecDNA1_q-val ecDNA1_status  \\\n",
       "AAACATGCAAATGCCC-1        1.065677      0.139860      0.263833         False   \n",
       "AAACATGCACAACAAA-1        0.211691      0.390609      0.399028         False   \n",
       "AAACATGCAGCTAACC-1             NaN           NaN           NaN           NaN   \n",
       "AAACATGCAGTTTCTC-1             NaN           NaN           NaN           NaN   \n",
       "AAACCAACACTAAGAA-1             NaN           NaN           NaN           NaN   \n",
       "...                            ...           ...           ...           ...   \n",
       "TTTGTGTTCGACCTGA-1        0.543193      0.205794      0.268355         False   \n",
       "TTTGTTGGTGAGAAAC-1             NaN           NaN           NaN           NaN   \n",
       "TTTGTTGGTGATCAGC-1        0.824431      0.156843      0.263833         False   \n",
       "TTTGTTGGTTAATGCG-1             NaN           NaN           NaN           NaN   \n",
       "TTTGTTGGTTCCTGTG-1        0.461671      0.202797      0.267825         False   \n",
       "\n",
       "                    ecDNA2_z-score  ecDNA2_p-val  ecDNA2_q-val ecDNA2_status  \\\n",
       "AAACATGCAAATGCCC-1        1.358520      0.081918      0.170053          True   \n",
       "AAACATGCACAACAAA-1        0.751315      0.162837      0.187662          True   \n",
       "AAACATGCAGCTAACC-1             NaN           NaN           NaN           NaN   \n",
       "AAACATGCAGTTTCTC-1             NaN           NaN           NaN           NaN   \n",
       "AAACCAACACTAAGAA-1             NaN           NaN           NaN           NaN   \n",
       "...                            ...           ...           ...           ...   \n",
       "TTTGTGTTCGACCTGA-1        1.673407      0.052947      0.170053          True   \n",
       "TTTGTTGGTGAGAAAC-1             NaN           NaN           NaN           NaN   \n",
       "TTTGTTGGTGATCAGC-1        2.004870      0.040959      0.170053          True   \n",
       "TTTGTTGGTTAATGCG-1             NaN           NaN           NaN           NaN   \n",
       "TTTGTTGGTTCCTGTG-1        1.291610      0.090909      0.170053          True   \n",
       "\n",
       "                    ecDNA3_z-score  ecDNA3_p-val  ecDNA3_q-val ecDNA3_status  \n",
       "AAACATGCAAATGCCC-1        0.555039      0.222777      0.346501         False  \n",
       "AAACATGCACAACAAA-1        0.068145      0.307692      0.346501         False  \n",
       "AAACATGCAGCTAACC-1             NaN           NaN           NaN           NaN  \n",
       "AAACATGCAGTTTCTC-1             NaN           NaN           NaN           NaN  \n",
       "AAACCAACACTAAGAA-1             NaN           NaN           NaN           NaN  \n",
       "...                            ...           ...           ...           ...  \n",
       "TTTGTGTTCGACCTGA-1        0.186338      0.205794      0.346501         False  \n",
       "TTTGTTGGTGAGAAAC-1             NaN           NaN           NaN           NaN  \n",
       "TTTGTTGGTGATCAGC-1        0.496416      0.156843      0.346501         False  \n",
       "TTTGTTGGTTAATGCG-1             NaN           NaN           NaN           NaN  \n",
       "TTTGTTGGTTCCTGTG-1        0.123373      0.287712      0.346501         False  \n",
       "\n",
       "[4473 rows x 19 columns]"
      ]
     },
     "execution_count": 50,
     "metadata": {},
     "output_type": "execute_result"
    }
   ],
   "source": [
    "genome_bg"
   ]
  },
  {
   "cell_type": "code",
   "execution_count": 75,
   "id": "e88f0943",
   "metadata": {
    "ExecuteTime": {
     "end_time": "2021-10-18T19:21:47.858600Z",
     "start_time": "2021-10-18T19:21:47.826957Z"
    }
   },
   "outputs": [
    {
     "data": {
      "text/html": [
       "<div>\n",
       "<style scoped>\n",
       "    .dataframe tbody tr th:only-of-type {\n",
       "        vertical-align: middle;\n",
       "    }\n",
       "\n",
       "    .dataframe tbody tr th {\n",
       "        vertical-align: top;\n",
       "    }\n",
       "\n",
       "    .dataframe thead th {\n",
       "        text-align: right;\n",
       "    }\n",
       "</style>\n",
       "<table border=\"1\" class=\"dataframe\">\n",
       "  <thead>\n",
       "    <tr style=\"text-align: right;\">\n",
       "      <th></th>\n",
       "      <th>qc_pass_seurat_g</th>\n",
       "      <th>nCount_RNA_g</th>\n",
       "      <th>nFeature_RNA_g</th>\n",
       "      <th>percent.mt_g</th>\n",
       "      <th>nCount_ATAC_g</th>\n",
       "      <th>nFeature_ATAC_g</th>\n",
       "      <th>seurat_clusters_g</th>\n",
       "      <th>ecDNA1_z-score_g</th>\n",
       "      <th>ecDNA1_p-val_g</th>\n",
       "      <th>ecDNA1_q-val_g</th>\n",
       "      <th>...</th>\n",
       "      <th>ecDNA1_q-val_e</th>\n",
       "      <th>ecDNA1_status_e</th>\n",
       "      <th>ecDNA2_z-score_e</th>\n",
       "      <th>ecDNA2_p-val_e</th>\n",
       "      <th>ecDNA2_q-val_e</th>\n",
       "      <th>ecDNA2_status_e</th>\n",
       "      <th>ecDNA3_z-score_e</th>\n",
       "      <th>ecDNA3_p-val_e</th>\n",
       "      <th>ecDNA3_q-val_e</th>\n",
       "      <th>ecDNA3_status_e</th>\n",
       "    </tr>\n",
       "  </thead>\n",
       "  <tbody>\n",
       "  </tbody>\n",
       "</table>\n",
       "<p>0 rows × 38 columns</p>\n",
       "</div>"
      ],
      "text/plain": [
       "Empty DataFrame\n",
       "Columns: [qc_pass_seurat_g, nCount_RNA_g, nFeature_RNA_g, percent.mt_g, nCount_ATAC_g, nFeature_ATAC_g, seurat_clusters_g, ecDNA1_z-score_g, ecDNA1_p-val_g, ecDNA1_q-val_g, ecDNA1_status_g, ecDNA2_z-score_g, ecDNA2_p-val_g, ecDNA2_q-val_g, ecDNA2_status_g, ecDNA3_z-score_g, ecDNA3_p-val_g, ecDNA3_q-val_g, ecDNA3_status_g, qc_pass_seurat_e, nCount_RNA_e, nFeature_RNA_e, percent.mt_e, nCount_ATAC_e, nFeature_ATAC_e, seurat_clusters_e, ecDNA1_z-score_e, ecDNA1_p-val_e, ecDNA1_q-val_e, ecDNA1_status_e, ecDNA2_z-score_e, ecDNA2_p-val_e, ecDNA2_q-val_e, ecDNA2_status_e, ecDNA3_z-score_e, ecDNA3_p-val_e, ecDNA3_q-val_e, ecDNA3_status_e]\n",
       "Index: []\n",
       "\n",
       "[0 rows x 38 columns]"
      ]
     },
     "execution_count": 75,
     "metadata": {},
     "output_type": "execute_result"
    }
   ],
   "source": [
    "# ecDNA2+ acc. to genome, ecDNA2- acc. to ecdna\n",
    "df = genome_bg.df.join(ecdna_bg.df,lsuffix='_g',rsuffix='_e')\n",
    "df=df[df['seurat_clusters_g']==6]\n",
    "df[(df[\"ecDNA1_status_g\"]==True) & (df[\"ecDNA1_status_e\"]==False)]\n",
    "#df[(df[\"ecDNA2_status_g\"]==True) & (df[\"ecDNA2_status_e\"]==True)]"
   ]
  },
  {
   "cell_type": "code",
   "execution_count": 4,
   "id": "398b84b2",
   "metadata": {
    "ExecuteTime": {
     "end_time": "2021-10-15T20:22:36.162051Z",
     "start_time": "2021-10-15T20:22:36.150046Z"
    },
    "collapsed": true
   },
   "outputs": [
    {
     "data": {
      "text/plain": [
       "                    qc_pass_seurat  nCount_RNA  nFeature_RNA  percent.mt  \\\n",
       "AAACATGCAAATGCCC-1            True     10461.0        3261.0    0.325017   \n",
       "AAACATGCACAACAAA-1            True      1244.0         942.0    0.000000   \n",
       "AAACATGCAGCTAACC-1           False         NaN           NaN         NaN   \n",
       "AAACATGCAGTTTCTC-1           False         NaN           NaN         NaN   \n",
       "AAACCAACACTAAGAA-1           False         NaN           NaN         NaN   \n",
       "...                            ...         ...           ...         ...   \n",
       "TTTGTGTTCGACCTGA-1            True      2225.0        1443.0    0.134831   \n",
       "TTTGTTGGTGAGAAAC-1           False         NaN           NaN         NaN   \n",
       "TTTGTTGGTGATCAGC-1            True      3708.0        1830.0    1.618123   \n",
       "TTTGTTGGTTAATGCG-1           False         NaN           NaN         NaN   \n",
       "TTTGTTGGTTCCTGTG-1            True      1016.0         790.0    3.543307   \n",
       "\n",
       "                    nCount_ATAC  nFeature_ATAC  seurat_clusters  \\\n",
       "AAACATGCAAATGCCC-1      12657.0         5758.0              1.0   \n",
       "AAACATGCACAACAAA-1       5262.0         2438.0              6.0   \n",
       "AAACATGCAGCTAACC-1          NaN            NaN              NaN   \n",
       "AAACATGCAGTTTCTC-1          NaN            NaN              NaN   \n",
       "AAACCAACACTAAGAA-1          NaN            NaN              NaN   \n",
       "...                         ...            ...              ...   \n",
       "TTTGTGTTCGACCTGA-1       4017.0         2007.0              0.0   \n",
       "TTTGTTGGTGAGAAAC-1          NaN            NaN              NaN   \n",
       "TTTGTTGGTGATCAGC-1       4202.0         2159.0              1.0   \n",
       "TTTGTTGGTTAATGCG-1          NaN            NaN              NaN   \n",
       "TTTGTTGGTTCCTGTG-1      20299.0         9073.0              1.0   \n",
       "\n",
       "                    ecDNA1_z-score  ecDNA1_p-val  ecDNA1_q-val ecDNA1_status  \\\n",
       "AAACATGCAAATGCCC-1        0.614918      0.236763      0.448564         False   \n",
       "AAACATGCACAACAAA-1        0.604983      0.629371      0.639001         False   \n",
       "AAACATGCAGCTAACC-1             NaN           NaN           NaN           NaN   \n",
       "AAACATGCAGTTTCTC-1             NaN           NaN           NaN           NaN   \n",
       "AAACCAACACTAAGAA-1             NaN           NaN           NaN           NaN   \n",
       "...                            ...           ...           ...           ...   \n",
       "TTTGTGTTCGACCTGA-1        0.018140      0.364635      0.456724         False   \n",
       "TTTGTTGGTGAGAAAC-1             NaN           NaN           NaN           NaN   \n",
       "TTTGTTGGTGATCAGC-1        0.377839      0.304695      0.448564         False   \n",
       "TTTGTTGGTTAATGCG-1             NaN           NaN           NaN           NaN   \n",
       "TTTGTTGGTTCCTGTG-1        0.024504      0.365634      0.456724         False   \n",
       "\n",
       "                    ecDNA2_z-score  ecDNA2_p-val  ecDNA2_q-val ecDNA2_status  \\\n",
       "AAACATGCAAATGCCC-1        0.869275      0.158841      0.308360         False   \n",
       "AAACATGCACAACAAA-1        0.232878      0.297702      0.335575         False   \n",
       "AAACATGCAGCTAACC-1             NaN           NaN           NaN           NaN   \n",
       "AAACATGCAGTTTCTC-1             NaN           NaN           NaN           NaN   \n",
       "AAACCAACACTAAGAA-1             NaN           NaN           NaN           NaN   \n",
       "...                            ...           ...           ...           ...   \n",
       "TTTGTGTTCGACCTGA-1        0.813880      0.148851      0.308360         False   \n",
       "TTTGTTGGTGAGAAAC-1             NaN           NaN           NaN           NaN   \n",
       "TTTGTTGGTGATCAGC-1        1.408665      0.092907      0.308360         False   \n",
       "TTTGTTGGTTAATGCG-1             NaN           NaN           NaN           NaN   \n",
       "TTTGTTGGTTCCTGTG-1        0.745542      0.181818      0.308360         False   \n",
       "\n",
       "                    ecDNA3_z-score  ecDNA3_p-val  ecDNA3_q-val ecDNA3_status  \n",
       "AAACATGCAAATGCCC-1        0.171389      0.333666      0.554197         False  \n",
       "AAACATGCACAACAAA-1        0.361512      0.537463      0.565292         False  \n",
       "AAACATGCAGCTAACC-1             NaN           NaN           NaN           NaN  \n",
       "AAACATGCAGTTTCTC-1             NaN           NaN           NaN           NaN  \n",
       "AAACCAACACTAAGAA-1             NaN           NaN           NaN           NaN  \n",
       "...                            ...           ...           ...           ...  \n",
       "TTTGTGTTCGACCTGA-1        0.233108      0.364635      0.554197         False  \n",
       "TTTGTTGGTGAGAAAC-1             NaN           NaN           NaN           NaN  \n",
       "TTTGTTGGTGATCAGC-1        0.091398      0.304695      0.554197         False  \n",
       "TTTGTTGGTTAATGCG-1             NaN           NaN           NaN           NaN  \n",
       "TTTGTTGGTTCCTGTG-1        0.269405      0.451548      0.554197         False  \n",
       "\n",
       "[4473 rows x 19 columns]"
      ]
     },
     "execution_count": 4,
     "metadata": {},
     "output_type": "execute_result"
    }
   ],
   "source": [
    "ecdna_bg"
   ]
  },
  {
   "cell_type": "code",
   "execution_count": null,
   "id": "8426f7d1",
   "metadata": {},
   "outputs": [],
   "source": []
  }
 ],
 "metadata": {
  "kernelspec": {
   "display_name": "Python [conda env:root] *",
   "language": "python",
   "name": "conda-root-py"
  },
  "language_info": {
   "codemirror_mode": {
    "name": "ipython",
    "version": 3
   },
   "file_extension": ".py",
   "mimetype": "text/x-python",
   "name": "python",
   "nbconvert_exporter": "python",
   "pygments_lexer": "ipython3",
   "version": "3.7.8"
  }
 },
 "nbformat": 4,
 "nbformat_minor": 5
}
