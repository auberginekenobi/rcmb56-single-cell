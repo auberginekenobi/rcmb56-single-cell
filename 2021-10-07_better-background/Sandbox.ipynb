{
 "cells": [
  {
   "cell_type": "code",
   "execution_count": 1,
   "id": "1556c6cd",
   "metadata": {
    "ExecuteTime": {
     "end_time": "2021-10-07T23:40:07.997481Z",
     "start_time": "2021-10-07T23:40:07.568652Z"
    }
   },
   "outputs": [],
   "source": [
    "import os\n",
    "import sys\n",
    "sys.path.append(\"/mnt/c/Users/ochapman/Documents/Mesirov/scRNA+ATAC/src\")\n",
    "from SingleCellExperiment import *"
   ]
  },
  {
   "cell_type": "code",
   "execution_count": 2,
   "id": "98cf5168",
   "metadata": {
    "ExecuteTime": {
     "end_time": "2021-10-07T23:40:08.046224Z",
     "start_time": "2021-10-07T23:40:08.009016Z"
    }
   },
   "outputs": [
    {
     "data": {
      "text/plain": [
       "                    qc_pass_seurat  nCount_RNA  nFeature_RNA  percent.mt  \\\n",
       "AAACATGCAAATGCCC-1            True     10461.0        3261.0    0.325017   \n",
       "AAACATGCACAACAAA-1            True      1244.0         942.0    0.000000   \n",
       "AAACATGCAGCTAACC-1           False         NaN           NaN         NaN   \n",
       "AAACATGCAGTTTCTC-1           False         NaN           NaN         NaN   \n",
       "AAACCAACACTAAGAA-1           False         NaN           NaN         NaN   \n",
       "...                            ...         ...           ...         ...   \n",
       "TTTGTGTTCGACCTGA-1            True      2225.0        1443.0    0.134831   \n",
       "TTTGTTGGTGAGAAAC-1           False         NaN           NaN         NaN   \n",
       "TTTGTTGGTGATCAGC-1            True      3708.0        1830.0    1.618123   \n",
       "TTTGTTGGTTAATGCG-1           False         NaN           NaN         NaN   \n",
       "TTTGTTGGTTCCTGTG-1            True      1016.0         790.0    3.543307   \n",
       "\n",
       "                    nCount_ATAC  nFeature_ATAC  seurat_clusters  \n",
       "AAACATGCAAATGCCC-1      12657.0         5758.0              1.0  \n",
       "AAACATGCACAACAAA-1       5262.0         2438.0              6.0  \n",
       "AAACATGCAGCTAACC-1          NaN            NaN              NaN  \n",
       "AAACATGCAGTTTCTC-1          NaN            NaN              NaN  \n",
       "AAACCAACACTAAGAA-1          NaN            NaN              NaN  \n",
       "...                         ...            ...              ...  \n",
       "TTTGTGTTCGACCTGA-1       4017.0         2007.0              0.0  \n",
       "TTTGTTGGTGAGAAAC-1          NaN            NaN              NaN  \n",
       "TTTGTTGGTGATCAGC-1       4202.0         2159.0              1.0  \n",
       "TTTGTTGGTTAATGCG-1          NaN            NaN              NaN  \n",
       "TTTGTTGGTTCCTGTG-1      20299.0         9073.0              1.0  \n",
       "\n",
       "[4473 rows x 7 columns]"
      ]
     },
     "execution_count": 2,
     "metadata": {},
     "output_type": "execute_result"
    }
   ],
   "source": [
    "rcmb56ht()"
   ]
  },
  {
   "cell_type": "code",
   "execution_count": 2,
   "id": "0b91c69a",
   "metadata": {
    "ExecuteTime": {
     "end_time": "2021-10-07T23:22:18.515556Z",
     "start_time": "2021-10-07T23:22:18.476222Z"
    }
   },
   "outputs": [
    {
     "data": {
      "text/html": [
       "<div>\n",
       "<style scoped>\n",
       "    .dataframe tbody tr th:only-of-type {\n",
       "        vertical-align: middle;\n",
       "    }\n",
       "\n",
       "    .dataframe tbody tr th {\n",
       "        vertical-align: top;\n",
       "    }\n",
       "\n",
       "    .dataframe thead th {\n",
       "        text-align: right;\n",
       "    }\n",
       "</style>\n",
       "<table border=\"1\" class=\"dataframe\">\n",
       "  <thead>\n",
       "    <tr style=\"text-align: right;\">\n",
       "      <th></th>\n",
       "      <th>qc_pass_seurat</th>\n",
       "      <th>nCount_RNA</th>\n",
       "      <th>nFeature_RNA</th>\n",
       "      <th>percent.mt</th>\n",
       "      <th>nCount_ATAC</th>\n",
       "      <th>nFeature_ATAC</th>\n",
       "      <th>seurat_clusters</th>\n",
       "    </tr>\n",
       "  </thead>\n",
       "  <tbody>\n",
       "    <tr>\n",
       "      <th>AAACATGCAAATGCCC-1</th>\n",
       "      <td>True</td>\n",
       "      <td>10461.0</td>\n",
       "      <td>3261.0</td>\n",
       "      <td>0.325017</td>\n",
       "      <td>12657.0</td>\n",
       "      <td>5758.0</td>\n",
       "      <td>1.0</td>\n",
       "    </tr>\n",
       "    <tr>\n",
       "      <th>AAACATGCACAACAAA-1</th>\n",
       "      <td>True</td>\n",
       "      <td>1244.0</td>\n",
       "      <td>942.0</td>\n",
       "      <td>0.000000</td>\n",
       "      <td>5262.0</td>\n",
       "      <td>2438.0</td>\n",
       "      <td>6.0</td>\n",
       "    </tr>\n",
       "    <tr>\n",
       "      <th>AAACATGCAGCTAACC-1</th>\n",
       "      <td>False</td>\n",
       "      <td>NaN</td>\n",
       "      <td>NaN</td>\n",
       "      <td>NaN</td>\n",
       "      <td>NaN</td>\n",
       "      <td>NaN</td>\n",
       "      <td>NaN</td>\n",
       "    </tr>\n",
       "    <tr>\n",
       "      <th>AAACATGCAGTTTCTC-1</th>\n",
       "      <td>False</td>\n",
       "      <td>NaN</td>\n",
       "      <td>NaN</td>\n",
       "      <td>NaN</td>\n",
       "      <td>NaN</td>\n",
       "      <td>NaN</td>\n",
       "      <td>NaN</td>\n",
       "    </tr>\n",
       "    <tr>\n",
       "      <th>AAACCAACACTAAGAA-1</th>\n",
       "      <td>False</td>\n",
       "      <td>NaN</td>\n",
       "      <td>NaN</td>\n",
       "      <td>NaN</td>\n",
       "      <td>NaN</td>\n",
       "      <td>NaN</td>\n",
       "      <td>NaN</td>\n",
       "    </tr>\n",
       "    <tr>\n",
       "      <th>...</th>\n",
       "      <td>...</td>\n",
       "      <td>...</td>\n",
       "      <td>...</td>\n",
       "      <td>...</td>\n",
       "      <td>...</td>\n",
       "      <td>...</td>\n",
       "      <td>...</td>\n",
       "    </tr>\n",
       "    <tr>\n",
       "      <th>TTTGTGTTCGACCTGA-1</th>\n",
       "      <td>True</td>\n",
       "      <td>2225.0</td>\n",
       "      <td>1443.0</td>\n",
       "      <td>0.134831</td>\n",
       "      <td>4017.0</td>\n",
       "      <td>2007.0</td>\n",
       "      <td>0.0</td>\n",
       "    </tr>\n",
       "    <tr>\n",
       "      <th>TTTGTTGGTGAGAAAC-1</th>\n",
       "      <td>False</td>\n",
       "      <td>NaN</td>\n",
       "      <td>NaN</td>\n",
       "      <td>NaN</td>\n",
       "      <td>NaN</td>\n",
       "      <td>NaN</td>\n",
       "      <td>NaN</td>\n",
       "    </tr>\n",
       "    <tr>\n",
       "      <th>TTTGTTGGTGATCAGC-1</th>\n",
       "      <td>True</td>\n",
       "      <td>3708.0</td>\n",
       "      <td>1830.0</td>\n",
       "      <td>1.618123</td>\n",
       "      <td>4202.0</td>\n",
       "      <td>2159.0</td>\n",
       "      <td>1.0</td>\n",
       "    </tr>\n",
       "    <tr>\n",
       "      <th>TTTGTTGGTTAATGCG-1</th>\n",
       "      <td>False</td>\n",
       "      <td>NaN</td>\n",
       "      <td>NaN</td>\n",
       "      <td>NaN</td>\n",
       "      <td>NaN</td>\n",
       "      <td>NaN</td>\n",
       "      <td>NaN</td>\n",
       "    </tr>\n",
       "    <tr>\n",
       "      <th>TTTGTTGGTTCCTGTG-1</th>\n",
       "      <td>True</td>\n",
       "      <td>1016.0</td>\n",
       "      <td>790.0</td>\n",
       "      <td>3.543307</td>\n",
       "      <td>20299.0</td>\n",
       "      <td>9073.0</td>\n",
       "      <td>1.0</td>\n",
       "    </tr>\n",
       "  </tbody>\n",
       "</table>\n",
       "<p>4473 rows × 7 columns</p>\n",
       "</div>"
      ],
      "text/plain": [
       "                    qc_pass_seurat  nCount_RNA  nFeature_RNA  percent.mt  \\\n",
       "AAACATGCAAATGCCC-1            True     10461.0        3261.0    0.325017   \n",
       "AAACATGCACAACAAA-1            True      1244.0         942.0    0.000000   \n",
       "AAACATGCAGCTAACC-1           False         NaN           NaN         NaN   \n",
       "AAACATGCAGTTTCTC-1           False         NaN           NaN         NaN   \n",
       "AAACCAACACTAAGAA-1           False         NaN           NaN         NaN   \n",
       "...                            ...         ...           ...         ...   \n",
       "TTTGTGTTCGACCTGA-1            True      2225.0        1443.0    0.134831   \n",
       "TTTGTTGGTGAGAAAC-1           False         NaN           NaN         NaN   \n",
       "TTTGTTGGTGATCAGC-1            True      3708.0        1830.0    1.618123   \n",
       "TTTGTTGGTTAATGCG-1           False         NaN           NaN         NaN   \n",
       "TTTGTTGGTTCCTGTG-1            True      1016.0         790.0    3.543307   \n",
       "\n",
       "                    nCount_ATAC  nFeature_ATAC  seurat_clusters  \n",
       "AAACATGCAAATGCCC-1      12657.0         5758.0              1.0  \n",
       "AAACATGCACAACAAA-1       5262.0         2438.0              6.0  \n",
       "AAACATGCAGCTAACC-1          NaN            NaN              NaN  \n",
       "AAACATGCAGTTTCTC-1          NaN            NaN              NaN  \n",
       "AAACCAACACTAAGAA-1          NaN            NaN              NaN  \n",
       "...                         ...            ...              ...  \n",
       "TTTGTGTTCGACCTGA-1       4017.0         2007.0              0.0  \n",
       "TTTGTTGGTGAGAAAC-1          NaN            NaN              NaN  \n",
       "TTTGTTGGTGATCAGC-1       4202.0         2159.0              1.0  \n",
       "TTTGTTGGTTAATGCG-1          NaN            NaN              NaN  \n",
       "TTTGTTGGTTCCTGTG-1      20299.0         9073.0              1.0  \n",
       "\n",
       "[4473 rows x 7 columns]"
      ]
     },
     "execution_count": 2,
     "metadata": {},
     "output_type": "execute_result"
    }
   ],
   "source": [
    "root=\"/mnt/c/Users/ochapman/Documents/Mesirov/scRNA+ATAC/\"\n",
    "barcodes_file = root+\"RCMB56-ht/cellranger-2.0.0/outs/filtered_feature_bc_matrix/barcodes.tsv\"\n",
    "seurat_file = root+\"2021-08-29_seurat/rcmb56-ht_seurat_metadata.tsv\"\n",
    "\n",
    "ht = SingleCellExperiment(barcodes_file)\n",
    "ht.add_seurat(seurat_file)\n",
    "ht.df"
   ]
  },
  {
   "cell_type": "code",
   "execution_count": 6,
   "id": "02846285",
   "metadata": {
    "ExecuteTime": {
     "end_time": "2021-10-07T23:16:15.154472Z",
     "start_time": "2021-10-07T23:16:15.150997Z"
    }
   },
   "outputs": [
    {
     "data": {
      "text/plain": [
       "['/mnt/c/Users/ochapman/Documents/Mesirov/scRNA+ATAC/2021-10-07_better-background',\n",
       " '/home/ochapman/miniconda3/lib/python37.zip',\n",
       " '/home/ochapman/miniconda3/lib/python3.7',\n",
       " '/home/ochapman/miniconda3/lib/python3.7/lib-dynload',\n",
       " '',\n",
       " '/home/ochapman/.local/lib/python3.7/site-packages',\n",
       " '/home/ochapman/miniconda3/lib/python3.7/site-packages',\n",
       " '/home/ochapman/miniconda3/lib/python3.7/site-packages/IPython/extensions',\n",
       " '/home/ochapman/.ipython',\n",
       " '/mnt/c/Users/ochapman/Documents/Mesirov/scRNA+ATAC/']"
      ]
     },
     "execution_count": 6,
     "metadata": {},
     "output_type": "execute_result"
    }
   ],
   "source": [
    "sys.path"
   ]
  },
  {
   "cell_type": "code",
   "execution_count": null,
   "id": "5b11fa4c",
   "metadata": {},
   "outputs": [],
   "source": []
  }
 ],
 "metadata": {
  "kernelspec": {
   "display_name": "Python 3",
   "language": "python",
   "name": "python3"
  },
  "language_info": {
   "codemirror_mode": {
    "name": "ipython",
    "version": 3
   },
   "file_extension": ".py",
   "mimetype": "text/x-python",
   "name": "python",
   "nbconvert_exporter": "python",
   "pygments_lexer": "ipython3",
   "version": "3.7.8"
  }
 },
 "nbformat": 4,
 "nbformat_minor": 5
}
