{
 "cells": [
  {
   "cell_type": "code",
   "execution_count": 1,
   "id": "2a546498",
   "metadata": {
    "ExecuteTime": {
     "end_time": "2021-11-04T00:14:12.003487Z",
     "start_time": "2021-11-04T00:14:11.517689Z"
    }
   },
   "outputs": [
    {
     "name": "stdout",
     "output_type": "stream",
     "text": [
      "/mnt/c/Users/ochapman/Documents/Mesirov/scRNA+ATAC\n"
     ]
    }
   ],
   "source": [
    "import pandas as pd\n",
    "import os\n",
    "print(os.getcwd())\n",
    "import sys\n",
    "sys.path.append(\"/mnt/c/Users/ochapman/Documents/Mesirov/scRNA+ATAC/src\")\n",
    "from SingleCellExperiment import *"
   ]
  },
  {
   "cell_type": "markdown",
   "id": "5deff0e9",
   "metadata": {},
   "source": [
    "# Master table - pdx"
   ]
  },
  {
   "cell_type": "code",
   "execution_count": 2,
   "id": "bd7cdca4",
   "metadata": {
    "ExecuteTime": {
     "end_time": "2021-11-04T00:14:13.433799Z",
     "start_time": "2021-11-04T00:14:13.224990Z"
    }
   },
   "outputs": [
    {
     "data": {
      "text/plain": [
       "                    qc_pass_seurat  nCount_RNA  nFeature_RNA  percent.mt  \\\n",
       "AAACAGCCACTTCACT-1            True      6854.0        2536.0    2.203093   \n",
       "AAACAGCCAGCCAGAA-1            True     13131.0        4361.0    5.475592   \n",
       "AAACAGCCAGCTCATA-1           False         NaN           NaN         NaN   \n",
       "AAACAGCCAGGTTACC-1            True      7170.0        2925.0    1.283124   \n",
       "AAACAGCCATGTCAAT-1            True      5159.0        2561.0    2.674937   \n",
       "...                            ...         ...           ...         ...   \n",
       "TTTGTTGGTGCCGCAA-1            True      4804.0        2273.0    1.353039   \n",
       "TTTGTTGGTTACGCAA-1            True      7898.0        3327.0    3.849076   \n",
       "TTTGTTGGTTAGCGTA-1            True      3456.0        1875.0    4.021991   \n",
       "TTTGTTGGTTATCGAG-1            True      5949.0        2663.0    3.681291   \n",
       "TTTGTTGGTTTATCGC-1            True      5509.0        2480.0    2.087493   \n",
       "\n",
       "                    nCount_ATAC  nFeature_ATAC  seurat_cluster  \\\n",
       "AAACAGCCACTTCACT-1       2665.0         1324.0             0.0   \n",
       "AAACAGCCAGCCAGAA-1      12479.0         5839.0             5.0   \n",
       "AAACAGCCAGCTCATA-1          NaN            NaN             NaN   \n",
       "AAACAGCCAGGTTACC-1       1444.0          754.0             3.0   \n",
       "AAACAGCCATGTCAAT-1      24448.0         9744.0             8.0   \n",
       "...                         ...            ...             ...   \n",
       "TTTGTTGGTGCCGCAA-1      10197.0         4597.0             6.0   \n",
       "TTTGTTGGTTACGCAA-1       2417.0         1278.0             0.0   \n",
       "TTTGTTGGTTAGCGTA-1      12943.0         5930.0             3.0   \n",
       "TTTGTTGGTTATCGAG-1      17005.0         7813.0             6.0   \n",
       "TTTGTTGGTTTATCGC-1       2131.0         1101.0             1.0   \n",
       "\n",
       "                    ecDNA1_z-score  ecDNA1_p-val  ecDNA1_q-val  ...  \\\n",
       "AAACAGCCACTTCACT-1        4.049867      0.008991      0.011226  ...   \n",
       "AAACAGCCAGCCAGAA-1       11.829282      0.000999      0.001505  ...   \n",
       "AAACAGCCAGCTCATA-1             NaN           NaN           NaN  ...   \n",
       "AAACAGCCAGGTTACC-1       10.774812      0.000999      0.001505  ...   \n",
       "AAACAGCCATGTCAAT-1       26.966732      0.000999      0.001505  ...   \n",
       "...                            ...           ...           ...  ...   \n",
       "TTTGTTGGTGCCGCAA-1       16.363232      0.000999      0.001505  ...   \n",
       "TTTGTTGGTTACGCAA-1        2.400153      0.046953      0.052590  ...   \n",
       "TTTGTTGGTTAGCGTA-1        8.382252      0.000999      0.001505  ...   \n",
       "TTTGTTGGTTATCGAG-1        1.217666      0.116883      0.125228  ...   \n",
       "TTTGTTGGTTTATCGC-1       18.590338      0.000999      0.001505  ...   \n",
       "\n",
       "                   ecDNA2_z-score  ecDNA2_p-val  ecDNA2_q-val  ecDNA2_status  \\\n",
       "AAACAGCCACTTCACT-1      23.083645      0.000999      0.001796           True   \n",
       "AAACAGCCAGCCAGAA-1       3.011886      0.016983      0.022769           True   \n",
       "AAACAGCCAGCTCATA-1            NaN           NaN           NaN            NaN   \n",
       "AAACAGCCAGGTTACC-1       1.242266      0.058941      0.071087           True   \n",
       "AAACAGCCATGTCAAT-1       0.753836      0.183816      0.197627           True   \n",
       "...                           ...           ...           ...            ...   \n",
       "TTTGTTGGTGCCGCAA-1      20.752348      0.000999      0.001796           True   \n",
       "TTTGTTGGTTACGCAA-1       4.167562      0.006993      0.010199           True   \n",
       "TTTGTTGGTTAGCGTA-1       8.758988      0.000999      0.001796           True   \n",
       "TTTGTTGGTTATCGAG-1       1.968529      0.057942      0.070031           True   \n",
       "TTTGTTGGTTTATCGC-1       1.947919      0.028971      0.037220           True   \n",
       "\n",
       "                   ecDNA3_z-score  ecDNA3_p-val  ecDNA3_q-val  ecDNA3_status  \\\n",
       "AAACAGCCACTTCACT-1       1.320754      0.120879      0.367762          False   \n",
       "AAACAGCCAGCCAGAA-1       0.750554      0.156843      0.367762          False   \n",
       "AAACAGCCAGCTCATA-1            NaN           NaN           NaN            NaN   \n",
       "AAACAGCCAGGTTACC-1       0.422391      0.250749      0.367762          False   \n",
       "AAACAGCCATGTCAAT-1       1.665279      0.083916      0.367762          False   \n",
       "...                           ...           ...           ...            ...   \n",
       "TTTGTTGGTGCCGCAA-1       1.097280      0.136863      0.367762          False   \n",
       "TTTGTTGGTTACGCAA-1       0.406688      0.371628      0.406941          False   \n",
       "TTTGTTGGTTAGCGTA-1       1.059951      0.123876      0.367762          False   \n",
       "TTTGTTGGTTATCGAG-1       1.435496      0.089910      0.367762          False   \n",
       "TTTGTTGGTTTATCGC-1       0.390034      0.352647      0.395645          False   \n",
       "\n",
       "                   cs_ecDNA1 cs_ecDNA2&3  \n",
       "AAACAGCCACTTCACT-1       NaN         NaN  \n",
       "AAACAGCCAGCCAGAA-1     False       False  \n",
       "AAACAGCCAGCTCATA-1       NaN         NaN  \n",
       "AAACAGCCAGGTTACC-1       NaN         NaN  \n",
       "AAACAGCCATGTCAAT-1      True       False  \n",
       "...                      ...         ...  \n",
       "TTTGTTGGTGCCGCAA-1     False       False  \n",
       "TTTGTTGGTTACGCAA-1       NaN         NaN  \n",
       "TTTGTTGGTTAGCGTA-1     False       False  \n",
       "TTTGTTGGTTATCGAG-1     False       False  \n",
       "TTTGTTGGTTTATCGC-1       NaN         NaN  \n",
       "\n",
       "[12869 rows x 21 columns]"
      ]
     },
     "execution_count": 2,
     "metadata": {},
     "output_type": "execute_result"
    }
   ],
   "source": [
    "df = rcmb56pdx()\n",
    "df"
   ]
  },
  {
   "cell_type": "code",
   "execution_count": 3,
   "id": "55741114",
   "metadata": {
    "ExecuteTime": {
     "end_time": "2021-11-04T00:14:33.209564Z",
     "start_time": "2021-11-04T00:14:32.839740Z"
    }
   },
   "outputs": [],
   "source": [
    "df.df.to_csv('rcmb56-pdx_master_table.tsv',sep='\\t')"
   ]
  },
  {
   "cell_type": "markdown",
   "id": "65fa3829",
   "metadata": {},
   "source": [
    "# Master table - ht"
   ]
  },
  {
   "cell_type": "code",
   "execution_count": 3,
   "id": "5559a42e",
   "metadata": {
    "ExecuteTime": {
     "end_time": "2021-11-01T18:39:37.282547Z",
     "start_time": "2021-11-01T18:39:37.224161Z"
    }
   },
   "outputs": [],
   "source": [
    "df = rcmb56ht()"
   ]
  },
  {
   "cell_type": "code",
   "execution_count": 4,
   "id": "16d9e3ea",
   "metadata": {
    "ExecuteTime": {
     "end_time": "2021-11-01T18:39:41.167529Z",
     "start_time": "2021-11-01T18:39:41.146552Z"
    }
   },
   "outputs": [
    {
     "data": {
      "text/plain": [
       "                    qc_pass_seurat  nCount_RNA  nFeature_RNA  percent.mt  \\\n",
       "AAACATGCAAATGCCC-1            True     10461.0        3261.0    0.325017   \n",
       "AAACATGCACAACAAA-1            True      1244.0         942.0    0.000000   \n",
       "AAACATGCAGCTAACC-1           False         NaN           NaN         NaN   \n",
       "AAACATGCAGTTTCTC-1           False         NaN           NaN         NaN   \n",
       "AAACCAACACTAAGAA-1           False         NaN           NaN         NaN   \n",
       "...                            ...         ...           ...         ...   \n",
       "TTTGTGTTCGACCTGA-1            True      2225.0        1443.0    0.134831   \n",
       "TTTGTTGGTGAGAAAC-1           False         NaN           NaN         NaN   \n",
       "TTTGTTGGTGATCAGC-1            True      3708.0        1830.0    1.618123   \n",
       "TTTGTTGGTTAATGCG-1           False         NaN           NaN         NaN   \n",
       "TTTGTTGGTTCCTGTG-1            True      1016.0         790.0    3.543307   \n",
       "\n",
       "                    nCount_ATAC  nFeature_ATAC  seurat_clusters  \\\n",
       "AAACATGCAAATGCCC-1      12657.0         5758.0              1.0   \n",
       "AAACATGCACAACAAA-1       5262.0         2438.0              6.0   \n",
       "AAACATGCAGCTAACC-1          NaN            NaN              NaN   \n",
       "AAACATGCAGTTTCTC-1          NaN            NaN              NaN   \n",
       "AAACCAACACTAAGAA-1          NaN            NaN              NaN   \n",
       "...                         ...            ...              ...   \n",
       "TTTGTGTTCGACCTGA-1       4017.0         2007.0              0.0   \n",
       "TTTGTTGGTGAGAAAC-1          NaN            NaN              NaN   \n",
       "TTTGTTGGTGATCAGC-1       4202.0         2159.0              1.0   \n",
       "TTTGTTGGTTAATGCG-1          NaN            NaN              NaN   \n",
       "TTTGTTGGTTCCTGTG-1      20299.0         9073.0              1.0   \n",
       "\n",
       "                    metacell_clusters  ecDNA1_z-score  ecDNA1_p-val  \\\n",
       "AAACATGCAAATGCCC-1                1.0        0.579983      0.217782   \n",
       "AAACATGCACAACAAA-1               14.0        0.461447      0.549451   \n",
       "AAACATGCAGCTAACC-1                NaN             NaN           NaN   \n",
       "AAACATGCAGTTTCTC-1                NaN             NaN           NaN   \n",
       "AAACCAACACTAAGAA-1                NaN             NaN           NaN   \n",
       "...                               ...             ...           ...   \n",
       "TTTGTGTTCGACCTGA-1               37.0        0.132062      0.322677   \n",
       "TTTGTTGGTGAGAAAC-1                NaN             NaN           NaN   \n",
       "TTTGTTGGTGATCAGC-1                6.0        0.391852      0.256743   \n",
       "TTTGTTGGTTAATGCG-1                NaN             NaN           NaN   \n",
       "TTTGTTGGTTCCTGTG-1                5.0        0.093454      0.304695   \n",
       "\n",
       "                    ecDNA1_q-val ecDNA1_status  ecDNA2_z-score  ecDNA2_p-val  \\\n",
       "AAACATGCAAATGCCC-1      0.416112         False        0.769676      0.187812   \n",
       "AAACATGCACAACAAA-1      0.560143         False        0.327996      0.246753   \n",
       "AAACATGCAGCTAACC-1           NaN           NaN             NaN           NaN   \n",
       "AAACATGCAGTTTCTC-1           NaN           NaN             NaN           NaN   \n",
       "AAACCAACACTAAGAA-1           NaN           NaN             NaN           NaN   \n",
       "...                          ...           ...             ...           ...   \n",
       "TTTGTGTTCGACCTGA-1      0.418578         False        0.992345      0.101898   \n",
       "TTTGTTGGTGAGAAAC-1           NaN           NaN             NaN           NaN   \n",
       "TTTGTTGGTGATCAGC-1      0.416112         False        1.232803      0.119880   \n",
       "TTTGTTGGTTAATGCG-1           NaN           NaN             NaN           NaN   \n",
       "TTTGTTGGTTCCTGTG-1      0.416112         False        0.716991      0.184815   \n",
       "\n",
       "                    ecDNA2_q-val ecDNA2_status  ecDNA3_z-score  ecDNA3_p-val  \\\n",
       "AAACATGCAAATGCCC-1      0.290182         False        0.152088      0.323676   \n",
       "AAACATGCACAACAAA-1      0.297462         False        0.246886      0.455544   \n",
       "AAACATGCAGCTAACC-1           NaN           NaN             NaN           NaN   \n",
       "AAACATGCAGTTTCTC-1           NaN           NaN             NaN           NaN   \n",
       "AAACCAACACTAAGAA-1           NaN           NaN             NaN           NaN   \n",
       "...                          ...           ...             ...           ...   \n",
       "TTTGTGTTCGACCTGA-1      0.290182         False        0.139565      0.322677   \n",
       "TTTGTTGGTGAGAAAC-1           NaN           NaN             NaN           NaN   \n",
       "TTTGTTGGTGATCAGC-1      0.290182         False        0.121915      0.256743   \n",
       "TTTGTTGGTTAATGCG-1           NaN           NaN             NaN           NaN   \n",
       "TTTGTTGGTTCCTGTG-1      0.290182         False        0.198242      0.423576   \n",
       "\n",
       "                    ecDNA3_q-val ecDNA3_status  \n",
       "AAACATGCAAATGCCC-1      0.510369         False  \n",
       "AAACATGCACAACAAA-1      0.510369         False  \n",
       "AAACATGCAGCTAACC-1           NaN           NaN  \n",
       "AAACATGCAGTTTCTC-1           NaN           NaN  \n",
       "AAACCAACACTAAGAA-1           NaN           NaN  \n",
       "...                          ...           ...  \n",
       "TTTGTGTTCGACCTGA-1      0.510369         False  \n",
       "TTTGTTGGTGAGAAAC-1           NaN           NaN  \n",
       "TTTGTTGGTGATCAGC-1      0.510369         False  \n",
       "TTTGTTGGTTAATGCG-1           NaN           NaN  \n",
       "TTTGTTGGTTCCTGTG-1      0.510369         False  \n",
       "\n",
       "[4473 rows x 20 columns]"
      ]
     },
     "execution_count": 4,
     "metadata": {},
     "output_type": "execute_result"
    }
   ],
   "source": [
    "df"
   ]
  },
  {
   "cell_type": "code",
   "execution_count": 6,
   "id": "6e90bd15",
   "metadata": {
    "ExecuteTime": {
     "end_time": "2021-11-01T18:39:52.030944Z",
     "start_time": "2021-11-01T18:39:51.873094Z"
    }
   },
   "outputs": [],
   "source": [
    "df.df.to_csv('rcmb56-ht_master_table.tsv',sep='\\t')"
   ]
  },
  {
   "cell_type": "code",
   "execution_count": null,
   "id": "12b20052",
   "metadata": {},
   "outputs": [],
   "source": []
  }
 ],
 "metadata": {
  "kernelspec": {
   "display_name": "Python 3 (ipykernel)",
   "language": "python",
   "name": "python3"
  },
  "language_info": {
   "codemirror_mode": {
    "name": "ipython",
    "version": 3
   },
   "file_extension": ".py",
   "mimetype": "text/x-python",
   "name": "python",
   "nbconvert_exporter": "python",
   "pygments_lexer": "ipython3",
   "version": "3.7.8"
  }
 },
 "nbformat": 4,
 "nbformat_minor": 5
}
